{
 "cells": [
  {
   "cell_type": "markdown",
   "id": "433b0888",
   "metadata": {},
   "source": [
    "#  Détection de phonèmes par analyse du signal vocal\n",
    "\n",
    "L'objectif de ce TP consiste à détecter et reconnaître les phonèmes  à partir de fichiers sonores au format *.wav* via l'analyse cepstrale.\n",
    "\n",
    "\n",
    "\n",
    "Vous disposez d'une base d'apprentissage et une base de test. Il faut reconnaître tous les phénomènes suivants :\n",
    "$$'a','e','e\\_aigu','e\\_grave','i','o','o\\_ouvert','ou','u'$$\n"
   ]
  },
  {
   "cell_type": "code",
   "execution_count": 1,
   "id": "2272a9ec",
   "metadata": {},
   "outputs": [],
   "source": [
    "import matplotlib.pyplot as plt\n",
    "import numpy as np\n",
    "import scipy\n",
    "import sklearn as sk\n",
    "import math"
   ]
  },
  {
   "cell_type": "markdown",
   "id": "55335663",
   "metadata": {},
   "source": [
    "Les lignes de code suivantes permettent de transformer le fichier audio en matrice de paramètres appélés MFCC (Mel Frequency Cepstral Coefficient) en utilisant la librairie python *librosa*. Ces paramètres permettent d'extraire au mieux le contenu vocal fréquenciel du signal audio.\n",
    "\n",
    "Comme chaque fichier a une durée différente, on calcule la moyenne des MFCC sur toutes les fenêtres de discrétisation. \n",
    "\n",
    "La matrice de sortie est composée d'autant de vecteurs lignes que de fichiers audio. Le nombre de colonnes correspond à la dimension du vecteur moyen représentatif des MFCC : ici 13."
   ]
  },
  {
   "cell_type": "code",
   "execution_count": 2,
   "id": "1c038e36",
   "metadata": {},
   "outputs": [],
   "source": [
    "import librosa"
   ]
  },
  {
   "cell_type": "code",
   "execution_count": 3,
   "id": "f24e8bf3",
   "metadata": {},
   "outputs": [
    {
     "name": "stdout",
     "output_type": "stream",
     "text": [
      "(90, 13)\n"
     ]
    }
   ],
   "source": [
    "from os import listdir\n",
    "from os.path import isfile, join\n",
    "fichiers = [f for f in listdir(\"./Data/\")]\n",
    "sort_fichiers = sorted(fichiers)\n",
    "DataMFCC=[]\n",
    "label=[]\n",
    "#print(sort_fichiers)\n",
    "\n",
    "# Calcul des MFCC sur tous les fichiers de la base de données\n",
    "for i in range(len(sort_fichiers)):\n",
    "    # chargement du fichier audio\n",
    "    y, sr = librosa.load(\"./Data/\" + sort_fichiers[i])\n",
    "    mfccBA = librosa.feature.mfcc(y=y, sr=sr, hop_length=1024, htk=True, n_mfcc=13)\n",
    "    # Stockage et calcul du MFCC moyen pour le phonème\n",
    "    DataMFCC.append(np.mean(mfccBA,axis=1))\n",
    "    # Stockage de l'étiquette label\n",
    "    label.append(i//10)\n",
    "\n",
    "DataMFCC=np.asarray(DataMFCC)\n",
    "label=np.asarray(label)\n",
    "print(DataMFCC.shape)"
   ]
  },
  {
   "cell_type": "code",
   "execution_count": 4,
   "id": "194cf15e",
   "metadata": {},
   "outputs": [],
   "source": [
    "# Phonème associé à chaque valeur de label\n",
    "Liste_label=['a','e','e\\_aigu','e\\_grave','i','o','o\\_ouvert','ou','u'] "
   ]
  },
  {
   "cell_type": "code",
   "execution_count": 5,
   "id": "cdd02a6c",
   "metadata": {},
   "outputs": [
    {
     "name": "stdout",
     "output_type": "stream",
     "text": [
      "Dimension Base d apprentissage : (72, 13)\n",
      "Dimension Base de test : (18, 13)\n"
     ]
    }
   ],
   "source": [
    "# Séparation de l'ensemble de données en Base d'apprentissage et base de test\n",
    "from sklearn.model_selection import train_test_split\n",
    "\n",
    "X_train, X_test, y_train, y_test = train_test_split(DataMFCC, label, random_state=0,test_size=0.2)\n",
    "\n",
    "print('Dimension Base d apprentissage :', X_train.shape)\n",
    "print('Dimension Base de test :', X_test.shape)"
   ]
  },
  {
   "cell_type": "markdown",
   "id": "c6b295ee",
   "metadata": {},
   "source": [
    "# Partie I : Classification des phonèmes sans prétraitement \n",
    "\n",
    "Réaliser une classification de ces phonèmes par une méthode d'apprentissage supervisé et une méthode d'apprentissage non supervisé de votre choix en utilisant soit les codes des TP précédents, soit en utilisant la librairie *scikit-learn*.\n",
    "\n",
    "Pour chaque résultat obtenu, calculer la matrice de confusion et utiliser le triangle voyellique présenté ci-après pour interpréter les résultats.\n",
    "\n",
    "## Méthode supervisée  : \n",
    "indiquer quelle est la méthode superviée de votre choix et calculer la matrice de confusion associée. "
   ]
  },
  {
   "cell_type": "code",
   "execution_count": 6,
   "id": "55c4e232",
   "metadata": {},
   "outputs": [
    {
     "name": "stdout",
     "output_type": "stream",
     "text": [
      "[0 1 2 3 4 5 6 7 8]\n"
     ]
    }
   ],
   "source": [
    "from sklearn.tree import DecisionTreeClassifier as DTC\n",
    "treeCl = DTC()\n",
    "treeCl = treeCl.fit(X_train, y_train)\n",
    "y_pred_super = treeCl.predict(X_test)\n",
    "print(treeCl.classes_)"
   ]
  },
  {
   "cell_type": "code",
   "execution_count": 7,
   "id": "a497e023",
   "metadata": {},
   "outputs": [
    {
     "name": "stdout",
     "output_type": "stream",
     "text": [
      "positif = 88.888889%\n",
      "[[2 0 0 0 0 0 1 0 0]\n",
      " [0 2 0 0 0 0 0 0 0]\n",
      " [0 0 2 0 0 0 0 0 0]\n",
      " [0 0 0 2 0 0 0 0 0]\n",
      " [0 0 0 1 2 0 0 0 0]\n",
      " [0 0 0 0 0 2 0 0 0]\n",
      " [0 0 0 0 0 0 2 0 0]\n",
      " [0 0 0 0 0 0 0 1 0]\n",
      " [0 0 0 0 0 0 0 0 1]]\n"
     ]
    }
   ],
   "source": [
    "from sklearn.metrics import confusion_matrix\n",
    "from sklearn import cluster as cl\n",
    "\n",
    "# Calcul de la matrice de confusion\n",
    "conf = confusion_matrix(y_test, y_pred_super)\n",
    "print(\"positif = %f%%\" %((np.trace(conf)/18)*100))\n",
    "print(conf)"
   ]
  },
  {
   "cell_type": "markdown",
   "id": "7c3076a4",
   "metadata": {},
   "source": [
    "## Méthode non supervisée\n",
    "`\n",
    "indiquer quelle est la méthode non supervisée de votre choix et calculer la matrice de confusion associée. "
   ]
  },
  {
   "cell_type": "code",
   "execution_count": 63,
   "id": "0489dbdb",
   "metadata": {},
   "outputs": [],
   "source": [
    "#Classification specatrale\n",
    "clsp = cl.KMeans(n_clusters=9, random_state=0).fit(DataMFCC)\n",
    "y_pred_non_super = clsp.fit_predict(X_test)\n",
    "\n"
   ]
  },
  {
   "cell_type": "code",
   "execution_count": 64,
   "id": "5b21a95c",
   "metadata": {},
   "outputs": [
    {
     "name": "stdout",
     "output_type": "stream",
     "text": [
      "positif = 27.777778%\n",
      "[[2 0 0 0 0 0 0 0 1]\n",
      " [0 1 0 0 0 0 0 1 0]\n",
      " [0 0 0 1 0 0 1 0 0]\n",
      " [0 0 0 0 0 0 2 0 0]\n",
      " [0 0 2 1 0 0 0 0 0]\n",
      " [0 0 0 0 0 2 0 0 0]\n",
      " [0 0 0 0 0 0 0 0 2]\n",
      " [0 0 0 0 1 0 0 0 0]\n",
      " [0 0 0 0 0 0 0 1 0]]\n"
     ]
    }
   ],
   "source": [
    "# Calcul de la matrice de confusion\n",
    "conf = confusion_matrix(y_test, y_pred_non_super)\n",
    "print(\"positif = %f%%\" %((np.trace(conf)/18)*100))\n",
    "print(conf)"
   ]
  },
  {
   "cell_type": "markdown",
   "id": "7629a7cc",
   "metadata": {},
   "source": [
    "# Partie II : classification des phonèmes avec prétraitement \n",
    "\n",
    "\n",
    "## Méthode supervisée\n"
   ]
  },
  {
   "cell_type": "code",
   "execution_count": 54,
   "id": "9abe851b",
   "metadata": {},
   "outputs": [
    {
     "name": "stdout",
     "output_type": "stream",
     "text": [
      "[0 1 2 3 4 5 6 7 8]\n"
     ]
    }
   ],
   "source": [
    "from sklearn.decomposition import PCA\n",
    "\n",
    "pca_sup = PCA(n_components=0.7)\n",
    "transform_data_super = pca_sup.fit_transform(X_train)\n",
    "transform_data_test_super = pca_sup.transform(X_test)\n",
    "treeCl_pca = DTC()\n",
    "treeCl_pca = treeCl_pca.fit(transform_data_super, y_train)\n",
    "y_pred_super_pca = treeCl_pca.predict(transform_data_test_super)\n",
    "print(treeCl.classes_)\n",
    "\n"
   ]
  },
  {
   "cell_type": "code",
   "execution_count": 55,
   "id": "82d3ef05",
   "metadata": {},
   "outputs": [
    {
     "name": "stdout",
     "output_type": "stream",
     "text": [
      "positif = 83.333333%\n",
      "[[3 0 0 0 0 0 0 0 0]\n",
      " [0 1 0 0 0 0 0 0 1]\n",
      " [0 0 2 0 0 0 0 0 0]\n",
      " [0 0 0 2 0 0 0 0 0]\n",
      " [0 0 1 0 2 0 0 0 0]\n",
      " [0 0 0 0 0 2 0 0 0]\n",
      " [1 0 0 0 0 0 1 0 0]\n",
      " [0 0 0 0 0 0 0 1 0]\n",
      " [0 0 0 0 0 0 0 0 1]]\n"
     ]
    }
   ],
   "source": [
    "# Calcul de la matrice de confusion\n",
    "conf = confusion_matrix(y_test, y_pred_super_pca)\n",
    "print(\"positif = %f%%\" %((np.trace(conf)/18)*100))\n",
    "print(conf)"
   ]
  },
  {
   "cell_type": "markdown",
   "id": "8af6727e",
   "metadata": {},
   "source": [
    "## Méthode non supervisée"
   ]
  },
  {
   "cell_type": "code",
   "execution_count": 61,
   "id": "fd9c71b6",
   "metadata": {},
   "outputs": [],
   "source": [
    "pca_non_sup = PCA(n_components=0.85)\n",
    "transform_data_non_super = pca_non_sup.fit_transform(X_train)\n",
    "transform_data_test_non_super = pca_non_sup.transform(X_test)\n",
    "\n",
    "clsp_pca = cl.KMeans(n_clusters=9, random_state=0).fit(transform_data_non_super, y_train)\n",
    "y_pred_non_super = clsp_pca.fit_predict(transform_data_test_non_super)"
   ]
  },
  {
   "cell_type": "code",
   "execution_count": 57,
   "id": "b8b685b5",
   "metadata": {},
   "outputs": [
    {
     "name": "stdout",
     "output_type": "stream",
     "text": [
      "positif = 38.888889%\n",
      "[[2 0 0 0 0 0 1 0 0]\n",
      " [0 0 0 1 0 0 0 0 1]\n",
      " [0 0 0 0 1 0 0 1 0]\n",
      " [0 0 0 0 2 0 0 0 0]\n",
      " [0 2 0 0 0 0 0 1 0]\n",
      " [0 0 0 0 0 2 0 0 0]\n",
      " [0 0 0 0 0 0 2 0 0]\n",
      " [0 0 1 0 0 0 0 0 0]\n",
      " [0 0 0 0 0 0 0 0 1]]\n"
     ]
    }
   ],
   "source": [
    "# Calcul de la matrice de confusion\n",
    "conf = confusion_matrix(y_test, y_pred_non_super)\n",
    "print(\"positif = %f%%\" %((np.trace(conf)/18)*100))\n",
    "print(conf)"
   ]
  },
  {
   "attachments": {},
   "cell_type": "markdown",
   "id": "e969504a",
   "metadata": {},
   "source": [
    "## Partie III : Analyse des résultats \n",
    "\n",
    "Pour chaque résultat obtenu, calculer la matrice de confusion et utiliser le triangle voyellique présenté ci-après pour interpréter les résultats.\n",
    "\n",
    "<img src=\"./files/triangle_voyellique.jpg\" width=\"600\" height=\"600\"  >"
   ]
  },
  {
   "cell_type": "markdown",
   "id": "957d67c6",
   "metadata": {},
   "source": [
    "### Sans prétraitrement:\n",
    "\n",
    "#### Méthode supervisé:\n",
    "Pour la méthode superviśe nous avons utilsé celle des arbres de décision. Nous obtenons des résultats efficaces de l'ordre 85%.\n",
    "\n",
    "#### Méthode non supervisé:"
   ]
  },
  {
   "cell_type": "code",
   "execution_count": null,
   "id": "4e848298",
   "metadata": {},
   "outputs": [],
   "source": []
  },
  {
   "cell_type": "code",
   "execution_count": null,
   "id": "76582680",
   "metadata": {},
   "outputs": [],
   "source": []
  },
  {
   "cell_type": "code",
   "execution_count": null,
   "id": "528b319d",
   "metadata": {},
   "outputs": [],
   "source": []
  }
 ],
 "metadata": {
  "kernelspec": {
   "display_name": "Python 3.8.10 64-bit",
   "language": "python",
   "name": "python3"
  },
  "language_info": {
   "codemirror_mode": {
    "name": "ipython",
    "version": 3
   },
   "file_extension": ".py",
   "mimetype": "text/x-python",
   "name": "python",
   "nbconvert_exporter": "python",
   "pygments_lexer": "ipython3",
   "version": "3.8.10"
  },
  "vscode": {
   "interpreter": {
    "hash": "916dbcbb3f70747c44a77c7bcd40155683ae19c65e1c03b4aa3499c5328201f1"
   }
  }
 },
 "nbformat": 4,
 "nbformat_minor": 5
}

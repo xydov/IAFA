{
 "cells": [
  {
   "cell_type": "markdown",
   "id": "contained-community",
   "metadata": {},
   "source": [
    "# TP2 - Reconnaissance de chiffres manuscrits par $k$ plus proches voisins\n",
    "\n",
    "L'objectif de ce TP est de reconnaître des chiffres manuscrits d'une base de test à partir d'une base d'apprentissage et de la méthode des $k$ plus proches voisins. \n",
    "La base de données du MNIST{\\footnote{http://yann.lecun.com/exdb/mnist/}} sur les chiffres manuscrits comprend un ensemble de 60 000 exemples d'apprentissage (*database_train_images*) et un ensemble de 10 000 exemples de test (*database_test_images*).  Les chiffres, dont quelques exemples sont représentés sur la figure ci-dessous, ont été normalisés et centrés dans une image de taille fixe $28\\times 28$ pixels. \n",
    "\n",
    "<img src=\"files/MNIST.PNG\" width=\"600\" height=\"400\"  >\n",
    "\n",
    "\n",
    "\n",
    "\n",
    "Chaque image est considérée comme un vecteur 1D de $28\\times 28=784$ coordonnées. On fournit les labels des ensembles d'apprentissage (*y_train*) et de test \n",
    "(*y_test*)."
   ]
  },
  {
   "cell_type": "code",
   "execution_count": 1,
   "id": "brutal-increase",
   "metadata": {},
   "outputs": [],
   "source": [
    "import matplotlib.pyplot as plt\n",
    "import numpy as np\n",
    "import sklearn\n",
    "import pandas as pd\n",
    "import math\n",
    "import scipy as sc\n",
    "from sklearn.metrics.pairwise import euclidean_distances"
   ]
  },
  {
   "cell_type": "markdown",
   "id": "occupied-planet",
   "metadata": {},
   "source": [
    "### Chargement de la base de données MNIST\n",
    "\n",
    "Lien du dataset des chiffres manuscrits :\n",
    "http://yann.lecun.com/exdb/mnist/"
   ]
  },
  {
   "cell_type": "code",
   "execution_count": 2,
   "id": "3abcfcc4",
   "metadata": {},
   "outputs": [
    {
     "name": "stdout",
     "output_type": "stream",
     "text": [
      "DataApp: (60000, 784)\n",
      "LabelApp: (10000, 784)\n",
      "DataTest:  (60000,)\n",
      "LabelTest:  (10000,)\n"
     ]
    }
   ],
   "source": [
    "from sklearn.datasets import fetch_openml\n",
    "mnist = fetch_openml(\"mnist_784\")\n",
    "\n",
    "X, y = mnist[\"data\"], mnist[\"target\"]\n",
    "\n",
    "DataApp , DataTest , LabelApp , LabelTest = X[:60000] , X[60000:] , y[:60000] , y[60000:]\n",
    "\n",
    "print('DataApp: ' + str(DataApp.shape))\n",
    "print('LabelApp: ' + str(DataTest.shape))\n",
    "print('DataTest:  '  + str(LabelApp.shape))\n",
    "print('LabelTest:  '  + str(LabelTest.shape))\n",
    "\n",
    "# Conversion en matrices\n",
    "DataApp=np.asarray(DataApp)\n",
    "DataTest=np.asarray(DataTest)\n",
    "LabelApp=np.asarray(LabelApp)\n",
    "LabelTest=np.asarray(LabelTest)"
   ]
  },
  {
   "cell_type": "code",
   "execution_count": 3,
   "id": "13456dfe",
   "metadata": {},
   "outputs": [
    {
     "data": {
      "image/png": "[encoded data removed]",
      "text/plain": [
       "<Figure size 432x288 with 1 Axes>"
      ]
     },
     "metadata": {
      "needs_background": "light"
     },
     "output_type": "display_data"
    },
    {
     "name": "stdout",
     "output_type": "stream",
     "text": [
      "le label de cette image d'apprentissage est : 3\n"
     ]
    },
    {
     "data": {
      "image/png": "[encoded data removed]",
      "text/plain": [
       "<Figure size 432x288 with 1 Axes>"
      ]
     },
     "metadata": {
      "needs_background": "light"
     },
     "output_type": "display_data"
    },
    {
     "name": "stdout",
     "output_type": "stream",
     "text": [
      "le label de cette image de test est : 8\n"
     ]
    }
   ],
   "source": [
    "# Affichage d'images de ce jeu de données : \n",
    "\n",
    "# on affiche une donnée image de X_train et X_test :\n",
    "NumImageTrain=12345 # à choisir entre 0 et 59999\n",
    "Exple1=DataApp[NumImageTrain,:]\n",
    "ImExple1=np.reshape(Exple1,[28,28])\n",
    "plt.imshow(ImExple1)\n",
    "plt.show()\n",
    "print(\"le label de cette image d'apprentissage est :\", LabelApp[NumImageTrain])\n",
    "\n",
    "NumImageTest=1234 # à choisir entre 0 et 9999\n",
    "Exple2=DataTest[NumImageTest,:]\n",
    "ImExple2=np.reshape(Exple2,[28,28])\n",
    "plt.imshow(ImExple2)\n",
    "plt.show()\n",
    "print(\"le label de cette image de test est :\", LabelTest[NumImageTest])"
   ]
  },
  {
   "cell_type": "code",
   "execution_count": null,
   "id": "1dec1694",
   "metadata": {},
   "outputs": [],
   "source": []
  },
  {
   "cell_type": "markdown",
   "id": "flying-cream",
   "metadata": {},
   "source": [
    "## Exercice 1 : méthode des $k$ plus proches voisins\n",
    "\n",
    "En intelligence artificielle, la méthode des $k$ plus proches voisins  ($k$-ppv) est une méthode d'apprentissage supervisé. \n",
    "Dans ce cadre, on dispose d'une base de données d'apprentissage constituée de couples « donnée-label ». Pour estimer la sortie associée à une nouvelle entrée $x$, la méthode des $k$ plus proches voisins consiste à prendre en compte (de façon identique) les $k$ échantillons d'apprentissage dont l'entrée est la plus proche de la nouvelle entrée $x$, selon une distance à définir. L'algorithme  associé  et un exemple sont donnés par la suite.\n",
    "\n",
    "\n",
    "\n",
    "<img src=\"files/AlgoKppv.png\" width=\"900\" height=\"800\"  >\n",
    "\n",
    "<img src=\"files/kppv.png\" width=\"300\" height=\"300\"  >\n",
    "\n",
    "\n",
    "**Exemple de classification $k$-ppv:** L'échantillon de test (cercle vert) doit être classé soit dans la première classe des carrés bleus, soit dans la deuxième classe des triangles rouges. Si k = 3 (cercle plein), il est assigné à la deuxième classe parce qu'il y a 2 triangles et seulement 1 carré à l'intérieur du cercle intérieur. Si k = 5 (cercle en pointillés), il est assigné à la première classe (3 carrés contre 2 triangles à l'intérieur du cercle extérieur)"
   ]
  },
  {
   "cell_type": "markdown",
   "id": "suffering-forum",
   "metadata": {},
   "source": [
    "**Question :**\n",
    "En utilisant la distance euclidienne, complétez la fonction *kppv* permettant d'effectuer la classification par $k$-ppv sur un ensemble de test à partir d'un ensemble d'apprentissage et de leurs labels et en spécifiant le nombre $k$  voisins que l'on cherche.  \n",
    "\n"
   ]
  },
  {
   "cell_type": "markdown",
   "id": "70a98630",
   "metadata": {},
   "source": [
    "### Fonctions python intéressantes : \n",
    "Liste de fonctions (librairies) :\n",
    "\n",
    "- euclidean_distance (sklearn) \n",
    "- mode (scipy.stats) [à changer pour traiter le cas d'égalité]\n",
    "- argsort (numpy)\n"
   ]
  },
  {
   "cell_type": "code",
   "execution_count": 4,
   "id": "bigger-insulation",
   "metadata": {},
   "outputs": [],
   "source": [
    "def kppv(DataApp,DataTest,labelApp,K,Nt_test):\n",
    "\n",
    "    Na=DataApp.shape[0]\n",
    "    Nt=DataTest.shape[0]\n",
    "\n",
    "    \n",
    "    # Initialisation du vecteur d'etiquetage des images tests\n",
    "    Partition = np.zeros((Nt_test,1));\n",
    "\n",
    "    # Boucle sur les vecteurs test de l'ensemble de l'evaluation\n",
    "    for i in range(Nt_test):\n",
    "    \n",
    "        print('Image test n',i)\n",
    "\n",
    "        # Calcul des distances entre les vecteurs de test \n",
    "        # et les vecteurs d'apprentissage (voisins)\n",
    "        # A COMPLETER\n",
    "    \n",
    "        # On ne garde que les indices des K + proches voisins\n",
    "        # A COMPLETER\n",
    "    \n",
    "        # Comptage du nombre de voisins appartenant a chaque classe\n",
    "        # A COMPLETER\n",
    "    \n",
    "        # Recherche de la classe contenant le maximum de voisins\n",
    "        # A COMPLETER\n",
    "    \n",
    "        # Si l'image test a le plus grand nombre de voisins dans plusieurs  \n",
    "        # classes differentes, alors on lui assigne celle du voisin le + proche,\n",
    "        # sinon on lui assigne l'unique classe contenant le plus de voisins \n",
    "        # A COMPLETER\n",
    "    \n",
    "        # Assignation de l'etiquette correspondant ‡ la classe trouvee au point \n",
    "        # correspondant a la i-eme image test dans le vecteur \"Partition\" \n",
    "        # A  COMPLETER\n",
    "    \n",
    "\n",
    "    return Partition"
   ]
  },
  {
   "cell_type": "code",
   "execution_count": 8,
   "id": "infectious-diving",
   "metadata": {},
   "outputs": [
    {
     "name": "stdout",
     "output_type": "stream",
     "text": [
      "Image test n 0\n",
      "Image test n 1\n",
      "Image test n 2\n",
      "Image test n 3\n",
      "Image test n 4\n",
      "Image test n 5\n",
      "Image test n 6\n",
      "Image test n 7\n",
      "Image test n 8\n",
      "Image test n 9\n"
     ]
    }
   ],
   "source": [
    "# Choix du nombre de voisins\n",
    "K = 1;\n",
    "\n",
    "# Nombre de données à tester\n",
    "Nt=DataTest.shape[0]\n",
    "Nt_test = int(Nt/1000); # A changer, pouvant aller jusqu'a Nt\n",
    "\n",
    "\n",
    "# Classement par aux k-ppv\n",
    "Partition = kppv(DataApp,DataTest,LabelApp,K,Nt_test);\n",
    "\n",
    "# Affichage des résultats de prédiction et de vérité terrainMatriceConfusion=np.zeros((10,10))\n",
    "#print('Resultat Kppv',Partition.T)\n",
    "#print('Vérité terrain',LabelTest[:Nt_test])"
   ]
  },
  {
   "cell_type": "markdown",
   "id": "seventh-merchandise",
   "metadata": {},
   "source": [
    "## Exercice 2 : évaluation de la reconnaissance\n",
    "\n",
    "En disposant des labels exacts des données de l'ensemble de test, l'évaluation de la bonne reconnaissance est réalisée par une matrice de confusion et par un taux d'erreur:\n",
    "- La matrice de confusion est une matrice $10\\times 10$ dont l'élément générique d'indice $(i,j)$ est le nombre de vecteurs de classe correspondant à l'indice $i$ qui ont été affectés à la classe correspondant à l'indice $j$ par le processus de décision. Si la matrice de confusion est diagonale alors la reconnaissance est parfaite.\n",
    "- le taux d'erreur correspond à un pourcentage défini par le nombre d'éléments hors diagonaux de la matrice de confusion divisé par le nombre total d'éléments testés.\n",
    "\n",
    "<img src=\"files/MatConfus.PNG\" width=\"600\" height=\"400\"  >\n"
   ]
  },
  {
   "cell_type": "markdown",
   "id": "prospective-buyer",
   "metadata": {},
   "source": [
    "**Question :**\n",
    "- En utilisant les labels de l'ensemble de test, complétez *kppv* afin de rajouter le calcul de la matrice de confusion et le taux d'erreur.\n",
    "- Testez l'algorithme pour $k=1$ et $k=10$ et calculez les taux d'erreur respectifs."
   ]
  },
  {
   "cell_type": "code",
   "execution_count": null,
   "id": "included-transportation",
   "metadata": {},
   "outputs": [],
   "source": []
  }
 ],
 "metadata": {
  "kernelspec": {
   "display_name": "Python 3 (ipykernel)",
   "language": "python",
   "name": "python3"
  },
  "language_info": {
   "codemirror_mode": {
    "name": "ipython",
    "version": 3
   },
   "file_extension": ".py",
   "mimetype": "text/x-python",
   "name": "python",
   "nbconvert_exporter": "python",
   "pygments_lexer": "ipython3",
   "version": "3.8.13"
  }
 },
 "nbformat": 4,
 "nbformat_minor": 5
}

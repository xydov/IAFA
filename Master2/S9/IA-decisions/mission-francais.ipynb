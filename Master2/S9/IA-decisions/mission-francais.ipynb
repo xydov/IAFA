{
 "cells": [
  {
   "cell_type": "markdown",
   "metadata": {},
   "source": [
    "# Case study :  Gestion de mission satellite\n",
    "\n",
    "\n",
    "\n",
    "\n",
    "Cette série d'exercices utilise la boîte à outils MDP développée à l'INRAE\n",
    "https://pymdptoolbox.readthedocs.io/en/latest/index.html\n",
    "\n",
    "Installez-la (si elle n'est pas déjà installée) et importer la toolbox"
   ]
  },
  {
   "cell_type": "code",
   "execution_count": 6,
   "metadata": {},
   "outputs": [],
   "source": [
    "import mdptoolbox, mdptoolbox.example, mdptoolbox.util, numpy\n"
   ]
  },
  {
   "cell_type": "markdown",
   "metadata": {},
   "source": [
    "Considérons un satellite géostationnaire dont la mission est d'acquérir des informations sur certaines zones géographiques. Il peut pointer sur une zone et acquérir des images (action \"Mission\"), pointer la station terrestre, décharger les informations acquises et vider sa mémoire (action \"Upload\") ou encore s'orienter afin que ses panneaux solaires se chargent (action \"Charge\"). Certaines de ces actions peuvent échouer lorsqu'il n'y a pas assez de charge ou parce que la mémoire est pleine.\n",
    "\n",
    "Dans un modèle simple, on considère trois états normaux \"Acquire\", \"Earth Station\" et \"Solar\" ; et deux états d'erreur \"Memory Full\" et \"Battery Low\".\n",
    "\n",
    "L'effet des actions est le suivant:\n",
    "\n",
    "- L'action \"Charge\" fonctionne toujours - le satellite passe en état \"Solar\".\n",
    "\n",
    "- L'action \"Upload\" peut échouer (avec une probabilité \\(e\\)) quand la batterie devient trop basse:\n",
    "  - Quand on l'exécute dans les états \"Acquire\", \"Memory Full\" ou \"Earth Station\", elle amène à l'état \"Low Battery\" avec la probabilité \\(e\\), et à l'état \"Earth Station\" avec la probabilité \\(1 - e\\).\n",
    "  - Quand on l'exécute dans l'état \"Low Battery\", rien ne se produit et l'action laisse le satellite dans l'état \"Low Battery\".\n",
    "  - Quand on l'exécute dans l'état \"Solar\", l'action \"Upload\" fonctionne toujours et amène à l'état \"Earth Station\".\n",
    "\n",
    "- L'action \"Mission\" peut échouer (avec une probabilité \\(e\\)) quand la batterie devient trop basse ou que trop d'observations sont déjà enregistrées en mémoire (probabilité \\(p\\)):\n",
    "  - Quand on l'exécute dans l'état \"Acquire\", elle amène à l'état \"Low Battery\" avec une probabilité \\(e\\), à l'état \"Memory Full\" avec une probabilité \\(p\\), et à l'état \"Acquire\" sinon.\n",
    "  - Quand on l'exécute dans l'état \"Earth Station\", elle amène à l'état \"Low Battery\" avec une probabilité \\(e\\), à l'état \"Acquire\" avec une probabilité \\(1 - e\\).\n",
    "  - Quand on l'exécute dans l'état \"Solar\", elle amène à l'état \"Memory Full\" avec une probabilité \\(p\\), à l'état \"Acquire\" avec une probabilité \\(1 - p\\).\n",
    "  - Quand on l'exécute dans l'état \"Memory Full\", l'action \"Mission\" est rejetée et le satellite reste dans l'état \"Memory Full\".\n",
    "  - Quand on l'exécute dans l'état \"Low Battery\", l'action \"Mission\" est rejetée et le satellite reste dans l'état \"Low Battery\".\n",
    "\n",
    "Les récompenses sont les suivantes:\n",
    "\n",
    "- La récompense à être dans l'état Acquisition est notée \\(r_a\\).\n",
    "- La récompense à être dans l'état Earth Station est notée \\(r_e\\).\n",
    "- Les récompenses à être dans les états Low Battery ou Solar sont \\(r_l\\) et \\(r_s\\) respectivement.\n",
    "- Quand exécutées dans l'état Memory Full, les actions \"Charge\" et \"Mission\" ont une récompense de \\(r_{lost}\\) (la mémoire est automatiquement vidée).\n"
   ]
  },
  {
   "cell_type": "markdown",
   "metadata": {},
   "source": [
    "\n",
    " \n"
   ]
  },
  {
   "cell_type": "markdown",
   "metadata": {},
   "source": [
    "\n",
    "#### TODO\n",
    "\n",
    "A. Modéliser le probleme par un MDP  ( horizon infini)  et decrire votre modele en details\n",
    "- en particulier, dessiner le MDP et fournir les matrices de récompense et de transition. Expliquer et justifez votre modélisation.\n",
    "\n",
    "B. Proposer des valeurs pour les r\\'ecompenses qui sont coh\\'erentes avec l'intuition (justifiez votre r\\'eponse)\n",
    "\n",
    "C. Utiliser l'algortihme d'iteration de la valeur (ou d'iteration de la politique) pour determiner la meilleure politique\n",
    "\n",
    "* Quand les probabilités  e de manquer d ' elecrticité et p  que la memoire soit pleine sont faibles\n",
    "* Quand la probabilité  p que la memoire soit pleine est haute  et e faible \n",
    "* Quand les probabilités  e de manquer d ' elecrticité est haute et p faible\n",
    "* Quand  les deux probabilités p et e sont hautes.\n",
    "\n",
    "(interpreter et expliquer vos resultats)\n",
    "\n",
    "Ne pas oublier de fournir votre programme pour que je puisse le faire tourner"
   ]
  },
  {
   "cell_type": "markdown",
   "metadata": {},
   "source": [
    " \n",
    "\n",
    "\n",
    "\n",
    "\n",
    "Poster votre programme ici :\n"
   ]
  },
  {
   "cell_type": "code",
   "execution_count": null,
   "metadata": {
    "collapsed": true,
    "jupyter": {
     "outputs_hidden": true
    }
   },
   "outputs": [],
   "source": []
  },
  {
   "cell_type": "markdown",
   "metadata": {},
   "source": [
    "\n",
    "Optionnel : complexifiez  votre programme afin de prendre en compte plusieurs niveaux de batterie (fort, moyen, faible, très faible par exemple)"
   ]
  },
  {
   "cell_type": "code",
   "execution_count": null,
   "metadata": {
    "collapsed": true,
    "jupyter": {
     "outputs_hidden": true
    }
   },
   "outputs": [],
   "source": []
  }
 ],
 "metadata": {
  "kernelspec": {
   "display_name": "Python 3",
   "language": "python",
   "name": "python3"
  },
  "language_info": {
   "codemirror_mode": {
    "name": "ipython",
    "version": 3
   },
   "file_extension": ".py",
   "mimetype": "text/x-python",
   "name": "python",
   "nbconvert_exporter": "python",
   "pygments_lexer": "ipython3",
   "version": "3.8.3"
  }
 },
 "nbformat": 4,
 "nbformat_minor": 4
}

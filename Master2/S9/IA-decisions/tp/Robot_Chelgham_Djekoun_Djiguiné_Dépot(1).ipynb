{
  "cells": [
    {
      "cell_type": "code",
      "execution_count": 1,
      "metadata": {
        "id": "HFSI8tUfdDWx",
        "jupyter": {
          "outputs_hidden": true
        }
      },
      "outputs": [],
      "source": [
        "#    pip install pymdptoolbox\n",
        "#Pour ce installez la (si ce n'est dejà fait) et importez la toolbox et les exemples"
      ]
    },
    {
      "cell_type": "code",
      "execution_count": 2,
      "metadata": {
        "colab": {
          "base_uri": "https://localhost:8080/"
        },
        "id": "JCjaEvV8L16v",
        "outputId": "fa561dce-4154-4643-b552-390f5e8fb492"
      },
      "outputs": [
        {
          "output_type": "stream",
          "name": "stdout",
          "text": [
            "Collecting pymdptoolbox\n",
            "  Downloading pymdptoolbox-4.0-b3.zip (29 kB)\n",
            "  Preparing metadata (setup.py) ... \u001b[?25l\u001b[?25hdone\n",
            "Requirement already satisfied: numpy in /usr/local/lib/python3.10/dist-packages (from pymdptoolbox) (1.26.4)\n",
            "Requirement already satisfied: scipy in /usr/local/lib/python3.10/dist-packages (from pymdptoolbox) (1.13.1)\n",
            "Building wheels for collected packages: pymdptoolbox\n",
            "  Building wheel for pymdptoolbox (setup.py) ... \u001b[?25l\u001b[?25hdone\n",
            "  Created wheel for pymdptoolbox: filename=pymdptoolbox-4.0b3-py3-none-any.whl size=25656 sha256=9fab7a82cb5fac0f50c4d7b62007599c655b7a02d599bfa8ffc5ccc6850817da\n",
            "  Stored in directory: /root/.cache/pip/wheels/2b/e7/c7/d7abf9e309f3573a934fed2750c70bd75d9e9d901f7f16e183\n",
            "Successfully built pymdptoolbox\n",
            "Installing collected packages: pymdptoolbox\n",
            "Successfully installed pymdptoolbox-4.0b3\n"
          ]
        }
      ],
      "source": [
        "pip install pymdptoolbox"
      ]
    },
    {
      "cell_type": "code",
      "execution_count": 3,
      "metadata": {
        "colab": {
          "base_uri": "https://localhost:8080/"
        },
        "id": "HY2BU8AkgLEL",
        "outputId": "00e30a06-28f7-4f45-8ebb-6b8f8dcc38e3"
      },
      "outputs": [
        {
          "output_type": "stream",
          "name": "stdout",
          "text": [
            "\u001b[31mERROR: Could not find a version that satisfies the requirement mdptoolbox (from versions: none)\u001b[0m\u001b[31m\n",
            "\u001b[0m\u001b[31mERROR: No matching distribution found for mdptoolbox\u001b[0m\u001b[31m\n",
            "\u001b[0m"
          ]
        }
      ],
      "source": [
        "pip install mdptoolbox"
      ]
    },
    {
      "cell_type": "code",
      "execution_count": 4,
      "metadata": {
        "collapsed": true,
        "id": "198rjgsHdDWz",
        "jupyter": {
          "outputs_hidden": true
        }
      },
      "outputs": [],
      "source": [
        "import mdptoolbox, mdptoolbox.example, mdptoolbox.util\n",
        "import numpy as np"
      ]
    },
    {
      "cell_type": "markdown",
      "metadata": {
        "id": "2sAYhMh-dDWz"
      },
      "source": [
        "# Le Robot Netoyeur"
      ]
    },
    {
      "cell_type": "markdown",
      "metadata": {
        "id": "BfUgC19_dDW2"
      },
      "source": [
        "A rendre pour le  15 novembre ( rendre votre note book  plus un petit rapport decrivant votre MDP, incluant un shema du mdp)\n",
        "\n",
        "On considère un robot ménager. Il peut se trouver soit dans le salon, soit à sa station de charge, soit être à court de batterie. Le salon peut être propre ou sale. Il y a donc cinq états : LD (dans le salon, sale), LC (dans le salon, propre), CD (au chargeur, sale), CC (au chargeur, propre), O (hors tension).\n",
        "\n",
        "\n",
        "####  \n",
        "Dans le salon, le robot peut choisir de nettoyer ou de charger.\n",
        "\n",
        "Lorsqu'il se trouve dans la station de charge, le robot peut choisir de nettoyer ou de continuer à charger.\n",
        "\n",
        "Lorsqu'il est hors tension,  chacune des deux actions (nettoyer, charger) aboutit au même résultat : rester hors tension.\n",
        "\n",
        "####  \n",
        "\n",
        "Le reward pour être dans un état propre est noté rc\n",
        "\n",
        "Le reward pour être dans un état sale est  noté rd, et tel que  rd < rc  \n",
        "\n",
        "Le reward pour être hors tension est noté costcrash - il doit être inférieur ou égal à rd ; on peut le fixer égal à rd dans un premier temps (les salond deviennent sales  quand on ne les nettoie pas)\n",
        "\n",
        "\n",
        "####  \n",
        "\n",
        "     \n",
        "Lorsque le robot décide de nettoyer,\n",
        "* s'il est dans le salon, il risque de tomber en panne d'électricité avec une probabilité e\n",
        "* s'il se trouve dans la station de charge, il ne risque pas de tomber en panne d'électricité   \n",
        "* le nettoyage d'un sol propre le laisse propre\n",
        "* Le nettoyage d'un sol sale peut parfois échouer (même si la batterie est en bon état) - soit eps la probabilité d'échec du nettoyage.\n",
        "\n",
        "Lorsque le robot décide de se recharger, l'action de rechargement l'amène toujours à la station de recharge. Lorsque le robot charge,   peut passer de propre à sale avec une probabilité pDust - et bien sur, si le salon est déjà sale, il reste sale lorsque le robot est en charge\n"
      ]
    },
    {
      "cell_type": "markdown",
      "metadata": {
        "id": "e4WhLWa479bY"
      },
      "source": [
        "# **Modélisation**"
      ]
    },
    {
      "cell_type": "markdown",
      "metadata": {
        "id": "lUfEAGGKdDW3"
      },
      "source": [
        "\n",
        "#### Objectif\n",
        "\n",
        "Modéliser le problème par un MDP (horizon infini)  et décrire votre modèle en détail"
      ]
    },
    {
      "cell_type": "code",
      "execution_count": 33,
      "metadata": {
        "collapsed": true,
        "id": "ySx9uFEMdDW4",
        "jupyter": {
          "outputs_hidden": true
        }
      },
      "outputs": [],
      "source": [
        "def create_P_R(rd, rc, costcrash, e, eps, pDust):\n",
        "  P = np.zeros((2, 5, 5))\n",
        "  R = np.zeros((5, 2))\n",
        "  P_nettoyer = [\n",
        "            [eps, 1-(eps+e), 0.0, 0.0, e],\n",
        "            [0.0, 1-e, 0.0, 0.0, e],\n",
        "            [eps, 1-eps, 0.0, 0.0, 0.0],\n",
        "            [0, 1, 0.0, 0.0, 0.0],\n",
        "            [0.0, 0.0, 0.0, 0.0, 1]\n",
        "  ]\n",
        "  P_charger = [\n",
        "            [0.0, 0.0, 1, 0.0, 0.0],\n",
        "            [0.0, 0.0, 0.0, 1, 0.0],\n",
        "            [0.0, 0.0, 1, 0.0, 0.0],\n",
        "            [0.0, 0.0, pDust, 1-pDust, 0.0],\n",
        "            [0.0, 0.0, 0.0, 0.0, 1]\n",
        "  ]\n",
        "\n",
        "  P[0] = P_nettoyer\n",
        "  P[1] = P_charger\n",
        "\n",
        "  R[0] = [rd , rd]\n",
        "  R[1] = [rc , rc]\n",
        "  R[2] = [rd , rd]\n",
        "  R[3] = [rc , rc]\n",
        "  R[4] = [costcrash , costcrash]\n",
        "\n",
        "  # Check\n",
        "  mdptoolbox.util.check(P, R)\n",
        "\n",
        "  return P, R\n",
        "\n",
        "\n",
        "\n",
        "  # Définir les états (LD, LC, CD, CC, O)\n",
        "etats = ('LD', 'LC', 'CD', 'CC', 'O')\n",
        "\n",
        "# Définir les actions (nettoyer et charger)\n",
        "actions = ('nettoyer', 'charger')\n",
        "\n",
        "def display(policy):\n",
        "    acts = [actions[i] for i in policy]\n",
        "\n",
        "    print(\"Policy:\")\n",
        "    print(\"LD: {}\".format(acts[0]))\n",
        "    print(\"LC: {}\".format(acts[1]))\n",
        "    print(\"CD: {}\".format(acts[2]))\n",
        "    print(\"CC: {}\".format(acts[3]))\n",
        "    print(\"0: {}\".format(acts[4]))\n",
        "\n",
        "def run(rd, rc, costcrash, e, eps, pDust):\n",
        "    if (e+eps)>1:\n",
        "      print(\"Mauvaises valeurs pour e: {} et eps: {} la somme doit être <= 1\".format(e, eps))\n",
        "    elif (pDust > 1):\n",
        "      print(\"Mauvaises valeurs pour pDust: {} la valeur doit être <= 1\".format(pDust))\n",
        "    elif (pDust < 0) or (e < 0) or (eps < 0):\n",
        "      print(\"Mauvaises valeurs pour e: {}, eps: {} et pDust: {} les probabilités sont positives. <= 1\".format(e, eps, pDust))\n",
        "    elif (rd >= rc) or (rd != costcrash):\n",
        "      print(\"Mauvaises valeurs pour rd: {}, rc: {} et costcrash: {} => rc > rd et rd = costcrash.\".format(rd, rc, costcrash))\n",
        "    else:\n",
        "      P,R = create_P_R(rd, rc, costcrash, e, eps, pDust)\n",
        "      #pi = mdptoolbox.mdp.ValueIterationGS(P, R, 0.9, 0.01)\n",
        "      pi = mdptoolbox.mdp.PolicyIteration(P, R, 0.9)\n",
        "\n",
        "      #pi.setVerbose()\n",
        "      pi.run()\n",
        "      display(pi.policy)\n",
        "      pi.V\n",
        "      del pi\n",
        "costcrash=-10\n"
      ]
    },
    {
      "cell_type": "markdown",
      "metadata": {
        "id": "cV9Gffn9dDW4"
      },
      "source": [
        "Déterminer la meilleure politique.\n",
        "\n",
        "* Lorsque la probabilité d'être à court de batterie est élevée\n",
        "* Lorsqu'elle est faible\n",
        "\n",
        "(expliquer les résultats)"
      ]
    },
    {
      "cell_type": "markdown",
      "metadata": {
        "id": "syaAv3vU8H_7"
      },
      "source": [
        "# **Proba Court Batterie élevée**"
      ]
    },
    {
      "cell_type": "code",
      "execution_count": 6,
      "metadata": {
        "colab": {
          "base_uri": "https://localhost:8080/"
        },
        "id": "QTjAodn_dDW5",
        "jupyter": {
          "outputs_hidden": true
        },
        "outputId": "e95afb91-afda-43df-d0ac-b8cd50ea8a6f"
      },
      "outputs": [
        {
          "output_type": "stream",
          "name": "stdout",
          "text": [
            "Lorsque la probabilité d'être à court de batterie est élevée\n",
            "rd = -10, rc = 10, costcrash = -10, e = 0.95, eps = 0.05, pDust = 0.5,\n",
            "Policy:\n",
            "LD: charger\n",
            "LC: charger\n",
            "CD: nettoyer\n",
            "CC: nettoyer\n",
            "0: nettoyer\n"
          ]
        }
      ],
      "source": [
        "e, eps, pDust = 0.95, 0.05, 0.5\n",
        "rd, rc=-10, 10\n",
        "print(\"Lorsque la probabilité d'être à court de batterie est élevée\")\n",
        "print(\"rd = {}, rc = {}, costcrash = {}, e = {}, eps = {}, pDust = {},\".format(rd, rc, costcrash, e, eps, pDust))\n",
        "run(rd, rc, costcrash, e, eps, pDust)"
      ]
    },
    {
      "cell_type": "markdown",
      "metadata": {
        "id": "3grk_A--8Z1I"
      },
      "source": [
        " La politique choisit de charger le robot dans les états \"LD\" (dans le salon, sale) et \"LC\" (dans le salon, propre), puis de charger à nouveau deux fois.\n",
        "Ensuite, elle choisit de nettoyer trois fois consécutives dans les états \"CD\"(au chargeur, Sale), \"CC\"(au chargeur, propre) et \"O\"(Hors-Tension).\n",
        "\n",
        "On explique ça par le fait que la politique évite le nettoyage dans le salon lorsqu'il est sale, pour minimiser le risque de panne d'électricité pendant le nettoyage."
      ]
    },
    {
      "cell_type": "markdown",
      "metadata": {
        "id": "Gw6fPmn58Q55"
      },
      "source": [
        "# **Proba Court Batterie Faible**"
      ]
    },
    {
      "cell_type": "code",
      "execution_count": 22,
      "metadata": {
        "colab": {
          "base_uri": "https://localhost:8080/"
        },
        "id": "7h2ps0MAftUr",
        "outputId": "1f41254f-f315-4c06-ce77-23dead67ab10"
      },
      "outputs": [
        {
          "output_type": "stream",
          "name": "stdout",
          "text": [
            "La proba Court batterie Faible\n",
            "rd = -10, rc = 10, costcrash = -10, e = 0.3, eps = 0.05, pDust = 0.5,\n",
            "Policy:\n",
            "LD: charger\n",
            "LC: charger\n",
            "CD: nettoyer\n",
            "CC: nettoyer\n",
            "0: nettoyer\n"
          ]
        }
      ],
      "source": [
        "e, eps, pDust = 0.3, 0.05, 0.5\n",
        "rd, rc=-10, 10\n",
        "print(\"La proba Court batterie Faible\")\n",
        "print(\"rd = {}, rc = {}, costcrash = {}, e = {}, eps = {}, pDust = {},\".format(rd, rc, costcrash, e, eps, pDust))\n",
        "\n",
        "run(rd, rc, costcrash, e, eps, pDust)"
      ]
    },
    {
      "cell_type": "markdown",
      "metadata": {
        "id": "oEkVc7p-dDW5"
      },
      "source": [
        "#Question :\n",
        "Quelle politique est choisie si le robot a une très bonne batterie (c'est-à-dire que la probabilité d'être à court de charge est très faible) ?\n",
        "\n",
        "\n",
        "Quelle politique est choisie si le salon se salit rapidement (lorsque la probabilité de poussière augmente) ?\n",
        "\n",
        "\n",
        "\n"
      ]
    },
    {
      "cell_type": "code",
      "source": [
        "e, eps, pDust = 0.05, 0.05, 0.3\n",
        "rd, rc=-10, 10\n",
        "print(\"La proba Court de charge est trés faible\")\n",
        "print(\"rd = {}, rc = {}, costcrash = {}, e = {}, eps = {}, pDust = {},\".format(rd, rc, costcrash, e, eps, pDust))\n",
        "\n",
        "run(rd, rc, costcrash, e, eps, pDust)"
      ],
      "metadata": {
        "colab": {
          "base_uri": "https://localhost:8080/"
        },
        "id": "k4UiyT79GcbJ",
        "outputId": "dbaadc8a-3e53-4268-e414-8ec87390fe55"
      },
      "execution_count": 31,
      "outputs": [
        {
          "output_type": "stream",
          "name": "stdout",
          "text": [
            "La proba Court de charge est trés faible\n",
            "rd = -10, rc = 10, costcrash = -10, e = 0.05, eps = 0.05, pDust = 0.3,\n",
            "Policy:\n",
            "LD: nettoyer\n",
            "LC: charger\n",
            "CD: nettoyer\n",
            "CC: nettoyer\n",
            "0: nettoyer\n"
          ]
        }
      ]
    },
    {
      "cell_type": "markdown",
      "metadata": {
        "id": "K_7nnON68vlM"
      },
      "source": [
        "# **Proba pDust augmente**"
      ]
    },
    {
      "cell_type": "code",
      "execution_count": 23,
      "metadata": {
        "colab": {
          "base_uri": "https://localhost:8080/"
        },
        "id": "z0ShXsm_dDW6",
        "jupyter": {
          "outputs_hidden": true
        },
        "outputId": "2fbc0450-6486-4ccb-9aaa-0387197c2f69"
      },
      "outputs": [
        {
          "output_type": "stream",
          "name": "stdout",
          "text": [
            "lorsque la probabilité de poussière augmente\n",
            "rd = -10, rc = 10, costcrash = -10, e = 0.9, eps = 0.05, pDust = 0.95,\n",
            "Policy:\n",
            "LD: charger\n",
            "LC: charger\n",
            "CD: nettoyer\n",
            "CC: nettoyer\n",
            "0: nettoyer\n"
          ]
        }
      ],
      "source": [
        "e, eps, pDust = 0.9, 0.05, 0.95\n",
        "rd, rc=-10, 10\n",
        "print(\"lorsque la probabilité de poussière augmente\")\n",
        "print(\"rd = {}, rc = {}, costcrash = {}, e = {}, eps = {}, pDust = {},\".format(rd, rc, costcrash, e, eps, pDust))\n",
        "\n",
        "run(rd, rc, costcrash, e, eps, pDust)"
      ]
    },
    {
      "cell_type": "code",
      "execution_count": 28,
      "metadata": {
        "colab": {
          "base_uri": "https://localhost:8080/"
        },
        "id": "M0w4P3SdBmxm",
        "outputId": "e8dfd7de-bf60-4598-8137-a9e80f7d23c1"
      },
      "outputs": [
        {
          "output_type": "stream",
          "name": "stdout",
          "text": [
            "lorsque la probabilité de poussière augmente et e=0.1\n",
            "rd = -10, rc = 10, costcrash = -10, e = 0.1, eps = 0.05, pDust = 0.95,\n",
            "Policy:\n",
            "LD: charger\n",
            "LC: charger\n",
            "CD: nettoyer\n",
            "CC: nettoyer\n",
            "0: nettoyer\n"
          ]
        }
      ],
      "source": [
        "e, eps, pDust = 0.1, 0.05, 0.95\n",
        "rd, rc=-10, 10\n",
        "print(\"lorsque la probabilité de poussière augmente et e=0.1\")\n",
        "print(\"rd = {}, rc = {}, costcrash = {}, e = {}, eps = {}, pDust = {},\".format(rd, rc, costcrash, e, eps, pDust))\n",
        "\n",
        "run(rd, rc, costcrash, e, eps, pDust)"
      ]
    },
    {
      "cell_type": "code",
      "source": [
        "e, eps, pDust = 0.35, 0.65, 0.95\n",
        "rd, rc=-10, 10\n",
        "print(\"lorsque la probabilité de poussière augmente et e=0.35\")\n",
        "print(\"rd = {}, rc = {}, costcrash = {}, e = {}, eps = {}, pDust = {},\".format(rd, rc, costcrash, e, eps, pDust))\n",
        "\n",
        "run(rd, rc, costcrash, e, eps, pDust)"
      ],
      "metadata": {
        "colab": {
          "base_uri": "https://localhost:8080/"
        },
        "id": "EvYEzevEEXHP",
        "outputId": "2b9ab8c3-ec4e-46ab-9f76-3d42c34d64b8"
      },
      "execution_count": 27,
      "outputs": [
        {
          "output_type": "stream",
          "name": "stdout",
          "text": [
            "lorsque la probabilité de poussière augmente et e=0.35\n",
            "rd = -10, rc = 10, costcrash = -10, e = 0.35, eps = 0.65, pDust = 0.95,\n",
            "Policy:\n",
            "LD: charger\n",
            "LC: charger\n",
            "CD: nettoyer\n",
            "CC: nettoyer\n",
            "0: nettoyer\n"
          ]
        }
      ]
    },
    {
      "cell_type": "markdown",
      "metadata": {
        "id": "wQ0KndMWdDW7"
      },
      "source": [
        "\n",
        "\n",
        "\n",
        "\n",
        "Coller votre programme python ici:\n"
      ]
    },
    {
      "cell_type": "markdown",
      "metadata": {
        "id": "5hVQ5c0KdDW7"
      },
      "source": [
        "\n",
        "# 3. Amelioration du modele\n",
        "\n",
        "Ameliorez votre modèle de manière à prendre en considération plusieurs niveaux de batterie (élevé, moyen, faible  par exemple). Collez votre programme ci dessous et expliquez la politique optimale trouvee"
      ]
    },
    {
      "cell_type": "code",
      "execution_count": 13,
      "metadata": {
        "collapsed": true,
        "id": "L_LV8SHzdDW7",
        "jupyter": {
          "outputs_hidden": true
        }
      },
      "outputs": [],
      "source": [
        "etats = ('LD_L', 'LD_M', 'LD_H', 'LC_L', 'LC_M', 'LC_H', 'CD_L','CD_M', 'CD_H', 'CC_L', 'CC_M', 'CC_H', 'O')"
      ]
    },
    {
      "cell_type": "code",
      "execution_count": 14,
      "metadata": {
        "id": "HhEHwzOF9brP"
      },
      "outputs": [],
      "source": [
        "import numpy as np\n",
        "#on suppose qu'aprés le nettoyage, l'état de la batterie se dégrade à chaque fois, on peut passer de batterie moyenne à faible par exemple aprés avoir effectué un nettoyage\n",
        "#lorsqu'on effectue l'action charger on passe directement à un état supperieur de la batterie sauf lorsqu'on est dans un état de batterie H, on reste dans l'état de la batterie H\n",
        "#lorsqu'on effectue l'action nettoyer on passe directement à un état inferrieur de la batterie par exemple un état LD_L en nettoie, on passe à l'état hors tension, de medium à low et de high à medium.\n",
        "def create_transition_matrices_batterie_levels(rd, rc, costcrash,eps, e, pDust):\n",
        "    P =np.zeros((2,13, 13))\n",
        "    P_nettoyer = np.zeros((13, 13))\n",
        "    P_charger = np.zeros((13, 13))\n",
        "\n",
        "    # Transition probabilities for 'nettoyer'\n",
        "    P_nettoyer[0] = [0, 0, 0, 0, 0, 0, 0, 0, 0, 0, 0, 0, 1]  # LD_L\n",
        "    P_nettoyer[1] = [eps, 0, 0, 1 - eps - e, 0, 0, 0, 0, 0, 0, 0, 0, e]  # LD_M\n",
        "    P_nettoyer[2] = [0, eps, 0, 0, 1 - eps - e, 0, 0, 0, 0, 0, 0, 0, e]  # LD_H\n",
        "\n",
        "    P_nettoyer[3] = [0, 0, 0, 0, 0, 0, 0, 0, 0, 0, 0, 0, 1]  # LC_L\n",
        "    P_nettoyer[4] = [0, 0, 0, 1 - e, 0, 0, 0, 0, 0, 0, 0, 0, e]  # LC_M\n",
        "    P_nettoyer[5] = [0, 0, 0, 0, 1 - e, 0, 0, 0, 0, 0, 0, 0, e]  # LC_H\n",
        "\n",
        "    P_nettoyer[6] = [0, 0, 0, 0, 0, 0, 0, 0, 0, 0, 0, 0, 1]  # CD_L\n",
        "    P_nettoyer[7] = [0, eps, 0, 1 - eps, 0, 0, 0, 0, 0, 0, 0, 0, 0]  # CD_M\n",
        "    P_nettoyer[8] = [0, 1 - eps, 0, 0, eps, 0, 0, 0, 0, 0, 0, 0, 0]  # CD_H\n",
        "\n",
        "    P_nettoyer[9] = [0, 0, 0, 1, 0, 0, 0, 0, 0, 0, 0, 0, 0]  # CC_L\n",
        "    P_nettoyer[10] = [0, 0, 0, 0, 1, 0, 0, 0, 0, 0, 0, 0, 0]  # CC_M\n",
        "    P_nettoyer[11] = [0, 0, 0, 0, 0, 1, 0, 0, 0, 0, 0, 0, 0]  # CC_H\n",
        "\n",
        "    P_nettoyer[12] = [0, 0, 0, 0, 0, 0, 0, 0, 0, 0, 0, 0, 1]  # O\n",
        "\n",
        "    # Transition probabilities for 'charger'\n",
        "    P_charger[0] = [0, 0, 0, 0, 0, 0, 0, 1, 0, 0, 0, 0, 0]  # LD_L\n",
        "    P_charger[1] = [0, 0, 0, 0, 0, 0, 0, 0, 1, 0, 0, 0, 0]  # LD_M\n",
        "    P_charger[2] = [0, 0, 0, 0, 0, 0, 0, 0, 1, 0, 0, 0, 0]  # LD_H\n",
        "\n",
        "    P_charger[3] = [0, 0, 0, 0, 0, 0, 0, 0, 0, 0, 1, 0, 0]  # LC_L -> CC_M\n",
        "    P_charger[4] = [0, 0, 0, 0, 0, 0, 0, 0, 0, 0, 0, 1, 0]  # LC_M -> CC_H\n",
        "    P_charger[5] = [0, 0, 0, 0, 0, 0, 0, 0, 0, 0, 0, 1, 0]  # LC_H -> CC_H\n",
        "\n",
        "    P_charger[6] = [0, 0, 0, 0, 0, 0, 0, 1, 0, 0, 0, 0, 0]  # CD_L -> CD_M\n",
        "    P_charger[7] = [0, 0, 0, 0, 0, 0, 0, 0, 1, 0, 0, 0, 0]  # CD_M -> CD_H\n",
        "    P_charger[8] = [0, 0, 0, 0, 0, 0, 0, 0, 1, 0, 0, 0, 0]  # CD_H\n",
        "\n",
        "    P_charger[9] = [0, 0, 0, 0, 0, 0, 0, pDust, 0, 0, 1 - pDust, 0, 0]  # CC_L -> CC_M\n",
        "    P_charger[10] = [0, 0, 0, 0, 0, 0, 0, 0, pDust, 0, 0, 1 - pDust, 0]  # CC_M -> CC_H\n",
        "    P_charger[11] = [0, 0, 0, 0, 0, 0, 0, 0, pDust, 0, 0, 1 - pDust, 0]  # CC_H\n",
        "\n",
        "    P_charger[12] = [0, 0, 0, 0, 0, 0, 0, 0, 0, 0, 0, 0, 1]  # O\n",
        "\n",
        "    P[0] = P_nettoyer\n",
        "    P[1] = P_charger\n",
        "\n",
        "    R = np.zeros((13, 2))\n",
        "\n",
        "    # Assign rewards for `nettoyer`\n",
        "    R[0:3, 0] = rd  # LD states\n",
        "    R[3:6, 0] = rc  # LC states\n",
        "    R[6:9, 0] = rd  # CD states\n",
        "    R[9:12, 0] = rc  # CC states\n",
        "    R[12, 0] = costcrash  # O state\n",
        "\n",
        "    # Assign rewards for `charger`\n",
        "    R[0:3, 1] = rd  # LD states\n",
        "    R[3:6, 1] = rc  # LC states\n",
        "    R[6:9, 1] = rd # CD states\n",
        "    R[9:12, 1] = rc  # CC states\n",
        "    R[12, 1] = costcrash  # O state\n",
        "    return P,R"
      ]
    },
    {
      "cell_type": "code",
      "execution_count": 15,
      "metadata": {
        "id": "nygjJFLWgLEt"
      },
      "outputs": [],
      "source": [
        "# adapter la fonction display pour afficher les états de la batterie\n",
        "def display(policy):\n",
        "    acts = [actions[i] for i in policy]\n",
        "\n",
        "    print(\"Policy:\")\n",
        "    print(\"LD_L: {}\".format(acts[0]))\n",
        "    print(\"LD_M: {}\".format(acts[1]))\n",
        "    print(\"LD_H: {}\".format(acts[2]))\n",
        "    print(\"LC_L: {}\".format(acts[3]))\n",
        "    print(\"LC_M: {}\".format(acts[4]))\n",
        "    print(\"LC_H: {}\".format(acts[5]))\n",
        "    print(\"CD_L: {}\".format(acts[6]))\n",
        "    print(\"CD_M: {}\".format(acts[7]))\n",
        "    print(\"CD_H: {}\".format(acts[8]))\n",
        "    print(\"CC_L: {}\".format(acts[9]))\n",
        "    print(\"CC_M: {}\".format(acts[10]))\n",
        "    print(\"CC_H: {}\".format(acts[11]))\n",
        "    print(\"O: {}\".format(acts[12]))\n",
        "\n",
        "#adapter run pour prendre en compte les états de la batterie\n",
        "def run(rd, rc, costcrash, e, eps, pDust):\n",
        "    if (e+eps)>1:\n",
        "      print(\"Mauvaises valeurs pour e: {} et eps: {} la somme doit être <= 1\".format(e, eps))\n",
        "    elif (pDust > 1):\n",
        "      print(\"Mauvaises valeurs pour pDust: {} la valeur doit être <= 1\".format(pDust))\n",
        "    elif (pDust < 0) or (e < 0) or (eps < 0):\n",
        "      print(\"Mauvaises valeurs pour e: {}, eps: {} et pDust: {} les probabilités sont positives. <= 1\".format(e, eps, pDust))\n",
        "    elif (rd >= rc) or (rd != costcrash):\n",
        "      print(\"Mauvaises valeurs pour rd: {}, rc: {} et costcrash: {} => rc > rd et rd = costcrash.\".format(rd, rc, costcrash))\n",
        "    else:\n",
        "      P,R = create_transition_matrices_batterie_levels(rd, rc, costcrash, e, eps, pDust)\n",
        "      #pi = mdptoolbox.mdp.ValueIterationGS(P, R, 0.9, 0.01)\n",
        "      pi = mdptoolbox.mdp.PolicyIteration(P, R, 0.9)\n",
        "\n",
        "      #pi.setVerbose()\n",
        "      pi.run()\n",
        "      display(pi.policy)\n",
        "      pi.V\n",
        "      del pi"
      ]
    },
    {
      "cell_type": "code",
      "execution_count": 16,
      "metadata": {
        "colab": {
          "base_uri": "https://localhost:8080/"
        },
        "id": "_b2UOumzgLEu",
        "outputId": "4592d8d1-e7e5-440a-af4a-39dff803ce7f"
      },
      "outputs": [
        {
          "output_type": "stream",
          "name": "stdout",
          "text": [
            "rd = -10, rc = 10, costcrash = -10, e = 0.4, eps = 0.05, pDust = 0.8,\n",
            "Policy:\n",
            "LD_L: charger\n",
            "LD_M: nettoyer\n",
            "LD_H: nettoyer\n",
            "LC_L: charger\n",
            "LC_M: charger\n",
            "LC_H: charger\n",
            "CD_L: charger\n",
            "CD_M: nettoyer\n",
            "CD_H: nettoyer\n",
            "CC_L: nettoyer\n",
            "CC_M: nettoyer\n",
            "CC_H: nettoyer\n",
            "O: nettoyer\n"
          ]
        }
      ],
      "source": [
        "# appliquer le modele sur les états de la batterie\n",
        "e, eps, pDust = 0.4, 0.05, 0.8\n",
        "rd, rc=-10, 10\n",
        "print(\"rd = {}, rc = {}, costcrash = {}, e = {}, eps = {}, pDust = {},\".format(rd, rc, costcrash, e, eps, pDust))\n",
        "\n",
        "run(rd, rc, costcrash, e, eps, pDust)"
      ]
    }
  ],
  "metadata": {
    "colab": {
      "provenance": []
    },
    "kernelspec": {
      "display_name": "Python 3",
      "language": "python",
      "name": "python3"
    },
    "language_info": {
      "codemirror_mode": {
        "name": "ipython",
        "version": 3
      },
      "file_extension": ".py",
      "mimetype": "text/x-python",
      "name": "python",
      "nbconvert_exporter": "python",
      "pygments_lexer": "ipython3",
      "version": "3.11.1"
    }
  },
  "nbformat": 4,
  "nbformat_minor": 0
}
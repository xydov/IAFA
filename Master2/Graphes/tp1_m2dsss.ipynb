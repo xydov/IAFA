{
 "cells": [
  {
   "cell_type": "markdown",
   "metadata": {},
   "source": [
    "# Social Data Analysis: Generalities, Complex Networks and Node-Centric Metrics\n",
    "\n",
    "In this practical work, we will first check if a network satisfies the 3 constraints to be considered as a complex network and then, we will determine how important nodes are within this network. \n",
    "\n",
    "The library we will use for handling networks is networkx"
   ]
  },
  {
   "cell_type": "markdown",
   "metadata": {},
   "source": [
    "## First, let's install the potentially missing libraries \n",
    "(not necessary if you are certain these libs are installed on your system)"
   ]
  },
  {
   "cell_type": "code",
   "execution_count": 1,
   "metadata": {
    "scrolled": true,
    "slideshow": {
     "slide_type": "notes"
    }
   },
   "outputs": [
    {
     "name": "stdout",
     "output_type": "stream",
     "text": [
      "Requirement already satisfied: pandas in /Users/lechani/opt/anaconda3/lib/python3.8/site-packages (1.1.3)\n",
      "Requirement already satisfied: numpy>=1.15.4 in /Users/lechani/opt/anaconda3/lib/python3.8/site-packages (from pandas) (1.19.2)\n",
      "Requirement already satisfied: pytz>=2017.2 in /Users/lechani/opt/anaconda3/lib/python3.8/site-packages (from pandas) (2020.1)\n",
      "Requirement already satisfied: python-dateutil>=2.7.3 in /Users/lechani/opt/anaconda3/lib/python3.8/site-packages (from pandas) (2.8.1)\n",
      "Requirement already satisfied: six>=1.5 in /Users/lechani/opt/anaconda3/lib/python3.8/site-packages (from python-dateutil>=2.7.3->pandas) (1.15.0)\n",
      "Requirement already satisfied: networkx in /Users/lechani/opt/anaconda3/lib/python3.8/site-packages (2.5)\n",
      "Requirement already satisfied: decorator>=4.3.0 in /Users/lechani/opt/anaconda3/lib/python3.8/site-packages (from networkx) (4.4.2)\n",
      "Requirement already satisfied: seaborn in /Users/lechani/opt/anaconda3/lib/python3.8/site-packages (0.11.0)\n",
      "Requirement already satisfied: matplotlib>=2.2 in /Users/lechani/opt/anaconda3/lib/python3.8/site-packages (from seaborn) (3.3.2)\n",
      "Requirement already satisfied: pandas>=0.23 in /Users/lechani/opt/anaconda3/lib/python3.8/site-packages (from seaborn) (1.1.3)\n",
      "Requirement already satisfied: scipy>=1.0 in /Users/lechani/opt/anaconda3/lib/python3.8/site-packages (from seaborn) (1.5.2)\n",
      "Requirement already satisfied: numpy>=1.15 in /Users/lechani/opt/anaconda3/lib/python3.8/site-packages (from seaborn) (1.19.2)\n",
      "Requirement already satisfied: pyparsing!=2.0.4,!=2.1.2,!=2.1.6,>=2.0.3 in /Users/lechani/opt/anaconda3/lib/python3.8/site-packages (from matplotlib>=2.2->seaborn) (2.4.7)\n",
      "Requirement already satisfied: python-dateutil>=2.1 in /Users/lechani/opt/anaconda3/lib/python3.8/site-packages (from matplotlib>=2.2->seaborn) (2.8.1)\n",
      "Requirement already satisfied: certifi>=2020.06.20 in /Users/lechani/opt/anaconda3/lib/python3.8/site-packages (from matplotlib>=2.2->seaborn) (2020.6.20)\n",
      "Requirement already satisfied: kiwisolver>=1.0.1 in /Users/lechani/opt/anaconda3/lib/python3.8/site-packages (from matplotlib>=2.2->seaborn) (1.3.0)\n",
      "Requirement already satisfied: cycler>=0.10 in /Users/lechani/opt/anaconda3/lib/python3.8/site-packages (from matplotlib>=2.2->seaborn) (0.10.0)\n",
      "Requirement already satisfied: pillow>=6.2.0 in /Users/lechani/opt/anaconda3/lib/python3.8/site-packages (from matplotlib>=2.2->seaborn) (8.0.1)\n",
      "Requirement already satisfied: pytz>=2017.2 in /Users/lechani/opt/anaconda3/lib/python3.8/site-packages (from pandas>=0.23->seaborn) (2020.1)\n",
      "Requirement already satisfied: six>=1.5 in /Users/lechani/opt/anaconda3/lib/python3.8/site-packages (from python-dateutil>=2.1->matplotlib>=2.2->seaborn) (1.15.0)\n"
     ]
    }
   ],
   "source": [
    "! pip install pandas\n",
    "! pip install networkx\n",
    "! pip install seaborn"
   ]
  },
  {
   "cell_type": "markdown",
   "metadata": {},
   "source": [
    "## Second, let's import the useful packages\n",
    "You can avoid the first line if you are not using a Jupyter notebook. This line enables the visualization to be displayed in the notebook."
   ]
  },
  {
   "cell_type": "code",
   "execution_count": 3,
   "metadata": {},
   "outputs": [],
   "source": [
    "%matplotlib inline\n",
    "\n",
    "import networkx as nx\n",
    "import pandas as pd\n",
    "import seaborn as sns\n",
    "from scipy import stats\n",
    "import matplotlib.pyplot as plt"
   ]
  },
  {
   "cell_type": "markdown",
   "metadata": {},
   "source": [
    "## Good, if you have not encounter any problems, we can start working now!"
   ]
  },
  {
   "cell_type": "markdown",
   "metadata": {},
   "source": [
    "### First download the dataset (on Moodle)"
   ]
  },
  {
   "cell_type": "code",
   "execution_count": 4,
   "metadata": {},
   "outputs": [],
   "source": [
    "# Obviously, you must replace the path below by the appropriate path\n",
    "pathData = \"<path to airports.net>\""
   ]
  },
  {
   "cell_type": "markdown",
   "metadata": {
    "solution2": "shown",
    "solution2_first": true
   },
   "source": [
    "### Then, navigate through the documentation of the networkx package and find how to load networks in the pajek format\n",
    "\n",
    "Note that the graph should be __directed__.\n",
    "\n",
    "TIP: to create a directed simple graph after loading the pajek network, you must use the follwing instruction `g = nx.DiGraph(g)` where `g` is the loaded pajek network."
   ]
  },
  {
   "cell_type": "markdown",
   "metadata": {},
   "source": [
    "# Check the complex network properties\n",
    "## Long-tail distribution"
   ]
  },
  {
   "cell_type": "markdown",
   "metadata": {
    "solution2": "hidden",
    "solution2_first": true
   },
   "source": [
    "### Plot the degree distribution of the graph\n",
    "  1. Calculate and store the degree of each node\n",
    "  2. Convert the result (a dict) into a Pandas object, a Series\n",
    "  3. Use the seaborn `distplot` function to plot the degree distribution. Check the documenetation to set the parameters as follows: 20 bins and no gaussian kernel density estimate. Note that you must use the `plt.show()` instruction afterward to visualize the result.\n"
   ]
  },
  {
   "cell_type": "markdown",
   "metadata": {
    "solution2": "hidden",
    "solution2_first": true
   },
   "source": [
    "### Check if the graph satisfies the power-law degree property\n",
    "Modify the call to the `distplot` function to graphically check if the degree distibution fits a power-law distribution. To do so, you should set the `fit` parameter to `stats.powerlaw`. Conclude."
   ]
  },
  {
   "cell_type": "markdown",
   "metadata": {
    "solution2": "hidden",
    "solution2_first": true
   },
   "source": [
    "## Small-world hypothesis\n",
    "We now want to check if this network satisfies the small-world hypothesis. Calculate the average shortest path length and conclude if this network satisfies the small world hypothesis.\n",
    "  "
   ]
  },
  {
   "cell_type": "markdown",
   "metadata": {
    "solution2": "shown",
    "solution2_first": true
   },
   "source": [
    "### Check the strong community structure\n",
    "To check how string is the community structure in this network, we will apply the following methodology:\n",
    "  1. Use the `gnm_random_graph` function to generate a random graph having the same number of vertices and edges than the studied network\n",
    "  2. Calculate the average clustering on both networks\n",
    "  3. Conclude"
   ]
  },
  {
   "cell_type": "markdown",
   "metadata": {},
   "source": [
    "# Node-Centric Metrics\n",
    "We will now focus on the relative importance of vertices within the network. Luckily, many centrality metrics are implemented in networkx.\n",
    "\n",
    "## Centrality Metrics\n",
    "Have a look to the package documentation and calculate the following centralities:\n",
    "  1. degree\n",
    "  2. closeness\n",
    "  3. eigenvector\n",
    "  4. Katz\n",
    "  5. betweenness"
   ]
  },
  {
   "cell_type": "markdown",
   "metadata": {},
   "source": [
    "## Page Rank and HITS\n",
    "Similarly to the previous question, have a look to the package documentation and calculate the following metrics:\n",
    "\n",
    "  1. Page Rank\n",
    "  2. Hub and Authorities (HITS)\n"
   ]
  },
  {
   "cell_type": "markdown",
   "metadata": {},
   "source": [
    "## On the correlation of node-centric metrics\n",
    "First, create a dataframe using with the above calculated centralities."
   ]
  },
  {
   "cell_type": "markdown",
   "metadata": {},
   "source": [
    "Then, we will plot the pairwise relationships between centralities to have a first glimpse of the possible correlation between them. For this, use the `pairplot` function of the `seaborn` package."
   ]
  },
  {
   "cell_type": "markdown",
   "metadata": {},
   "source": [
    "We will now assess more properly these potential correlations. For this, use the `corr()` on your data frame. Be aware that the default method mignt not be appropriate to your case. Once the pairwise correlations have been calculated, we will plot the related method using the `heatmap()` function of the `seaborn` package. TIP: to change the color scheme, you can use the `cmap` parameter with value `plt.get_cmap(xxx)` where `xxx` is a color scheme (visit [this site](https://matplotlib.org/users/colormaps.html) to get the list of existing cholor schemes)."
   ]
  },
  {
   "cell_type": "markdown",
   "metadata": {},
   "source": [
    "On the finding of atypical vertices\n",
    "------------------------------------\n",
    "\n",
    "As discussed during the lecture ans as you have just seen in the previous question, centrality metrics are often positively correlated. We will now find some key vertices in the network. Typically, these vertices are vertices that somehow \"break\" the positive pairwise correlations. \n",
    "You mission is to find at least one of these vertices. To do so, you will apply the following methodology:\n",
    "  1. Extract the 10 top airports per centrality metric\n",
    "  2. Comparethe list and conclude\n"
   ]
  },
  {
   "cell_type": "markdown",
   "metadata": {},
   "source": [
    "Graph visualization \n",
    "-----------------------------------\n",
    "\n",
    "We will finally visualize the network to find some key vertices in the network. This can be useful to explain why some vertices play a crucial role in the network.\n",
    "\n",
    "TIP 1: one way to fix the spatial position of the vertices is to use the vertex attributes `x` and `y`. To do so, you should create a dictionnary such that the keys are the labels of the vertices and the values are tuples isuch as `(x,y)`\n",
    "TIP 2: you can pass a dictionnary as parameter of the `draw_network` function to specify some visualization parameter, e.g., `nx.draw_network(g, **options)` where `options` is defined as: \n",
    "```python\n",
    "options = {\n",
    "    'node_color' : # either a color or a list with values (the vertex color will thus change according to the value) -- the size of the list should be the same as the number of vertices in the network\n",
    "    'node_size' : 500, \n",
    "    'cmap' : plt.get_cmap(\"jet\"), # a color scheme (see below)\n",
    "    #'vmin' : 0, # these two options are used to adjust the color scheme\n",
    "    #'vmax' : 0.7 , # these two options are used to adjust the color scheme\n",
    "    'node_shape' : 'o', # the shape of the node\n",
    "    'with_labels' : True # print labels or not\n",
    "}\n",
    "```"
   ]
  }
 ],
 "metadata": {
  "kernelspec": {
   "display_name": "Python 3",
   "language": "python",
   "name": "python3"
  },
  "language_info": {
   "codemirror_mode": {
    "name": "ipython",
    "version": 3
   },
   "file_extension": ".py",
   "mimetype": "text/x-python",
   "name": "python",
   "nbconvert_exporter": "python",
   "pygments_lexer": "ipython3",
   "version": "3.8.5"
  },
  "toc": {
   "nav_menu": {},
   "number_sections": true,
   "sideBar": true,
   "skip_h1_title": false,
   "toc_cell": false,
   "toc_position": {},
   "toc_section_display": "block",
   "toc_window_display": false
  }
 },
 "nbformat": 4,
 "nbformat_minor": 4
}

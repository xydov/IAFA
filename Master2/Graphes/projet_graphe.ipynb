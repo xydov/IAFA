{
  "nbformat": 4,
  "nbformat_minor": 0,
  "metadata": {
    "colab": {
      "provenance": []
    },
    "kernelspec": {
      "name": "python3",
      "display_name": "Python 3"
    },
    "language_info": {
      "name": "python"
    }
  },
  "cells": [
    {
      "cell_type": "code",
      "execution_count": 1,
      "metadata": {
        "colab": {
          "base_uri": "https://localhost:8080/"
        },
        "id": "_cGQZqKc0Fvk",
        "outputId": "5f10bc62-5bc6-4b61-872c-31ae5cf34b03"
      },
      "outputs": [
        {
          "output_type": "stream",
          "name": "stdout",
          "text": [
            "Collecting node2vec\n",
            "  Downloading node2vec-0.5.0-py3-none-any.whl.metadata (849 bytes)\n",
            "Requirement already satisfied: gensim<5.0.0,>=4.3.0 in /usr/local/lib/python3.10/dist-packages (from node2vec) (4.3.3)\n",
            "Requirement already satisfied: joblib<2.0.0,>=1.4.0 in /usr/local/lib/python3.10/dist-packages (from node2vec) (1.4.2)\n",
            "Requirement already satisfied: networkx<4.0.0,>=3.1.0 in /usr/local/lib/python3.10/dist-packages (from node2vec) (3.4.2)\n",
            "Requirement already satisfied: numpy<2.0.0,>=1.24.0 in /usr/local/lib/python3.10/dist-packages (from node2vec) (1.26.4)\n",
            "Requirement already satisfied: tqdm<5.0.0,>=4.66.1 in /usr/local/lib/python3.10/dist-packages (from node2vec) (4.66.6)\n",
            "Requirement already satisfied: scipy<1.14.0,>=1.7.0 in /usr/local/lib/python3.10/dist-packages (from gensim<5.0.0,>=4.3.0->node2vec) (1.13.1)\n",
            "Requirement already satisfied: smart-open>=1.8.1 in /usr/local/lib/python3.10/dist-packages (from gensim<5.0.0,>=4.3.0->node2vec) (7.0.5)\n",
            "Requirement already satisfied: wrapt in /usr/local/lib/python3.10/dist-packages (from smart-open>=1.8.1->gensim<5.0.0,>=4.3.0->node2vec) (1.16.0)\n",
            "Downloading node2vec-0.5.0-py3-none-any.whl (7.2 kB)\n",
            "Installing collected packages: node2vec\n",
            "Successfully installed node2vec-0.5.0\n",
            "Requirement already satisfied: gensim in /usr/local/lib/python3.10/dist-packages (4.3.3)\n",
            "Requirement already satisfied: numpy<2.0,>=1.18.5 in /usr/local/lib/python3.10/dist-packages (from gensim) (1.26.4)\n",
            "Requirement already satisfied: scipy<1.14.0,>=1.7.0 in /usr/local/lib/python3.10/dist-packages (from gensim) (1.13.1)\n",
            "Requirement already satisfied: smart-open>=1.8.1 in /usr/local/lib/python3.10/dist-packages (from gensim) (7.0.5)\n",
            "Requirement already satisfied: wrapt in /usr/local/lib/python3.10/dist-packages (from smart-open>=1.8.1->gensim) (1.16.0)\n",
            "Requirement already satisfied: networkx in /usr/local/lib/python3.10/dist-packages (3.4.2)\n",
            "Requirement already satisfied: matplotlib in /usr/local/lib/python3.10/dist-packages (3.8.0)\n",
            "Requirement already satisfied: contourpy>=1.0.1 in /usr/local/lib/python3.10/dist-packages (from matplotlib) (1.3.1)\n",
            "Requirement already satisfied: cycler>=0.10 in /usr/local/lib/python3.10/dist-packages (from matplotlib) (0.12.1)\n",
            "Requirement already satisfied: fonttools>=4.22.0 in /usr/local/lib/python3.10/dist-packages (from matplotlib) (4.55.0)\n",
            "Requirement already satisfied: kiwisolver>=1.0.1 in /usr/local/lib/python3.10/dist-packages (from matplotlib) (1.4.7)\n",
            "Requirement already satisfied: numpy<2,>=1.21 in /usr/local/lib/python3.10/dist-packages (from matplotlib) (1.26.4)\n",
            "Requirement already satisfied: packaging>=20.0 in /usr/local/lib/python3.10/dist-packages (from matplotlib) (24.2)\n",
            "Requirement already satisfied: pillow>=6.2.0 in /usr/local/lib/python3.10/dist-packages (from matplotlib) (11.0.0)\n",
            "Requirement already satisfied: pyparsing>=2.3.1 in /usr/local/lib/python3.10/dist-packages (from matplotlib) (3.2.0)\n",
            "Requirement already satisfied: python-dateutil>=2.7 in /usr/local/lib/python3.10/dist-packages (from matplotlib) (2.8.2)\n",
            "Requirement already satisfied: six>=1.5 in /usr/local/lib/python3.10/dist-packages (from python-dateutil>=2.7->matplotlib) (1.16.0)\n"
          ]
        }
      ],
      "source": [
        "! pip install node2vec\n",
        "! pip install gensim\n",
        "! pip install networkx\n",
        "! pip install matplotlib"
      ]
    },
    {
      "cell_type": "code",
      "source": [
        "import networkx as nx\n",
        "import matplotlib.pyplot as plt\n",
        "from node2vec import Node2Vec"
      ],
      "metadata": {
        "id": "RiFe01el0rZm"
      },
      "execution_count": 2,
      "outputs": []
    },
    {
      "cell_type": "code",
      "source": [
        "graphe=nx.read_graphml(\"database_formated_for_NetworkX.graphml\")"
      ],
      "metadata": {
        "id": "E6BUMhKx0nVn"
      },
      "execution_count": 4,
      "outputs": []
    },
    {
      "cell_type": "code",
      "source": [],
      "metadata": {
        "id": "gXawT4_d-dkr"
      },
      "execution_count": null,
      "outputs": []
    },
    {
      "cell_type": "code",
      "source": [
        "node_to_print = 'n0'\n",
        "\n",
        "# Print the node and its attributes\n",
        "if node_to_print in graphe.nodes():\n",
        "    print(f\"Node {node_to_print} and its attributes:\")\n",
        "    print(graphe.nodes[node_to_print])\n",
        "else:\n",
        "    print(f\"Node {node_to_print} does not exist in the graph.\")\n"
      ],
      "metadata": {
        "colab": {
          "base_uri": "https://localhost:8080/"
        },
        "id": "S-Yr5rQJ5HFz",
        "outputId": "d37cce88-d2c4-4057-887d-6e5a780f0b3a"
      },
      "execution_count": 20,
      "outputs": [
        {
          "output_type": "stream",
          "name": "stdout",
          "text": [
            "Node n0 and its attributes:\n",
            "{'labels': ':Event', 'id': 'fireColorado2012', 'trecisid': 'TRECIS-CTIT-H-001', 'eventType': 'wildfire'}\n"
          ]
        }
      ]
    },
    {
      "cell_type": "code",
      "source": [
        "import pandas as pd\n",
        "node_classes = [graphe.nodes[node].get('eventType') for node in graphe.nodes()]\n",
        "len(graphe.nodes())\n",
        "print(node_classes[0])\n",
        "\n",
        "node_class_counts = pd.Series(node_classes).value_counts()\n",
        "\n",
        "print(\"Class Distribution:\")\n",
        "print(node_class_counts)"
      ],
      "metadata": {
        "colab": {
          "base_uri": "https://localhost:8080/"
        },
        "id": "my06nCTx2AkP",
        "outputId": "46ee3b32-b217-426b-8ce3-c0120347438a"
      },
      "execution_count": 44,
      "outputs": [
        {
          "output_type": "stream",
          "name": "stdout",
          "text": [
            "wildfire\n",
            "Class Distribution:\n",
            "earthquake    8\n",
            "flood         7\n",
            "typhoon       6\n",
            "wildfire      5\n",
            "shooting      5\n",
            "bombing       3\n",
            "Name: count, dtype: int64\n"
          ]
        }
      ]
    },
    {
      "cell_type": "code",
      "source": [
        "import random\n",
        "import networkx as nx\n",
        "import pandas as pd\n",
        "\n",
        "minority_classes = node_class_counts[node_class_counts < node_class_counts.max()].index\n",
        "print(f\"Minority Classes: {minority_classes}\")\n",
        "\n",
        "# Set a target number of nodes for each minority class (use the majority class size)\n",
        "target_count = node_class_counts.max()\n",
        "\n",
        "# Create a new graph for oversampling\n",
        "new_graphe = graphe.copy()\n",
        "\n",
        "# For each minority class, calculate how many additional nodes are needed\n",
        "for minority_class in minority_classes:\n",
        "    current_count = node_class_counts[minority_class]\n",
        "    nodes_needed = target_count - current_count\n",
        "\n",
        "    if nodes_needed > 0:\n",
        "        print(f\"Minority class '{minority_class}' needs {nodes_needed} nodes.\")\n",
        "\n",
        "        # List of nodes in the current minority class\n",
        "        nodes_in_class = [node for node in graphe.nodes() if graphe.nodes[node].get('eventType') == minority_class]\n",
        "\n",
        "        # Duplicate the nodes to achieve the target count\n",
        "        nodes_to_add = []\n",
        "        while len(nodes_to_add) < nodes_needed:\n",
        "            nodes_to_add.extend(nodes_in_class)\n",
        "\n",
        "        # Trim to exactly the number of nodes needed\n",
        "        nodes_to_add = nodes_to_add[:nodes_needed]\n",
        "\n",
        "        # Add duplicates to the new graph (create new nodes with the same attributes)\n",
        "        for node in nodes_to_add:\n",
        "            new_node = f\"{node}_duplicate\"  # New unique node name\n",
        "            new_graphe.add_node(new_node, **graphe.nodes[node])  # Copy attributes\n",
        "            # Add an edge to a random neighboring node (optional, to keep the graph connected)\n",
        "            if len(list(graphe.neighbors(node))) > 0:\n",
        "                new_graphe.add_edge(new_node, random.choice(list(graphe.neighbors(node))))\n",
        "\n",
        "# Verify the updated class distribution in the new graph\n",
        "new_node_classes = [new_graphe.nodes[node].get('eventType') for node in new_graphe.nodes()]\n",
        "new_node_class_counts = pd.Series(new_node_classes).value_counts()\n",
        "\n",
        "print(\"Updated Class Distribution in new graph:\")\n",
        "print(new_node_class_counts)\n"
      ],
      "metadata": {
        "colab": {
          "base_uri": "https://localhost:8080/"
        },
        "id": "cWjCdQnk7uMS",
        "outputId": "40051028-4c8e-4cdc-d395-f0479189331b"
      },
      "execution_count": 39,
      "outputs": [
        {
          "output_type": "stream",
          "name": "stdout",
          "text": [
            "Class Distribution before oversampling:\n",
            "earthquake    8\n",
            "flood         7\n",
            "typhoon       6\n",
            "wildfire      5\n",
            "shooting      5\n",
            "bombing       3\n",
            "Name: count, dtype: int64\n",
            "Minority Classes: Index(['flood', 'typhoon', 'wildfire', 'shooting', 'bombing'], dtype='object')\n",
            "Minority class 'flood' needs 1 nodes.\n",
            "Minority class 'typhoon' needs 2 nodes.\n",
            "Minority class 'wildfire' needs 3 nodes.\n",
            "Minority class 'shooting' needs 3 nodes.\n",
            "Minority class 'bombing' needs 5 nodes.\n",
            "Updated Class Distribution in new graph:\n",
            "wildfire      8\n",
            "earthquake    8\n",
            "flood         8\n",
            "typhoon       8\n",
            "shooting      8\n",
            "bombing       6\n",
            "Name: count, dtype: int64\n"
          ]
        }
      ]
    },
    {
      "cell_type": "code",
      "source": [
        "len(new_graphe.nodes())"
      ],
      "metadata": {
        "colab": {
          "base_uri": "https://localhost:8080/"
        },
        "id": "ebjj2SHF-ZKY",
        "outputId": "b6110135-aee2-4003-b208-eb07ce4f9d6c"
      },
      "execution_count": 42,
      "outputs": [
        {
          "output_type": "execute_result",
          "data": {
            "text/plain": [
              "109639"
            ]
          },
          "metadata": {},
          "execution_count": 42
        }
      ]
    },
    {
      "cell_type": "code",
      "source": [
        "import random\n",
        "\n",
        "# Ensure reproducibility\n",
        "random.seed(42)\n",
        "\n",
        "# Get all edges and shuffle them\n",
        "edges = list(graphe.edges())\n",
        "random.shuffle(edges)\n",
        "\n",
        "# Split edges into train (70%) and test (30%)\n",
        "split_idx = int(0.7 * len(edges))\n",
        "train_edges = edges[:split_idx]\n",
        "test_edges = edges[split_idx:]\n",
        "\n",
        "# Create the train graph\n",
        "train_graph = nx.Graph()\n",
        "train_graph.add_nodes_from(graphe.nodes(data=True))\n",
        "train_graph.add_edges_from(train_edges)\n",
        "\n",
        "# Create the test set (you won't actually create a graph from it, just keep the edge list)\n",
        "test_set = test_edges\n",
        "\n",
        "# Print results\n",
        "print(f\"Total edges: {len(edges)}\")\n",
        "print(f\"Train edges: {len(train_edges)}\")\n",
        "print(f\"Test edges: {len(test_set)}\")\n"
      ],
      "metadata": {
        "colab": {
          "base_uri": "https://localhost:8080/"
        },
        "id": "xr2K5O6F08fs",
        "outputId": "867e73af-3df0-4938-a088-ff7f88476904"
      },
      "execution_count": 5,
      "outputs": [
        {
          "output_type": "stream",
          "name": "stdout",
          "text": [
            "Total edges: 311654\n",
            "Train edges: 218157\n",
            "Test edges: 93497\n"
          ]
        }
      ]
    }
  ]
}
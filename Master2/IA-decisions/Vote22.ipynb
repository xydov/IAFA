{
 "cells": [
  {
   "cell_type": "markdown",
   "metadata": {},
   "source": [
    "# Etude de cas  - \"Presidentielle 2022\"\n",
    "\n",
    "\n",
    "\n",
    "## 1.  Règles Condorcet cohérentes \n",
    "\n",
    "\n",
    "\n",
    " \n",
    "\n",
    "Lors des election presidentielles de 2022 en France, une  série d'experimentations a été  en France. (voir https://vote.imag.fr/about  pour plus de details)  \n",
    "\n",
    "Voici un tableau qui synthétise les resultats sous forme de scores de Duels\n",
    "\n",
    "https://docs.google.com/spreadsheets/d/1AK8b9E7ctoeeTdF767FJXkeUYNLqgcTQ3P3NCkLVjMI/edit?usp=sharing\n",
    "\n"
   ]
  },
  {
   "cell_type": "markdown",
   "metadata": {},
   "source": [
    "Determiner si il y a un gagnant de Condorcet\n",
    "\n",
    "Determiner l'ordre sur les candidats obtenu par la regle de  Copeland"
   ]
  },
  {
   "cell_type": "markdown",
   "metadata": {},
   "source": [
    "**Ajoutez vos resultats au google drive**   https://docs.google.com/spreadsheets/d/1F_73g9hi_rxjkIszzRkt36YteB2qSxMU1bu454mcBqM/edit?usp=sharing"
   ]
  },
  {
   "cell_type": "markdown",
   "metadata": {},
   "source": [
    "## 2.  Règles non  Condorcet cohérentes  \n",
    " \n",
    "\n",
    "Les données ont ete mises en ligne ici :\n",
    "\n",
    "ordreh    https://docs.google.com/spreadsheets/d/1L4JG_hvWMnzsOvpcJF0Xu2Xab5gTKspKsZ2ahy2gdV8/edit?usp=sharing\n",
    "\n",
    "notesh    https://docs.google.com/spreadsheets/d/1HEAPSuIsa2Bj19NLszozGZZl2aLVztRotULI0eKyxvQ/edit?usp=sharing"
   ]
  },
  {
   "cell_type": "markdown",
   "metadata": {},
   "source": [
    "Le fichier notesh  contient les reponses d'electeurs à qui l'on a demandé d'attribuer une note à chaque candidat à l'aide d'un curseur  (0: le candidat n'est pas apprécié du tout de l'electeur, 100: c 'est le candidat parfait).\n",
    "\n",
    "Il est facile d'en déduire le candidat préféré du votant ou son ordre de préférence: ce classement est donné dans le ficiher ordreh  (1: candidat prefere du votant; 2 second prefere etc).\n",
    "\n",
    "On a également indiqué pour chaque votant pour un poids de correction, l 'echantillon n'etant pas representatif  (voir https://vote.imag.fr/results/online-2022   paragraphe\"Comment sont corrigées les données ?\"\n",
    "\n",
    "Determiner   qui serait le gagnant pour les méthodes\n",
    "        \n",
    "        - Borda\n",
    "        - Approval voting (on prendra un seuil d'approbation à la note 50)\n",
    "        - scruting majoritaire à deux tours \n",
    "        - IRV_inv, IRV  (SVT est une geneneralization de IRV pour les pb avec plusieurs sieges à pourvoir)\n",
    "        \n",
    "\n",
    "pour cet echantillon de la pobulation- vous pouvez utiliser un tableur type excel ou calc, implementer en python si vous voulez"
   ]
  },
  {
   "cell_type": "markdown",
   "metadata": {},
   "source": [
    "**Ajoutez vos resultats au google drive**   https://docs.google.com/spreadsheets/d/1F_73g9hi_rxjkIszzRkt36YteB2qSxMU1bu454mcBqM/edit?usp=sharing"
   ]
  },
  {
   "cell_type": "markdown",
   "metadata": {},
   "source": [
    "##  3. Vote electronique\n",
    "\n",
    "Implementer des fonctions python capables de determiner, pour des fichiers du format notesh.csv  des fonctions de calcul de resultats de votes:\n",
    "    \n",
    "    * Gagnant de Condorcet\n",
    "    * Copeland\n",
    "    * Borda\n",
    "    * IRV, IRV-inv, STV eventuellement\n",
    "    * Scrutin majoritaire à deux tours\n",
    "    * etc\n",
    "    \n",
    "Vous pouvez partager du code avec les autres groupes,  vous distribuer les fonctions de vote, etc\n",
    "\n",
    " \n",
    "    "
   ]
  },
  {
   "cell_type": "code",
   "execution_count": null,
   "metadata": {},
   "outputs": [],
   "source": []
  }
 ],
 "metadata": {
  "kernelspec": {
   "display_name": "Python 3",
   "language": "python",
   "name": "python3"
  },
  "language_info": {
   "codemirror_mode": {
    "name": "ipython",
    "version": 3
   },
   "file_extension": ".py",
   "mimetype": "text/x-python",
   "name": "python",
   "nbconvert_exporter": "python",
   "pygments_lexer": "ipython3",
   "version": "3.8.5"
  }
 },
 "nbformat": 4,
 "nbformat_minor": 4
}

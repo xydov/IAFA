{
  "cells": [
    {
      "cell_type": "markdown",
      "id": "1150438f",
      "metadata": {
        "id": "1150438f"
      },
      "source": [
        "### TP Apprentissage par renforcement 2/2\n",
        "\n",
        "Dans cette séance, nous allons utiliser des implémentations existantes d'algorithmes d'apprentissage par renforcement (par exemple DQN), avec la librairire stable-baselines, et voir comment arriver à régler\n",
        "les paramètres de l'algorithme pour améliorer les performances.\n",
        "\n",
        "Il y a d'abord un certain nombre de choses à installer (décommentez les lignes ci-dessous):"
      ]
    },
    {
      "cell_type": "code",
      "execution_count": null,
      "id": "60bf4782",
      "metadata": {
        "id": "60bf4782"
      },
      "outputs": [],
      "source": [
        "!pip install stable-baselines3\\[extra\\]\n",
        "!pip install git+https://github.com/carlosluis/stable-baselines3@fix_tests\n",
        "!pip install pyglet==1.5.27\n",
        "!pip install pygame tqdm ipywidgets\n",
        "# attention stablebaselines va installer openAI gym 0.26 -> change l'api d'affichage"
      ]
    },
    {
      "cell_type": "code",
      "execution_count": null,
      "id": "7d5eaf9d",
      "metadata": {
        "id": "7d5eaf9d"
      },
      "outputs": [],
      "source": [
        "# pour s'adapter à colab\n",
        "import sys, os\n",
        "IN_COLAB = 'google.colab' in sys.modules\n",
        "if IN_COLAB:\n",
        "    os.environ[\"SDL_VIDEODRIVER\"] = \"dummy\""
      ]
    },
    {
      "cell_type": "code",
      "execution_count": null,
      "id": "6d07c1b4",
      "metadata": {
        "id": "6d07c1b4"
      },
      "outputs": [],
      "source": [
        "# pour lire des videos locales facilement\n",
        "from tqdm import tqdm\n",
        "import numpy as np\n",
        "import matplotlib\n",
        "import matplotlib.pyplot as plt\n",
        "import numpy as np\n",
        "import matplotlib.animation as animation\n",
        "import matplotlib.cm as cm\n",
        "\n",
        "from base64 import b64encode\n",
        "from IPython.display import HTML\n",
        "\n",
        "\n",
        "def play_video(v_path,width=400):\n",
        "      mp4 = open(v_path,'rb').read()\n",
        "      data_url = \"data:video/mp4;base64,\" + b64encode(mp4).decode()\n",
        "      return HTML(\"\"\"\n",
        "          <video width=%d controls>\n",
        "          <source src=\"%s\" type=\"video/mp4\">\n",
        "          </video>\n",
        "          \"\"\" % (width,data_url))\n",
        "\n",
        "# images sauvées pendant la simulation -> video\n",
        "def make_video(images,outfile=\"movie.mp4\"):\n",
        "    fig = plt.figure()\n",
        "    img_frames = []\n",
        "    for img in tqdm(images):\n",
        "        img_frames.append([plt.imshow(img,cmap=cm.Greys_r,animated=True)])\n",
        "    ani = animation.ArtistAnimation(fig, img_frames, interval=50, blit=True,\n",
        "                                repeat_delay=1000)\n",
        "    ani.save(outfile)"
      ]
    },
    {
      "cell_type": "markdown",
      "id": "204ab144",
      "metadata": {
        "id": "204ab144"
      },
      "source": [
        "Nous allons tenter de résoudre le problème suivant: une voiture essaie de monter une pente, mais son moteur n'est pas assez puissant pour y aller directement:\n",
        "![image.png](attachment:image.png)\n",
        "\n",
        "Ce problème fait partie des environnements implémentés dans OpenAI gym"
      ]
    },
    {
      "cell_type": "code",
      "execution_count": null,
      "id": "03b41554",
      "metadata": {
        "id": "03b41554"
      },
      "outputs": [],
      "source": [
        "import gym\n",
        "\n",
        "\n",
        "# render_mode changement d'API passage 0.25 -> 0.26\n",
        "env = gym.make('MountainCar-v0',render_mode=\"rgb_array_list\")"
      ]
    },
    {
      "cell_type": "code",
      "execution_count": null,
      "id": "9e276887",
      "metadata": {
        "colab": {
          "base_uri": "https://localhost:8080/",
          "height": 35
        },
        "id": "9e276887",
        "outputId": "d814831b-31d5-4cd7-cf06-8bbf7fc861d8"
      },
      "outputs": [
        {
          "output_type": "execute_result",
          "data": {
            "text/plain": [
              "'0.26.2'"
            ],
            "application/vnd.google.colaboratory.intrinsic+json": {
              "type": "string"
            }
          },
          "metadata": {},
          "execution_count": 6
        }
      ],
      "source": [
        "gym.__version__"
      ]
    },
    {
      "cell_type": "code",
      "execution_count": null,
      "id": "89e133c6",
      "metadata": {
        "id": "89e133c6"
      },
      "outputs": [],
      "source": [
        "# on récupère aussi une implémentation de DQN dans stable_baselines\n",
        "from stable_baselines3 import DQN\n",
        "\n",
        "#Valeurs par défaut pour DQN (copier cette cellule avant de faire des changements)\n",
        "kwargs0 = {\"learning_rate\":0.0001,\n",
        "              \"buffer_size\":1_000_000,\n",
        "              \"learning_starts\":5000,\n",
        "              \"batch_size\":32,\n",
        "              \"gamma\":0.99,\n",
        "              \"train_freq\":4,\n",
        "              \"gradient_steps\":1,\n",
        "              \"target_update_interval\":10000,\n",
        "              \"exploration_fraction\":0.1,\n",
        "              \"exploration_initial_eps\":1.0,\n",
        "              \"exploration_final_eps\":0.05,\n",
        "              \"max_grad_norm\":10,\n",
        "              \"policy_kwargs\":None,\n",
        "         }\n",
        "\n",
        "# On peut aussi modifier le réseau de neurones par défaut, qui est un perceptron multi-couches,\n",
        "# en spécifiant les tailles des couches cachées: ici 2 couches chacune de taille 32\n",
        "kwargs0[\"policy_kwargs\"] = dict(net_arch=[32, 32])"
      ]
    },
    {
      "cell_type": "code",
      "source": [
        "# on récupère aussi une implémentation de DQN dans stable_baselines\n",
        "from stable_baselines3 import DQN\n",
        "kwargs1 = {\n",
        "    \"learning_rate\": 0.01,\n",
        "    \"buffer_size\": 50_000,\n",
        "    \"learning_starts\": 100,\n",
        "    \"batch_size\": 128,\n",
        "    \"gamma\": 0.99,\n",
        "    \"train_freq\": 16,\n",
        "    \"gradient_steps\": 8,\n",
        "    \"target_update_interval\": 100,\n",
        "    \"exploration_fraction\": 0.1,\n",
        "    \"exploration_initial_eps\": 1.0,\n",
        "    \"exploration_final_eps\": 0.05,\n",
        "    \"max_grad_norm\": 10,\n",
        "    \"policy_kwargs\": None,\n",
        "}\n",
        "\n",
        "# On peut aussi modifier le réseau de neurones par défaut, qui est un perceptron multi-couches,\n",
        "# en spécifiant les tailles des couches cachées: ici 2 couches chacune de taille 32\n",
        "kwargs1[\"policy_kwargs\"] = dict(net_arch=[256, 256])"
      ],
      "metadata": {
        "id": "j_OJC16leR2U"
      },
      "id": "j_OJC16leR2U",
      "execution_count": null,
      "outputs": []
    },
    {
      "cell_type": "code",
      "source": [
        "kwargs1"
      ],
      "metadata": {
        "id": "VALHnJGViNbK"
      },
      "id": "VALHnJGViNbK",
      "execution_count": null,
      "outputs": []
    },
    {
      "cell_type": "markdown",
      "id": "92667122",
      "metadata": {
        "id": "92667122"
      },
      "source": [
        "Reprenons le schéma de l'algorithme DQN vu en cours :\n",
        "\n",
        "![image.png](attachment:image.png)"
      ]
    },
    {
      "cell_type": "markdown",
      "id": "9dca493c",
      "metadata": {
        "id": "9dca493c"
      },
      "source": [
        "Signification des hyper-paramètres: (voir aussi https://stable-baselines3.readthedocs.io/en/master/modules/dqn.html)\n",
        "\n",
        "- buffer_size: taille de la mémoire (memory replay)\n",
        "- exploration_final_eps/initial/fraction: l'epsilon qui décide la probabilité d'exploration au hasard peut être dynamique: ici il démarre avec une certaine valeur (initial), est diminué régulièrement (en * par fraction), jusqu'à atteindre la valeur finale, ou il restera alors constant.\n",
        "- learning_starts: nombre de pas dans l'environnement qui sont stockés avant de commencer l'entrainement du réseau\n",
        "- target_update_interval: au bout de combien de pas on met à jour le réseau Q cible (=C dans l'algo ci-dessus)\n",
        "- train_freq: mise à jour du modèle tous les n steps\n",
        "\n",
        "### A faire :\n",
        "Les parametres par défaut ne sont pas adaptés au problème ici, et il faut donc essayer de changer :\n",
        "\n",
        "- la taille du memory replay (pas trop gros)\n",
        "- du coup quel autre paramètre faut-il changer ? réponse learning_starts + target update interval\n",
        "- le perceptron de départ n'a pas assez de paramètres: essayer d'augmenter la taille de la/des couches cachées\n",
        "- relever le learning rate si rien ne se passe (10^n en augmentant n)\n",
        "- taille des batchs + train freq (32,64,128) // (4,8,16)\n",
        "- gradient steps: mettre 8\n",
        "- seulement quand le training commence à être mieux -> allonger le nb de steps de l'entrainement\n"
      ]
    },
    {
      "cell_type": "markdown",
      "id": "2aaaf1ca",
      "metadata": {
        "id": "2aaaf1ca"
      },
      "source": [
        "Pour surveiller commence se passe l'entrainement, on va enregistrer ce qui se passe dans un fichier annexe:"
      ]
    },
    {
      "cell_type": "code",
      "execution_count": null,
      "id": "7584a5db",
      "metadata": {
        "id": "7584a5db"
      },
      "outputs": [],
      "source": [
        "from stable_baselines3.common.logger import configure\n",
        "\n",
        "tmp_path = \"/tmp/sb3_log/\"\n",
        "#on efface le précédent sinon tout se cumule dans le même fichier; à adapter pour windoz\n",
        "!rm $tmp_path/progress.csv\n",
        "new_logger = configure(tmp_path, [\"csv\"])"
      ]
    },
    {
      "cell_type": "code",
      "execution_count": null,
      "id": "573b1b6b",
      "metadata": {
        "colab": {
          "base_uri": "https://localhost:8080/",
          "height": 103,
          "referenced_widgets": [
            "defae2ca2dae443c8e690b58d2db6b39",
            "4687aa57edd148cca56d1ea603901819"
          ]
        },
        "id": "573b1b6b",
        "outputId": "98b8b8c1-1fab-42ec-e1ab-b90fb8c3d3de"
      },
      "outputs": [
        {
          "output_type": "display_data",
          "data": {
            "text/plain": [
              "Output()"
            ],
            "application/vnd.jupyter.widget-view+json": {
              "version_major": 2,
              "version_minor": 0,
              "model_id": "defae2ca2dae443c8e690b58d2db6b39"
            }
          },
          "metadata": {}
        },
        {
          "output_type": "stream",
          "name": "stdout",
          "text": [
            "Using cuda device\n",
            "Wrapping the env with a `Monitor` wrapper\n",
            "Wrapping the env in a DummyVecEnv.\n"
          ]
        },
        {
          "output_type": "display_data",
          "data": {
            "text/plain": [],
            "text/html": [
              "<pre style=\"white-space:pre;overflow-x:auto;line-height:normal;font-family:Menlo,'DejaVu Sans Mono',consolas,'Courier New',monospace\"></pre>\n"
            ]
          },
          "metadata": {}
        },
        {
          "output_type": "display_data",
          "data": {
            "text/plain": [
              "\n"
            ],
            "text/html": [
              "<pre style=\"white-space:pre;overflow-x:auto;line-height:normal;font-family:Menlo,'DejaVu Sans Mono',consolas,'Courier New',monospace\">\n",
              "</pre>\n"
            ]
          },
          "metadata": {}
        },
        {
          "output_type": "execute_result",
          "data": {
            "text/plain": [
              "<stable_baselines3.dqn.dqn.DQN at 0x7f63b80c09a0>"
            ]
          },
          "metadata": {},
          "execution_count": 20
        }
      ],
      "source": [
        "# commencer à 20/40_000 max pour le nb de pas, et n'augmentez pas avant que la courbe ait l'air de séaméliorer\n",
        "model = DQN(\"MlpPolicy\", env, verbose=1,**kwargs1)\n",
        "model.set_logger(new_logger)\n",
        "model.learn(total_timesteps=40_000,progress_bar=True)"
      ]
    },
    {
      "cell_type": "code",
      "execution_count": null,
      "id": "476eaa6b",
      "metadata": {
        "colab": {
          "base_uri": "https://localhost:8080/"
        },
        "id": "476eaa6b",
        "outputId": "de6d571e-b27f-4815-c38e-e3a8af0e30de"
      },
      "outputs": [
        {
          "output_type": "stream",
          "name": "stdout",
          "text": [
            "progress.csv\n"
          ]
        },
        {
          "output_type": "execute_result",
          "data": {
            "text/plain": [
              "Index(['rollout/exploration_rate', 'train/n_updates', 'train/loss',\n",
              "       'time/total_timesteps', 'time/time_elapsed', 'rollout/ep_rew_mean',\n",
              "       'train/learning_rate', 'rollout/ep_len_mean', 'time/fps',\n",
              "       'time/episodes'],\n",
              "      dtype='object')"
            ]
          },
          "metadata": {},
          "execution_count": 21
        }
      ],
      "source": [
        "import pandas as pds\n",
        "!ls $tmp_path\n",
        "log = pds.read_csv(tmp_path+\"/progress.csv\")\n",
        "log.columns\n",
        "# cf https://stable-baselines3.readthedocs.io/en/master/common/logger.html"
      ]
    },
    {
      "cell_type": "code",
      "source": [
        "max(log[\"rollout/ep_rew_mean\"])"
      ],
      "metadata": {
        "colab": {
          "base_uri": "https://localhost:8080/"
        },
        "id": "MeKOXc9UnQ-F",
        "outputId": "87264250-c0b6-46fa-ecb7-d46413494651"
      },
      "id": "MeKOXc9UnQ-F",
      "execution_count": null,
      "outputs": [
        {
          "output_type": "execute_result",
          "data": {
            "text/plain": [
              "-149.84"
            ]
          },
          "metadata": {},
          "execution_count": 22
        }
      ]
    },
    {
      "cell_type": "code",
      "execution_count": null,
      "id": "62796123",
      "metadata": {
        "colab": {
          "base_uri": "https://localhost:8080/",
          "height": 206
        },
        "id": "62796123",
        "outputId": "e6a5f44d-96a0-4a04-82c8-e3204a2c6739"
      },
      "outputs": [
        {
          "output_type": "execute_result",
          "data": {
            "text/plain": [
              "    rollout/exploration_rate  train/n_updates  train/loss  \\\n",
              "55                      0.05            18720  113.064378   \n",
              "56                      0.05            19032  152.924044   \n",
              "57                      0.05            19296  215.531704   \n",
              "58                      0.05            19608  276.576818   \n",
              "59                      0.05            19896  224.462132   \n",
              "\n",
              "    time/total_timesteps  time/time_elapsed  rollout/ep_rew_mean  \\\n",
              "55                 37546                262              -149.84   \n",
              "56                 38170                266              -151.30   \n",
              "57                 38692                269              -152.02   \n",
              "58                 39313                274              -152.49   \n",
              "59                 39904                278              -152.92   \n",
              "\n",
              "    train/learning_rate  rollout/ep_len_mean  time/fps  time/episodes  \n",
              "55                 0.01               149.84       142            224  \n",
              "56                 0.01               151.30       143            228  \n",
              "57                 0.01               152.02       143            232  \n",
              "58                 0.01               152.49       143            236  \n",
              "59                 0.01               152.92       143            240  "
            ],
            "text/html": [
              "\n",
              "  <div id=\"df-3eab2d64-cebc-41dc-a265-182f6eba9b6e\" class=\"colab-df-container\">\n",
              "    <div>\n",
              "<style scoped>\n",
              "    .dataframe tbody tr th:only-of-type {\n",
              "        vertical-align: middle;\n",
              "    }\n",
              "\n",
              "    .dataframe tbody tr th {\n",
              "        vertical-align: top;\n",
              "    }\n",
              "\n",
              "    .dataframe thead th {\n",
              "        text-align: right;\n",
              "    }\n",
              "</style>\n",
              "<table border=\"1\" class=\"dataframe\">\n",
              "  <thead>\n",
              "    <tr style=\"text-align: right;\">\n",
              "      <th></th>\n",
              "      <th>rollout/exploration_rate</th>\n",
              "      <th>train/n_updates</th>\n",
              "      <th>train/loss</th>\n",
              "      <th>time/total_timesteps</th>\n",
              "      <th>time/time_elapsed</th>\n",
              "      <th>rollout/ep_rew_mean</th>\n",
              "      <th>train/learning_rate</th>\n",
              "      <th>rollout/ep_len_mean</th>\n",
              "      <th>time/fps</th>\n",
              "      <th>time/episodes</th>\n",
              "    </tr>\n",
              "  </thead>\n",
              "  <tbody>\n",
              "    <tr>\n",
              "      <th>55</th>\n",
              "      <td>0.05</td>\n",
              "      <td>18720</td>\n",
              "      <td>113.064378</td>\n",
              "      <td>37546</td>\n",
              "      <td>262</td>\n",
              "      <td>-149.84</td>\n",
              "      <td>0.01</td>\n",
              "      <td>149.84</td>\n",
              "      <td>142</td>\n",
              "      <td>224</td>\n",
              "    </tr>\n",
              "    <tr>\n",
              "      <th>56</th>\n",
              "      <td>0.05</td>\n",
              "      <td>19032</td>\n",
              "      <td>152.924044</td>\n",
              "      <td>38170</td>\n",
              "      <td>266</td>\n",
              "      <td>-151.30</td>\n",
              "      <td>0.01</td>\n",
              "      <td>151.30</td>\n",
              "      <td>143</td>\n",
              "      <td>228</td>\n",
              "    </tr>\n",
              "    <tr>\n",
              "      <th>57</th>\n",
              "      <td>0.05</td>\n",
              "      <td>19296</td>\n",
              "      <td>215.531704</td>\n",
              "      <td>38692</td>\n",
              "      <td>269</td>\n",
              "      <td>-152.02</td>\n",
              "      <td>0.01</td>\n",
              "      <td>152.02</td>\n",
              "      <td>143</td>\n",
              "      <td>232</td>\n",
              "    </tr>\n",
              "    <tr>\n",
              "      <th>58</th>\n",
              "      <td>0.05</td>\n",
              "      <td>19608</td>\n",
              "      <td>276.576818</td>\n",
              "      <td>39313</td>\n",
              "      <td>274</td>\n",
              "      <td>-152.49</td>\n",
              "      <td>0.01</td>\n",
              "      <td>152.49</td>\n",
              "      <td>143</td>\n",
              "      <td>236</td>\n",
              "    </tr>\n",
              "    <tr>\n",
              "      <th>59</th>\n",
              "      <td>0.05</td>\n",
              "      <td>19896</td>\n",
              "      <td>224.462132</td>\n",
              "      <td>39904</td>\n",
              "      <td>278</td>\n",
              "      <td>-152.92</td>\n",
              "      <td>0.01</td>\n",
              "      <td>152.92</td>\n",
              "      <td>143</td>\n",
              "      <td>240</td>\n",
              "    </tr>\n",
              "  </tbody>\n",
              "</table>\n",
              "</div>\n",
              "    <div class=\"colab-df-buttons\">\n",
              "\n",
              "  <div class=\"colab-df-container\">\n",
              "    <button class=\"colab-df-convert\" onclick=\"convertToInteractive('df-3eab2d64-cebc-41dc-a265-182f6eba9b6e')\"\n",
              "            title=\"Convert this dataframe to an interactive table.\"\n",
              "            style=\"display:none;\">\n",
              "\n",
              "  <svg xmlns=\"http://www.w3.org/2000/svg\" height=\"24px\" viewBox=\"0 -960 960 960\">\n",
              "    <path d=\"M120-120v-720h720v720H120Zm60-500h600v-160H180v160Zm220 220h160v-160H400v160Zm0 220h160v-160H400v160ZM180-400h160v-160H180v160Zm440 0h160v-160H620v160ZM180-180h160v-160H180v160Zm440 0h160v-160H620v160Z\"/>\n",
              "  </svg>\n",
              "    </button>\n",
              "\n",
              "  <style>\n",
              "    .colab-df-container {\n",
              "      display:flex;\n",
              "      gap: 12px;\n",
              "    }\n",
              "\n",
              "    .colab-df-convert {\n",
              "      background-color: #E8F0FE;\n",
              "      border: none;\n",
              "      border-radius: 50%;\n",
              "      cursor: pointer;\n",
              "      display: none;\n",
              "      fill: #1967D2;\n",
              "      height: 32px;\n",
              "      padding: 0 0 0 0;\n",
              "      width: 32px;\n",
              "    }\n",
              "\n",
              "    .colab-df-convert:hover {\n",
              "      background-color: #E2EBFA;\n",
              "      box-shadow: 0px 1px 2px rgba(60, 64, 67, 0.3), 0px 1px 3px 1px rgba(60, 64, 67, 0.15);\n",
              "      fill: #174EA6;\n",
              "    }\n",
              "\n",
              "    .colab-df-buttons div {\n",
              "      margin-bottom: 4px;\n",
              "    }\n",
              "\n",
              "    [theme=dark] .colab-df-convert {\n",
              "      background-color: #3B4455;\n",
              "      fill: #D2E3FC;\n",
              "    }\n",
              "\n",
              "    [theme=dark] .colab-df-convert:hover {\n",
              "      background-color: #434B5C;\n",
              "      box-shadow: 0px 1px 3px 1px rgba(0, 0, 0, 0.15);\n",
              "      filter: drop-shadow(0px 1px 2px rgba(0, 0, 0, 0.3));\n",
              "      fill: #FFFFFF;\n",
              "    }\n",
              "  </style>\n",
              "\n",
              "    <script>\n",
              "      const buttonEl =\n",
              "        document.querySelector('#df-3eab2d64-cebc-41dc-a265-182f6eba9b6e button.colab-df-convert');\n",
              "      buttonEl.style.display =\n",
              "        google.colab.kernel.accessAllowed ? 'block' : 'none';\n",
              "\n",
              "      async function convertToInteractive(key) {\n",
              "        const element = document.querySelector('#df-3eab2d64-cebc-41dc-a265-182f6eba9b6e');\n",
              "        const dataTable =\n",
              "          await google.colab.kernel.invokeFunction('convertToInteractive',\n",
              "                                                    [key], {});\n",
              "        if (!dataTable) return;\n",
              "\n",
              "        const docLinkHtml = 'Like what you see? Visit the ' +\n",
              "          '<a target=\"_blank\" href=https://colab.research.google.com/notebooks/data_table.ipynb>data table notebook</a>'\n",
              "          + ' to learn more about interactive tables.';\n",
              "        element.innerHTML = '';\n",
              "        dataTable['output_type'] = 'display_data';\n",
              "        await google.colab.output.renderOutput(dataTable, element);\n",
              "        const docLink = document.createElement('div');\n",
              "        docLink.innerHTML = docLinkHtml;\n",
              "        element.appendChild(docLink);\n",
              "      }\n",
              "    </script>\n",
              "  </div>\n",
              "\n",
              "\n",
              "<div id=\"df-30cc3fe4-f28b-4116-901d-835da2d6daaf\">\n",
              "  <button class=\"colab-df-quickchart\" onclick=\"quickchart('df-30cc3fe4-f28b-4116-901d-835da2d6daaf')\"\n",
              "            title=\"Suggest charts\"\n",
              "            style=\"display:none;\">\n",
              "\n",
              "<svg xmlns=\"http://www.w3.org/2000/svg\" height=\"24px\"viewBox=\"0 0 24 24\"\n",
              "     width=\"24px\">\n",
              "    <g>\n",
              "        <path d=\"M19 3H5c-1.1 0-2 .9-2 2v14c0 1.1.9 2 2 2h14c1.1 0 2-.9 2-2V5c0-1.1-.9-2-2-2zM9 17H7v-7h2v7zm4 0h-2V7h2v10zm4 0h-2v-4h2v4z\"/>\n",
              "    </g>\n",
              "</svg>\n",
              "  </button>\n",
              "\n",
              "<style>\n",
              "  .colab-df-quickchart {\n",
              "      --bg-color: #E8F0FE;\n",
              "      --fill-color: #1967D2;\n",
              "      --hover-bg-color: #E2EBFA;\n",
              "      --hover-fill-color: #174EA6;\n",
              "      --disabled-fill-color: #AAA;\n",
              "      --disabled-bg-color: #DDD;\n",
              "  }\n",
              "\n",
              "  [theme=dark] .colab-df-quickchart {\n",
              "      --bg-color: #3B4455;\n",
              "      --fill-color: #D2E3FC;\n",
              "      --hover-bg-color: #434B5C;\n",
              "      --hover-fill-color: #FFFFFF;\n",
              "      --disabled-bg-color: #3B4455;\n",
              "      --disabled-fill-color: #666;\n",
              "  }\n",
              "\n",
              "  .colab-df-quickchart {\n",
              "    background-color: var(--bg-color);\n",
              "    border: none;\n",
              "    border-radius: 50%;\n",
              "    cursor: pointer;\n",
              "    display: none;\n",
              "    fill: var(--fill-color);\n",
              "    height: 32px;\n",
              "    padding: 0;\n",
              "    width: 32px;\n",
              "  }\n",
              "\n",
              "  .colab-df-quickchart:hover {\n",
              "    background-color: var(--hover-bg-color);\n",
              "    box-shadow: 0 1px 2px rgba(60, 64, 67, 0.3), 0 1px 3px 1px rgba(60, 64, 67, 0.15);\n",
              "    fill: var(--button-hover-fill-color);\n",
              "  }\n",
              "\n",
              "  .colab-df-quickchart-complete:disabled,\n",
              "  .colab-df-quickchart-complete:disabled:hover {\n",
              "    background-color: var(--disabled-bg-color);\n",
              "    fill: var(--disabled-fill-color);\n",
              "    box-shadow: none;\n",
              "  }\n",
              "\n",
              "  .colab-df-spinner {\n",
              "    border: 2px solid var(--fill-color);\n",
              "    border-color: transparent;\n",
              "    border-bottom-color: var(--fill-color);\n",
              "    animation:\n",
              "      spin 1s steps(1) infinite;\n",
              "  }\n",
              "\n",
              "  @keyframes spin {\n",
              "    0% {\n",
              "      border-color: transparent;\n",
              "      border-bottom-color: var(--fill-color);\n",
              "      border-left-color: var(--fill-color);\n",
              "    }\n",
              "    20% {\n",
              "      border-color: transparent;\n",
              "      border-left-color: var(--fill-color);\n",
              "      border-top-color: var(--fill-color);\n",
              "    }\n",
              "    30% {\n",
              "      border-color: transparent;\n",
              "      border-left-color: var(--fill-color);\n",
              "      border-top-color: var(--fill-color);\n",
              "      border-right-color: var(--fill-color);\n",
              "    }\n",
              "    40% {\n",
              "      border-color: transparent;\n",
              "      border-right-color: var(--fill-color);\n",
              "      border-top-color: var(--fill-color);\n",
              "    }\n",
              "    60% {\n",
              "      border-color: transparent;\n",
              "      border-right-color: var(--fill-color);\n",
              "    }\n",
              "    80% {\n",
              "      border-color: transparent;\n",
              "      border-right-color: var(--fill-color);\n",
              "      border-bottom-color: var(--fill-color);\n",
              "    }\n",
              "    90% {\n",
              "      border-color: transparent;\n",
              "      border-bottom-color: var(--fill-color);\n",
              "    }\n",
              "  }\n",
              "</style>\n",
              "\n",
              "  <script>\n",
              "    async function quickchart(key) {\n",
              "      const quickchartButtonEl =\n",
              "        document.querySelector('#' + key + ' button');\n",
              "      quickchartButtonEl.disabled = true;  // To prevent multiple clicks.\n",
              "      quickchartButtonEl.classList.add('colab-df-spinner');\n",
              "      try {\n",
              "        const charts = await google.colab.kernel.invokeFunction(\n",
              "            'suggestCharts', [key], {});\n",
              "      } catch (error) {\n",
              "        console.error('Error during call to suggestCharts:', error);\n",
              "      }\n",
              "      quickchartButtonEl.classList.remove('colab-df-spinner');\n",
              "      quickchartButtonEl.classList.add('colab-df-quickchart-complete');\n",
              "    }\n",
              "    (() => {\n",
              "      let quickchartButtonEl =\n",
              "        document.querySelector('#df-30cc3fe4-f28b-4116-901d-835da2d6daaf button');\n",
              "      quickchartButtonEl.style.display =\n",
              "        google.colab.kernel.accessAllowed ? 'block' : 'none';\n",
              "    })();\n",
              "  </script>\n",
              "</div>\n",
              "    </div>\n",
              "  </div>\n"
            ]
          },
          "metadata": {},
          "execution_count": 24
        }
      ],
      "source": [
        "log.tail()"
      ]
    },
    {
      "cell_type": "code",
      "execution_count": null,
      "id": "ceab0823",
      "metadata": {
        "id": "ceab0823"
      },
      "outputs": [],
      "source": [
        "#log.plot(x=\"time/total_timesteps\",y=\"train/loss\")"
      ]
    },
    {
      "cell_type": "code",
      "execution_count": null,
      "id": "3ef6113a",
      "metadata": {
        "colab": {
          "base_uri": "https://localhost:8080/",
          "height": 467
        },
        "id": "3ef6113a",
        "outputId": "7d96df52-cf4a-4677-860c-3ba67f37d852"
      },
      "outputs": [
        {
          "output_type": "execute_result",
          "data": {
            "text/plain": [
              "<Axes: xlabel='time/total_timesteps'>"
            ]
          },
          "metadata": {},
          "execution_count": 25
        },
        {
          "output_type": "display_data",
          "data": {
            "text/plain": [
              "<Figure size 640x480 with 1 Axes>"
            ],
            "image/png": "[encoded data removed]"
          },
          "metadata": {}
        }
      ],
      "source": [
        "log.plot(x=\"time/total_timesteps\",y=\"rollout/ep_rew_mean\")"
      ]
    },
    {
      "cell_type": "code",
      "execution_count": null,
      "id": "309507e3",
      "metadata": {
        "id": "309507e3"
      },
      "outputs": [],
      "source": [
        "# ne marchera pas tant que la mean reward à l'entrainement n'est pas au moins à -140/-120\n",
        "obs = env.reset()[0]\n",
        "for i in range(1000):\n",
        "    action, *_state = model.predict(obs,deterministic=False)\n",
        "    obs, reward, done, *info = env.step(action)\n",
        "    #env.render()\n",
        "    if done:\n",
        "        #obs = env.reset()\n",
        "        break"
      ]
    },
    {
      "cell_type": "code",
      "execution_count": null,
      "id": "ab7d5790",
      "metadata": {
        "colab": {
          "base_uri": "https://localhost:8080/",
          "height": 868
        },
        "id": "ab7d5790",
        "outputId": "34dc5bd6-79d4-460a-e1e9-44c1db75866b"
      },
      "outputs": [
        {
          "output_type": "stream",
          "name": "stderr",
          "text": [
            "100%|██████████| 245/245 [00:00<00:00, 477.75it/s]\n"
          ]
        },
        {
          "output_type": "execute_result",
          "data": {
            "text/plain": [
              "<IPython.core.display.HTML object>"
            ],
            "text/html": [
              "\n",
              "          <video width=600 controls>\n",
              "          <source src=\"data:video/mp4;base64,AAAAIGZ0eXBpc29tAAACAGlzb21pc28yYXZjMW1wNDEAAAAIZnJlZQAAr+5tZGF0AAACrgYF//+q3EXpvebZSLeWLNgg2SPu73gyNjQgLSBjb3JlIDE2MyByMzA2MCA1ZGI2YWE2IC0gSC4yNjQvTVBFRy00IEFWQyBjb2RlYyAtIENvcHlsZWZ0IDIwMDMtMjAyMSAtIGh0dHA6Ly93d3cudmlkZW9sYW4ub3JnL3gyNjQuaHRtbCAtIG9wdGlvbnM6IGNhYmFjPTEgcmVmPTMgZGVibG9jaz0xOjA6MCBhbmFseXNlPTB4MzoweDExMyBtZT1oZXggc3VibWU9NyBwc3k9MSBwc3lfcmQ9MS4wMDowLjAwIG1peGVkX3JlZj0xIG1lX3JhbmdlPTE2IGNocm9tYV9tZT0xIHRyZWxsaXM9MSA4eDhkY3Q9MSBjcW09MCBkZWFkem9uZT0yMSwxMSBmYXN0X3Bza2lwPTEgY2hyb21hX3FwX29mZnNldD0tMiB0aHJlYWRzPTMgbG9va2FoZWFkX3RocmVhZHM9MSBzbGljZWRfdGhyZWFkcz0wIG5yPTAgZGVjaW1hdGU9MSBpbnRlcmxhY2VkPTAgYmx1cmF5X2NvbXBhdD0wIGNvbnN0cmFpbmVkX2ludHJhPTAgYmZyYW1lcz0zIGJfcHlyYW1pZD0yIGJfYWRhcHQ9MSBiX2JpYXM9MCBkaXJlY3Q9MSB3ZWlnaHRiPTEgb3Blbl9nb3A9MCB3ZWlnaHRwPTIga2V5aW50PTI1MCBrZXlpbnRfbWluPTIwIHNjZW5lY3V0PTQwIGludHJhX3JlZnJlc2g9MCByY19sb29rYWhlYWQ9NDAgcmM9Y3JmIG1idHJlZT0xIGNyZj0yMy4wIHFjb21wPTAuNjAgcXBtaW49MCBxcG1heD02OSBxcHN0ZXA9NCBpcF9yYXRpbz0xLjQwIGFxPTE6MS4wMACAAAAXZGWIhAA///73aJ8Cm1pDeoDklcUl20+B/6tncHyP6QMAAAMAAAMAAAQwI4/0JP4fmpMAAAMARAALCEonn8Gaf8wEyytIYYJj8nr6Bc+rtVnJSWR3hcvxhoNTQKKePqz9KMeh2s8aUPPqxOy3Shtid3utN+f/TRVwZXQNzgsXzthuMkZGvTgC4X5CCsEo4UgrrwHC5wbtAB9Vpza9uDnYpQI4EisLA1dklT1FIx4Aka1fxtgHZzvBzupNXq0YfFP/TLd4UTWnj39EdkeMsZlgXWolxc9xegiDt0uhwvx/Vu6w+1Y60FAnFXufEL7vEjAHPgCw0JA9NxPXTelvTaiIh9XRDNBztdKtwri33fZ1YcnMR9c0WeZJwdsptCUwXScMWfB1Ezr/ubYK0fKFX+SSGNq/jxbVboD53qgqmW0aWE5QJDy1DQAGyOpK82ndf+nJVut+RSlRXX/wvNGAfmMjt0AAAAMAczPVzxZ11SasfMFJGZ8pSxINPoNNhrYsUqqH5HFQlu+0qIwAOjyXJ7UqsmpEuPe6U/Zp7gAd8DLMZIuGN9eZ2afd1mbjNOHKzhe//ngoZNeCGxa4+ZvKj+0fy83l7ogWXQRwxKhfQLSnol+1ssOfoyQpSuNfo+VuwJip7uh6/gkkbRrXpPwtGtmqeC4o9edKkLudxY7o4H0HgbmePkyl5cM7wFmCly8JjpZYa6XWE/1hD5VMVi1TegpShurvWTPtR0jZqBngdoJ9ICRg58cHNiNEU4X7f9uPELwayrbYYFzcd0xJFOudnuDSAjt/6nTbqHFQcaEq7OEt79h+NZy/1x5aQCWjy8AAAAMBMYysAMpdIECJ+Nn+igRCD+hSzEZtraIAwAEskfpCm6IhMCEmfWMHRTHYfQ8yajKjcczI/ERuPIQCxtjwBDvgFN62mTGLuRt/yvGTwdlI66NNhMomF1Ata0OivjcYvGkvhYo2DEq5qniYDK6EIG/t0tUpuAKU6jmYsILREx5EUNIDnlGBR5z/FTOlU4THxspaxPeX9+uvTQOUN6sGZCPbfLh2M2ErtJD8bQMMkez8JeegJegmJR/3JqME9sBsxiinhayes1WRsChD9UNx2r5l/rbOm+egMenxN5sxtz2b/XOy7563QOh4ejUnTlkKOCVusKyDoAW/AKZJUsiWdJZivb5qRjaISBWxkeMsnFW8aOVOollPOfF8WTpu7/63ww8/EDCfzCZhm0bpsuqy/O/33IN7JAMS3168Jv5gq8rW6qTwu0Teu5QG1OXGMSSrafiPJPR/PRcNKzt6px2ggbYtVbfTgkZn6vQMaEnXWhy2IYlLVJWcI2EvBJ8tl61JiR31IMElB8olEjS2anBxMXD9ANrZxjVUHoTUlmlI56xjitidkCC9Bgm+Y9b6OxsCxKunXvS1Egp1xlXeZQLj0TzTMEGEW390eO2gOcnS7eY62grpM9WmFyT+0zp7+S+AMFq1NVRCKBsTkeqDtzRj24rvqxihAiumRRZIXlqPg1fQJaaKsZvfIcGM1O5mc4Wp1sakjNpTjejTCyd83AV1ENXM7QvL+y2gA7RLNj3NyYr3fQ1tC7Qo/W6SD1zsl6N8XDTjunMpvMjI/jkqSeNrxKwfXzf24qzvMvaUHHxqyHFAREjwae5Tu4A4domoR00hiYWCjaBD97E3TKypwNih2N8cBGsLe+S5TinG/Yi46ZDNishbS6BCKy33oroXkcbGvSfG4ewiVgTqi7Fw+k4ZGts8c4C92F8bGxhJB8GCO9OcxuSy9yPH4nOebxmIgV7lUOAAV3HfHshYzt4u1ce/+hvvx4Tmw+R0h2RA633XGIUQkPgRpA3qC6JxRVKgmq9nk//7r8w4kNq/qqqIK1fHHLo3LxhfFTvMj3kY2Lzf17Ys6+WborozRZR7n2AjGvSJMJp69rhq7wCMDp4WanbqIGB7TNAuA9F767oJgDq68Quoht7Yieq29bCJ1d/sGKN8H/PumxvmRNldnCLwNFxxJrrViw5loLgSQq6sQ6rXKgMKqIRT0Qrlr4AYvdMM/caF1IleW2tF/OoAwOXhd6YsdTY0iK2THFAU5vDAvlFj7tqhHZ40vt3Kx2NAWhq/TfDEsoUENwexZCWmmNZ9V21oAaxeUQXKEhy8gSuCPLeRg+lI6+z866P7YYFplBAs0vGxGREGSYr2+JlGK5cjvTLXlFJ1JF10OsHDPrGo4M2VQDi2Dp7w7EUx5CRn7wO3xH43zH53QO1QtGt52i/0jzKpDE1wL416O+7BVFKuVgaObRO+ZDSt52W8UZSGP84DWmvf5nfo6MLbEFo+EUrTDHtMZSPuNoySbIcIvwU3bW7TWaqUL3ex2UNrMM0zM+gst2G2+LeZljl6exbeE+J8HuYOBURTW9msDhd6LIWOevesxAnxWbO+Sfvd9nv1H4g/+ayb1iSCWKtyR35cUIgLtNiqf2MdYA5/uKJUsq1PRy2PUcdNZLt5b7WIWB8gPrgITpYumeXvAFcUTHj9hhwOmN3VqpJJ7ab48pZKLBvGV3F+OuEc2bgZkeSq1r+euKxwcEiEWeO99duJIDz61lDAD3fU6hR8HmQABcAT2e6zevFkIjqa05j3sEc/PEYtxUopTcrXExADgJWFBic7mw+GGxzZslFwXhX/GmMk5OUSI1KdcAMkfwPstgMekzXPluVvJ+Eb9vqFd4Zacib37UWTp9hxqdZhbKYSqYps86IkE4IGkwd+4MGlvohyc2M26glhshTclN0GdfsrFnkwDONW6wBozSCIf5r+3s8UnPlfSYlDG/OGEYHTOVuLl43GRJoDPj3utzrpA614UBmCXddmxDxlCEcOMk3Dgo1d82wdyjr3TrWtNSThvLfnP497VfDIElbH49f2MoFBIp12qBh6cgK+q0cHreZFBqjofOpAIZSlD88/uyAjM4fVPE7NNbTRVoL0K5/f1IkDKGcL37baRjK0juCADRro5ypMUQvs5rA4aVD3XGMwRziKUU0tURCvUStvZf4A+GuZwyYHF8Mx7NWm2/rvqDX9hDfYqwadpzYwAXkH3NlTX12KuPl32l3NGIQkUjN2GI2BsddNrzwTphD3cV7M0rLHtFxCiBzA4V45hCEvdTH/jjHaktLRocnacYNdJda05PCIf25gt0wn59W4R3hLfIIIQ6b96TtvlsyD0aidM836jTNPJszNp5VDsxnPL5l1EExMBFAkNihBk+mhxhDAH2MIdRgQREh5TvQHNT/aQaG3NcXATfxsUK9+UDdSU2h6xfOUHqP+Fscs/ZT2BpPfE96Vw/4q3s3Ry9YlYGQGuJ9iCzV9H9+jKwEFzvGD3UUjPSICEIqoW0FhaliMXuzO7E8+u+ieAQhajvvZCYCnKY8ArKSoBEon6KNNf1ytf1IaZf/hmIuaJsTz2SnYwbq6uDlTn3hO2OG6vpLBH5l0hwuMA14lwnL/CEzrNKiYZugKcRses63j+Sie3URvXRlNh3Fupgbtrs8h/fJCxPhXoyuOR1HRv4vK7gA3mbQSTgBthMO6/iKepJWLixhsT4csOBbU1Nqxm7ZV9bHwO5H+xnjLCO9vAs/Gu3OsSDIejMJqjnwJv5O1NpVncCWZhr1qssFS0I5pJMHRVglA0JI9rR0tBwQdMBjm65r2/X6P+loEotBBm81agg52+9PdSLr1k+sc9jJqBezDs5j1xOi+/mnYBoWA45dEra7AJoB40bXAmEOYP3yrUYaBVrJgWVt3GCw3+tNqbC/ZgSK19maw4kE7ERq84vYpGJeWrqmQ4yegi08JY/RbqNNIF90DkgWya3vErgHqaAQSNvKal2DmcrGQWEiabsrldzeqE2cgxr0Fn5f1EsEu6wX0n7eCUrV2cjmhD5OAbXYNPJgNWW605eq16AFYqf2levgsDZ/pfIugAVEZGsW1nbSHzbXvcz54JROkvcTL9Xe8LlnB7d+Hid6zSlp1f+Qzkolq4BTimnaAicoBjgeIaQdDqndvsGUce5OqXc/G5khkTfOO3yVyZM3Ci6XEZxdswwdjRpnWonkLY0CSTND8a9K81/4V8Gb4DYkR92dT8MjsGLbRyaADn7jzuPiRMBZqzy53iKUkD+h6DKdRJ4w3n41e/negToSfcyqhDqpRw7acpo1aXlOP99tjuHG6DsX7VZe6OXpdHPq4tkey+AsLCv1k8JpeZoA5UfirFH7HZ5JaaG30SlgNOpn6cLehTnq2rjOXi0k5e1k3POzF0TB7dBoFSQdur3RgugceVyyiqYZ8Cx4SAiNtf33XcTJM85MGcdp/9VtQeV/cIS9iZGmuZW3ORir4Rp+psTdC5lkEmZP/Xl1TuKKp8mGossQ3DOwlvuePlvJQ1H8EN9XzXu7kntrwgXz0HJg+5wkrS8rYT1pW49lM4F07vnYE7gboeto48E3r4RbCa6N2EDWH+9fQrvGbmlEQWtfErnnn3s8o+CN7UHG0TAg/Gi9ncUmiOnHd9V+hbp0SKnNlZu054qZCxKW1A5m26ry/qLo8o6clnXoh0dnxptnOYw2H6VT7ZKvpwTFbToTdc72qBZ9t5deCViP32A1OKhZwhh4Qr9Yz1xdERyFS0/2UQNQsPyZTO6/FaxIX4jd4CBMF44rOCA1skyFnXPvxoYJ1jE/NKLgtGHenpypElgYLnPggd8WSXLUClxeTd/JSDTR7s6MS+qeuK0uPj1cnRpj7zMm3vq9sid5x/daXho89dK9dlJRDKEcDEtfcdm10yR0ugaFoAemvYrl4bZpWt1w1ch/fRuZVUgAAdF58s3jBzst8LKkzLpRvtwbQFXM0KtXHftJnuXDl9dW7TgHwQ8shMR8LS33ClfHm8/jyNWbwJsSdyzYfZ/4QkmgCfjpILoDN9CFEojn7J2RBJgjj8R61kdIULbgShoAUIlbCou210zIMjCopL2EzF8Mru2ZMp4X7bOwNaLieqOs/thqwFFNyldw76EFcuAPXqwB6Az/cDP5FYiI/2mWDykfdSAvotzzsAAoRzoPFayN++e/pP2XgrDih94XRWtxE0WZZx9SudnLih9lrYZot5fLlGcgj/xcjeXQGUDfPxLuBOnz7VmPYTKEzLKEWUZ4k+Faw2+WUvrJO+vKGYkEI/k6Mmsz1PO5dImqBxzkjsmwVaBbUa2zP2Aj6q0MjF+PbcWgCaOcZ7Pa2TM3DreuKCR043yBKdr+m8zmqoA3bbvsqawaJwKS2fSxiZKhMSZm6Am3ibIkUP6lDnLTmgJZ5+SJj02eT6sB0VvtQ3uZdc8Z3ykjStQcU8El99ypIoqjngiQXwf8kVw3t7eCkb9B4Y9VzWUHYNoZw0wbaeEtsBC1vHts9Jb9KT8ZSwspumiLejjMHzzOlXIoO2YXMuhLnMlkZ9POT1iWfHeNadmuKOcJnqwNA0/Zq3G5HY7s7jazmq3u8bVg8b4PYNKi5xSsxE9S69q9hE0lw5tHecfqvjFfBg+jewykawGTYdjO8HOJG3lmGrLDOd0T0j4y2+7Of70wPEBAtFfYDKM6gceE0yYomnG0tilPWlljXIaOFuM6oGOQ3a1cdIg7H6WdRDGUfWSXndqd8VJbiNxu5FLaP6WNUiYsz8zEDH6ttPE/6zE3okakapWdXiuy9JHDFG57oU1nOoW39EAvg3tWlAxRUWZFXY2yvrBAi81/NNUrpba6HIitBkX9LvW2+iGjQXklrwJ93cck+H/gQ8qDGRBpats4GH+TgsiwzpAz8fLIeLWFK4K+H4UHgKToDV/ylINbIljLKlhLdrOcY9PVwIoFSByCLWyABhiuGaTjq8i+8rLIbK4R+CdYMIRIuAla+eexzimrQAsyvjFeJgJ1/G05wVdI/er2ffVA+8XiZw1Pef5R7NB78dQnV1ueC1kVX4Nb/Sp7hnPPxjwYEaz/IwQ/4u+zADGug+QvDGabtNwHYxtaa+tb9x86FpRMDBsbAiLwdKgZ90b+mcwxMk3viQdtLO3EReoW3Als6aDyRyC+Dw9Sa5S31TMyoqUc2CzjVxLIe7nBkvbSu99Ztx1r66BSTpIzL+SV1IYDApjZZkeYJ/rAVmprfavF8IbqgZtKgeWdjJxGEyhW5uKZnJeA7z1YG/tSdPcA81xZI/PsHmfm+RJL7rTstb+uaPrr8vjzsu/Sehlvr42A6TDLLwObAUhrR0DscZG4zP2LkBIxm47USkmApsGqs5uP0AAcT/Eyh/cjbpCUPUA54VuibUUhNfEKQYC/f73jqkX8ZYQ8285cY4Hy0ZstXxr6AaHfpomOiKN/L1p6F2d4U85pSUseODV1e9bI2UBSqpea5YueHX5lVWWtIgMSTzs5Z9xk677ver6a75M6/O44VoLqsG7Yn0iNM/FJsseDFOGao2oZq0SLTW4uSb/pPPs4H7DCsWUn6tTo+J1GyGWjDBxtNhD7KwSXf9pfQENmZx3aXl55c3h9EGOq2qfbR5NL9/QdRubHU+r/yb618Ptc/XlDyJaBoGsfFSdBKETPPTqGxmefaVriZ+1R7toYoDNhlR376sBBa3SPolJnPtzcSFC6HmiS0lp93BUCSb42FWVYGmba3/V0fwaTdrHfkIbJMHEGjipBhlfqc46M5R/r1jEf6l91GSIYzDwDQSGQX+4uPMtMHBBfUYqYoHHVVP7tza+cVoYPIWqUIU+7HrhLiYze8cIRPQ6u3KdXS7+NhIpH7+79frxAY7GJLgXk08fzHebve2DQ+SOzbmhnoR68xnTG8jja6JwYC4Vg7O27VAInJJoT4VvkRzBmuJcTc49m479XgJFYvegHEsuRakgmqYSe40kbsZ4nbZE43enX+bCw4tv5Nfi4C4DhPAbcI0vGHTEqeSbtgfvKWR8+r3ajQ5A0IZqggVlIlNUlJ/35O6fq77ZHSeY+AC8hyOY13KVZVJooml2g88S3gNngMOf5oCbowZoLcBdfNq4hkuVgtJl6odlrMFhU8paNzkxiXpToVenpXzCePCKF8tp2x8pTapD8dMBDQaEb/u/wYBCR5P6IwP//CbQtGcXN6rHjM4zxH7rDKIOPy8HohkCY6ONNymcDzvFX5GQGDN+vxDdh68qsuzTXe+xxDsYWfdhwF/iWE7e+68HWYxgTVBKRL47kJ3Ei7iZkn/VDEE7spNS7epgA63AbEsznsRXMJGB/+bnvlqkrkT+/cFM9DCJgmchfsPOPQrk4saDo6p8aIAJgvu911KNZJRyBvU8381tokUZLAtcF8Otpxp5f8M1MGk6WZR0DPpBCgVPCe4wjYgxK2ew1a2ZC1+9aZ+ZvbxMuVcgurjPBB/SVLCKBpLUfBwzyz07taoNudRwyGFxrkYf6O2MjPPman2t9E5CEuO20U5zF0ljGXd5hgj0LQzmLTEzjYVXLxyyCpDgMmIxaETYOGVWEMhUfS0iS/8WnN0CTW4skKE2l4m+RmgvLPnXIAQm1o+ePvyu505RL2bQx6uibute0RNIvVezEityhpCREzjri5rC9q1I/pixVIYTn12sd/wz2t9zOgRW+sjBeZwKHNwR+elBjBRRgMgWd5AQsKG8HwXNYbQoKJzKMPQDIxiz//8X0DrJkmG0Ab6FTP6qUQ31ZxyfEBb3PsSsFOFGAZ+JN5XrxdiYt7Ie0tsgYBt2lyPS32RBGp/e0NkPT+GqZHjLmgGGTdiv8DfsqNoYCvSZlg8hTwiWdi0Uo+S1ay2kt9QRYDm/UpaIN09ucEOUiQPtUCY+7k9eLP3hXNU6KRFQytOitTOOpEkblqRSvLaU7omCvV2Q2d90Bs/hnA7mnef1hpgrkcypInf5Png9nbHRAz70BnHMUR2pk441KZTXy0EoK8njZbWIpI8rTQvyRpHnrppqJmg/giIS1I/kCABT8VyP9Zscy32txwlN0doyyf34BL1IiIClWYWB/C1nx/qw2RaNhSwze8ufNZDzm723oOo7iC4HyNDCzJ23lOYxYg4nJAH2JktvXz/fZiyF7KoAk1eAjiGHgUcwjaLrmgAKf8a0AAAAMBbwAAAMxBmiRsQ//+qZYAAN97pT4xoHY8+gFpfjnjY0wbWDcMiMJi9zWoLkpF+ua9SejNUYw4OYsIsveuYYPgECHI+69Y85SKnBKxC3xEs/bw4OukecNDTfqoYEPCJMgY3vk+DvyZVwHlsqAmWLPRMaLsyi8gCdYKeo6JGRGHNPXkm/ly7uKJYL1y5EWvXTQdoUOq0bk4w1JVD+E1l7n0gTRmcycdOTzxLra2HgGwQzm8woO6m2YYN7PW7GinGURgyO/aTon8uLsl8VBdhCye+4AAAABGQZ5CeIZ/AADD/Fd94u7uSE10CmrLlO3zTg3IjmXF2gYAH8YUQ61guOuQLCfMSuhyt8Y+eqgX/7O+2pYVPo502sYOB0DjgQAAAB8BnmF0Qr8AAWtMG+U0ADllmq+jPqOAWXRkH1yIVo+AAAAANAGeY2pCvwAAAwAAB4VGZH8SqQaUz76hqoOl+icnACFPaF85qJXcIEdGnNg1+ofK+mgY4qsAAAEGQZpoSahBaJlMCH///qmWAAUsaYTlgAA3L7BeUNAC/yGdWnWKcZuY1G+TV+rizObNWmvKENQcvG8x9xBOErHC4u6mV1WVGc3atyuha4Lah0IUekjvdEXTChlFTQuvSIDjLbi80ClXl0gQV70legRTAGim0NHwdldACsbjOx7/twsQv/98ThtjaL5QoXDYqkVTMrDGkR+w7dy6I/2aL6yqtjxxcdnpEPjwwPj5GOPnQHikoVHsPOy/g+sV6eIpgDOu5y+Rh1XWSReFXEJFY711H3PcQ8FBk41ItsmNYhegWH2snpqt2QAVEPoYE1LFTo4wqmYJUTbmb8oBd05AVaOKttq/8WMcHQAAAIZBnoZFESwz/wAAAwE+pqSSa8lu+nDUCo3NZRSfukH6gAuoT7AMMo0bGfBx7uDnrJBRU2FMTNOHWB+0APfeymy59S1s081vQmoEzxzZxic/4c7vr0hIrdgT09E6RlKm4xZKk9HDtGFGjt8uBOKPfZzJZdY1IMMOYz1cX9n7ZbrF/Ap+dh7ehQAAAEkBnqV0Qr8AAAMAAAfGGPO9r2v6f9kyaQdLvwAmAOp1WDevkssB1ABS5dY4hApsivceE0EDoLBNyzRjUeRx7tUIrdd+E/U9ul4FAAAAbAGep2pCvwAAAwAAB8OjoCwD5sPpt1sBZfKe3KVMGhH0ub0cIw6sJg5CxuJEhGpNqEQOcI0o2HcT+E8zcC8PO1pWvfqslsQF+kmBRBd8oqAWyknV9EO72opc0qcW7nS+14M5jrVETkVEshfubgAAAQJBmqxJqEFsmUwId//+qZYAAAMAAATgoQQg8MAJq6n6Jx6jc8lDhex+zdHWT2CJbHa4aiaO349SYL6rHqUk/vdQDBUGkTvDa+fTAisLCbj7LfB8a+M/V7QGL2tlIUq9n/QRMVbYC/n9scxWDUiueUbIWBeUkC6xYMna7jymK7Aqi4m4XzkQbG5pvq73ptpbl2cNzYyyI5UiIo2HAC/l2xlpVhqX9U58ex1O6EdrIQO6XQ11WVER10RqaYf7bzGLo9cIsGY4HpK1C6Rnxa0ffQVhlkngN6krtYuimZtd5c2CVQktIdkgAcNlYWhW7FyrfWXFaZWI/9/BYJyVHwkiku30cs4AAABtQZ7KRRUsM/8AAAMBPqakkmvJbvpilioUAD9/VMOcID9Xv9CDmIc9hq17rnjoXRrT8XoY3u6FtdA5QxOoI3V2cY2bYNkfvocFj/btwJKC/6Y2YbYYmwoR+s7XhGXcrhqB7rJoR0sfprf2+itm0wAAAEQBnul0Qr8AAAMAAAfFuI60Eu9ZGShup7vvbACHYLwfp8EBry5C2LUPYc0696g25ggQfhDvp8wPtsfRETCI+N4t9clTBAAAAGABnutqQr8AAAMAAAfBznSHG0KKgSYziQ0otEKI/T0g/k5geBdERlAyLifJ/bhAC0ZvVt8U29C6bYGYlmJHENlsOmV5UCE2t3GNKmFU/bX3wggmOjatakRU/dRyZeHaLMAAAADQQZruSahBbJlMFEw///6plgAAAwAABODEAkl5gAosfbkDQ8nxjR0If5QQMqpn3KxynN+jTGXgJFlnHFtYaN+PThzoLdh5V9qc3+xIOIHBbJhohOMqc+3J1cDX8hk5VftA0pf46VGmoVXo8b+nyMUj9EOAfcYeKmp1j6E69Btpa0Bue+XfiOBlBGZDdL14I+ult1+p/pAdmR7W3klGAvkTRHSaG447qzdghqTlDq47ALXJYwgWPt+mU1A7l+Xo4srg0GANZMYxapUnLm0tvd4TcQAAAFkBnw1qQr8AAAMAAAfdRsBGwqYGWgBEGZieLFAaRp1XfGIFo0gygvn8Yipk9YZqbn3QQzYIKgIwTGPlAwmICTu4oMClqnBNZ8uqI/plKb0XW3HyEnGH7VyXoQAAARlBmxJJ4QpSZTAh//6plgAAAwAABQi/yEBh87RTsADsNiHN0yuqRFBjJ65/YWuTa9qZwPXCbbaBm70nB6Nsgr5RRIGlnk+HeoGeuUFNByJF40yUMMcjSCwkYMTI38sjHwY/D2p91/M48/cAJbscsEElHR1tLjWyvChs3R+xPOlnZWyMtPuck3QFa95uO/Rf5kFSkP6tKcOspsDPelgC49zRCSZA2yzEElONJtVbsze1tn2jLrpUIF60czMDbSrBxBsyqFOIbPPz0dMRT5ucFo+F09v9lGbGlecGMK+kqR2tU7iyUMe4qCgNZM7g3tBN3NoC4EY9P5w96tJEzz7Lua4ZZPga8n1270SUY9yRrcdV7Rgwj++Y71VZwQAAAI1BnzBFNEwz/wAAAwE+lbQpflipHWen6+vvUAD6nPmRYVTIeZZEtPbLLg2R2w2UI/Ok006UEZB6LNhCO2m5jCchaFSP9gW+LuHskFWc/LPeG9SqDRo7ylZmsKv7tjd++o6ORdNt5chWCYDApkyRCsa5ItQFnFdw5oE2qQYHVPphjSewxInB/7bIR1XSTjwAAABjAZ9PdEK/AAADAAAH7zA88AEebgVmLFyEvhY4q4+XfkDdNrZOoYpl1kn6sfV707DMNpKuWfOIsOT05Uq9UqlZf2Qo0AKPP7CxwpHTjk9K2odLNfS0kjPBZmY2fseHeM5nPiLNAAAAWgGfUWpCvwAAAwAAFrr+Ken1sEADabItKf7HvgcmG2s1UnNpCVPUcjldtdjANh08x5t+McYANc70HVTSIEBAWcmXFZnSyY0IeQzfTlsYQr1ZWhLIhWQcYktYeQAAAT1Bm1ZJqEFomUwIf//+qZYAAAMAAA3kZHC/M9gBI2DdJDVNs1fFS144YyYLn/eVuMQc+uDxUUBYJvLlYGUq1m6TbE0Y+urmuk0xbcuq+Co3ogcoHlCp0ExD4EpUMhx9BlHc8lUovcOdvQvJrvqqk0m5c5uqUQxv8BELl7NeGbtNqdxBvO0lxYfq/jvdvWHwpdOWlFOSwpraEaNkJVfBgYDweGjQXDIibY6LDJ/N0Cjs150ygfDsj+IRML1eNKJXyQzdTXRADQez/A5nvLeIXSe6fZUAJBL6lFTXjOPPwMHSm5cpb9DegteZNUZdc8Fg/U2FSN2aK5q8jvrGLeM9W+LTHu+jZki2rmlQXMewziTK2p3WJj0UwI7qAkslCNkFeIh6AKXL81UbsdmdQnr50ZH1/vkQqix9CbZVbK9C4gAAAGlBn3RFESwz/wAAAwE+pqSSa8lyXs0JbLIYNh+Dga4AQ6GhuCABUe0Vjha6W5S9P+U8nyhA4zKjwk6bzC2lW+PHh4eX7uQC56B/LndOUkH3XIU+v/tQfz07pryis1HKU+JwT3KfxcGeJmAAAABGAZ+TdEK/AAADAAAWezHP9Qad0bjo4d2IysmbrZACatq9zLXyuQhQPfOCK+inHp6tBFtDkhlQp7Wsk2ZrGhM1U8bmXu3DgQAAAFgBn5VqQr8AAAMAABdK8PO89F3OAIkkTTwI7zcEzHcbUbNHC2BhHQRPo6Ak88BzSTjWKRwi0Jwfn7jD939xFqfezyDlrZnozrMbkaNrirRg4/u3R+Y5+YQYAAABCEGbmkmoQWyZTAh///6plgAAAwAADkcvR/RYdzqbAA7DMOoQOf28aKiW3kVsK8kG1e9xC9qoq8SN7WfvUWHxyUFOZxkS9N+z9jr+HrS56Zn7z6A1EevUtX3wxgEqo2RjuLZaJa+/BhGUynVk8C0jtVucqURoLK/qnmIilKrlOhuZmbvDDdMocOJcipU3rwbOMyTm0clLkrRcDte7wOrHp3w7sGk79IM7jg9xD5y1+VXtiOwt9NvllTXIhRKNwbw3IrxcS5LLsUZ45f1ASY2CIIqYjI7h31yAPYtlFdkhj7xond7x8R2zvmJ3rcTDriVWhmPKCbV7wUeKvWKY2hWrPs0zMIkThYSLOQAAAIRBn7hFFSwz/wAAAwE+pqSSa8lyWxwU/17IAE4oEYACKB16u0uhYMkJoOy1xqsazfrW2WsOuDGLp/n2YwvFjR1+3h7ClslIyZ0TJ6O58Sd4TGWV6l5+JfAFvlpDtIF5STNb4ISyWsawX7pqTw2WWMJGFHJ7CyF9AE6y6v2YP57/EjcAGpEAAABUAZ/XdEK/AAADAAAXSv57eTIzY+mgASc+pqBMHfsBu3JZaXKgH9jm7Q6BiG1yj6NpVI9Q/+nrr1xxoZb90uFu+rZuTKv3QM0iLAl43b3umRzAkJDgAAAAOQGf2WpCvwAAAwAAFzoLPtOEAzQDn4/W3c1GwiEAIHwBItKDYd+TkSSqK3xDcDHxuZmdLoLCTeBugQAAAQ5Bm95JqEFsmUwIf//+qZYAAAMAAChcLfhPAeoRNEJXfi0Qlr/JySg3sF/Z1Qm9mGVid9RG47ZaLk6jE0oeqvlFck2EXJAkD3YUv4eg1Y16S4raRa6SShNYGTa0qd9jdZ8dUR/QlJFO64SzlVerD6uN1UCY/KMVyX+Tp2yuJAYI0cZfwDcjOXJljyIEALPRYsPoBL4GMtsQ0Kqgyc9Ebn9mNocRarR9ok5Vo8KiA/N5zdQrKZjZBmspFl2hG/TLvLgH07RUNxBvuD2P6Hr3S3V71JvfIvt240vV/sdJ0DSwqGZ14bYy3M5U64o6+DbNhrbR6EK5+XDfM3H1+zJ0O8wCXz4jZFf/hDKatetsQOAAAAB7QZ/8RRUsM/8AAAMBPqakkmvJe1lQV1iKAC2evAVTetNpp3oi+iHxcPvWEijbIuQdRi4+OpQe16riBDztjgiZNXeNBXkBWIggXi3sjpj42aM/yoRVt/jlwSBT7LsJ3Cr20ErjDfJ+x4aAfrVHUhNaqYN6qSgbd65VDYYFAAAAQgGeG3RCvwAAAwAAPuo5zG+7DXwD+zNiDu4jEBWFtNm56WnRjQjoVrMoOB53LQAnXlKkhCAq7I9Zh0VWWpyIAzDKgQAAADUBnh1qQr8AAAMAAD7qOctbe6mCb+hp4n0TLe7jVwjPBNxXi2BC24MRxWPvDmHuNoWDpkgbQAAAAMlBmgJJqEFsmUwId//+qZYAAAMAACk6QTvTUAWuqME/8sMgwvKZtzoE+ZQIwHZ9+mou6HjWKU6d7KwIruCFlrroP6TMU5fSBgCNMYd7bJ35kPfxuo/XXjcRcotChJBq4r3acQHU1OQR/zkSEU3tpbC+aW97LvyAZJaO5U+Bzyt66s5B3xEKJLTAkbTFXg3TKo+LNsgpE2pBjQ2N1FrfZBPhNft+ND9zmqCYivwBMYKj9dEMiLW7EDFo9aZUuJtEjRrOyBEN67wrBJwAAABZQZ4gRRUsM/8AAAMBPqakkmvJe7NBztEyVhRoAIPWXWKMmyf2Au0R6tLXfTqoPhex1hzmrDlf0T7mgoSHjzqSPb0naxeOFmezq20ki6itvkpC3bvQgHL6D5kAAABYAZ5fdEK/AAADAAA/X0BsAjWBsbF8dtLASgAmdiQ2fvnuDpAU36D0l32nqzGDGPktxQh51QIFIjZmCv+5u3/PAk25YUXF+ihroeZe6fXlT/ldnm2hrNeVTAAAADkBnkFqQr8AAAMAAEFtlWFLesJttdeAE0Ooe7UdkUZFh1+siEv5KhB3o+lL4/WQAEKydzF2x98bAYsAAACxQZpFSahBbJlMCHf//qmWAAADAAApOm+daAHHuQolI0FiLGsEtedSVljKn/FJ1D6mYvBV6Ac8q88Zmb377U51SCM0v7MAy1QeqAJjitfWOGOEZhtko9cMO+mraJsDnc5C2OZ34Ag37SaMkOsr83MwO2slKwKmYRLoT7oJZ0iul8M1xFRJch1iCh9oRTdmvS+S6coF90t9YJ8uvracza582L2Ku1+12u8j70JNCDSo08JWAAAAPUGeY0UVLC//AAADAbCIu0OJMAbI+JbLnmPrCrFqgaWosgikWupGObo4zXQ+pHbguq8LlTe/Nf38dX00hs0AAAA8AZ6EakK/AAADAABBYhUNocOJ+SgBCX53kkKWBfb+dO4kUw6z+2lptLG9S71+BlGCprARxNugtWlFQYZlAAAAU0Gah0moQWyZTBRMP//+qZYAAAMAAA43PI7cr6gBZQoPcsl2I7PzHGXbjNQQWyXhu12S2fU7/cjUssEGPs3xyQ1hMnoWa+kZ+3rLb8hVIDSrINqBAAAAIgGepmpCvwAAAwAAFxDV4+IuDwcJR/mmMMl6RJQVEWPiu9EAAACsQZqrSeEKUmUwIf/+qZYAAAMAACl888kkOcoffKAD953aZav5zvMCP++ztNzzK9mrWAme6U0aZglFL5f22na1JVE2NbH8cc38rS8Qm5nAcNwDQHpj4Orc9Yc3nlwmafxz3D6L48XxvT0JqQS7R2NW80Gx/y51sNEkG40lG1qz6vU3WP6YfZhPpekzLmS9F32+q8BtDpaYQ/2mMQrbD1NXsK0Y/NVdbGkj0YAZUAAAAFJBnslFNEwz/wAAAwE+lbQpflit19sK17YKA7dk4UN4r5IKmEUyTW7OUXXfL/uMAHsMtqNWzfT8+ECAAnfGfwg0JtYX8nsPGH9W2J8YG7hrWgi4AAAAQgGe6HRCvwAAAwAAQWKHLvoZQpL0AIRpQMG+KvldF+BwotNfOsrilGD6Jdr2+Sg8gVd/zZGLCxt7ebAWoMGlyNeTWwAAADYBnupqQr8AAAMAAEF6irep9VKbtuTQAgXJv2uccX6U68Pp+///ROxxXGbqwzOhWlOyLRVp1DwAAADMQZrvSahBaJlMCHf//qmWAAADAAAoXPPIxOSwQMuxpgDljBO5231rn59Hqx1XariFKrMXQQVeyU466Ge+vQKv3ETihGCZ1CPGRT0G2OFvLhTnw60rdq7BTyEs5UpZLtMxOiKqE8GK2kW/iRvI8ZBzDv8h+n6KPW3Pi57vCQdh3Z+ngGn5/6Chu+pFOVvjQaXgJtADOip9pWym+G86CAjy+X1LVLh95sg9/aitoWMKDZS/16ygDiBrEaV8VMRdD9DL/yvGov79XUb7e8aMAAAAYkGfDUURLDP/AAADAT6mpJJryXtXlsPLIY33T8NAABLHOwCrMPxTvFySj948G8+f/81rJFSN4uBpodfm4Bwash1PLhSOY8BD2D/LHwU+1u4SD1wh7tKdK3UF226zk6VgpEYtAAAAQAGfLHRCvwAAAwAAP3qEx/ZrtFxtgAnZwE22lNnVml7gGtmkmdkjCcdse+r9ms0zBq9UY4DATh4C9Lsq6c4ALKEAAABiAZ8uakK/AAADAABBY08rk4BNfOjsPDOqhTy9zprgDg+/8k2lE/8n2wYq7c6aafYDHUlsXEGT4j6wT87WigeCmiDJAksMkHZxHefOncH4a+t8IwejM2TS7jgifQ5fO3jtEzEAAAEEQZszSahBbJlMCHf//qmWAAADAAAOlh9klBHcA9mpjkACKiW/Ugf81YjV06DnY445p1bxtfi0C+cFdXwvYRQ7JHGodw/VHrwsKM7G90wZBi/4NFWqVVVKHw0kisVEgtbuUEDSIxOUIq7z5DdJEM+6E4piYpNPru35zlt4RvNUUY/M4nPs1RnlF0hcAqKUz3d4QJXCIhFiA3yl6rECYVS53eTAVXF/DSLB/fOmQUqK89vuP3956QU/HmZ7+TVlLacYvobqZB3VMz+Oaj1D0S4Recdl5fp+3mMZ48lSWHaG4D8WNy22IJrU4I6NROE94406ZLiG8G9Fa9fU/qmV6MDMfSpWGfAAAABqQZ9RRRUsM/8AAAMBPqakkmvJcoBXpdBL6xABwmNhQolecLlnO8bNOb0bWThlpjrZ8EqBVNLjRFN3B4TIyF6yDODh1DiIpmR55QEA+EoPexr8EGer6SaSRo5OgRQl3TEyfHZerd5TckIjjgAAAEkBn3B0Qr8AAAMAABfkiUrtbWQ3+CNjVM7ENDoXZ57gBO3dcdNBf7JUTRMPrH9fc3zfFCcPr/+yPKEZGSFZyR8LlLmnPRbRNBdxAAAAVAGfcmpCvwAAAwAAFzlXe5X4xvl/yrJT8nCHjPHENgBDK+6oK1mCWxQK+yXRK7aBJ1TdU/E8BZfx3DbMUtYGyxR4cDfkzM7/Qx23O9KgY4H+1AtR0AAAALpBm3VJqEFsmUwUTDv//qmWAAADAAAOTxfn8cVQ4WTFxgAfoj/09GH3RhsdGdJjRePXmsxO3MDKxdBigHfwzQ7lW+EagfS2GZ0yjPIDpAf38ge9PlDubY0j97yeq8MuABCK686RCok8MSGUEC+SfLfLUqzc+EjrBX9HvgKx96Bcei90gZgElolXPUWUEP/Z3Tj4pJhfICRU7nRhRLBe2rFJphiBs3Q7AuiH2RM37t27XAhXqH0r4hzpx8wAAABlAZ+UakK/AAADAAAXROfBi4mBRs4APzi4Ro1DP69qKil7RaWeIIb0eiRN4gXWMXMZm7HZQ4RB2vLEr5fzzMBmcSP6weK0cISQ0v3+pbF941TUq1uSJcdirptGRSD/yQthXXXPu9EAAADmQZuYSeEKUmUwId/+qZYAAAMAAA5PF+i4JCU/t9GC/4sygY7E9b3OzHB0Ted1W9NKkacTutTLZEcq4DCYec1Ar8aE3e+FiDGF5NaHdQpupq/pCkNrQLATG0HjAKrq5mznd8u34GY2iJ5BphVEJTmleKOMCTOuoqpP2YqEbNkfdT/JgcGKtLnW5XL5LULNotmt1MeYwoTKn6EP+HE7HaIY9LAb+2VuFYHqkud1bvQVAr2Pf7nIVqumBI/98k2LTbRuOlJ8yHhybz8kcG7XgB8kyPM0KW5VbenoY1zfgnRNttZJ+ZwrDUgAAABlQZ+2RTRML/8AAAMBsHF5Uvtv5b7g+C9YCQxj4wGbGAC5PQJ5OAk3vbzfKLPf7Qr69sBTms6A2HODbMrLKkhMumEHDlPS+xASS5qGmJkFL6bzV3uUF+C99I/WHBFuO9U1cUZmbMEAAABSAZ/XakK/AAADAAAXRonJZNesS7oHsrABtNNezr+qzJCpLm2S56UdVNOU1Qt2jjG2D+TMDLRSs/f1wc903Pd/EuAr8CWTXy6EdwYz8D7Gpveb0QAAAQ5Bm9tJqEFomUwId//+qZYAAAMAAAUDSEXEoiAEbcPMq0RIFaQ2Ne4ZBo/NrGi32QrnZDGzLe+WZdgK1v+ouXVjJy1tTc6/v5UX+1o0MLBen6gwQ3mhfvftA5EAaWPVmF/rkVHtk9s8k36V9qdtFpgYoCopuzv1lfY52F/874exeg9dJRjSdIRwyrWV3foal4si3y7hfJQVJwCyyyr5+Xdpx36Oa+EUP7YIKX/BB0KMl6sr2Jxy3rdlwtn6PdHxJV52aNY6E5Am/LlWphMAjcNzaMRCGJdHYMsc98+1Vmumr57+XNKvAyv34XVUT+XIVQPiMec31YXM9mBoxLB2qeYUPQJcxGp9clhDD3scaSAAAABwQZ/5RREsL/8AAAMBsIi7Q4kv4K4/pvTA5KXAAHDiaqjpNh7Zn26wmbcMq0WMx5NEDqeL9JgCfnr+TkKT8eVj925q1kJhFu6/nErTRlpSqJgpcOTcyl7wbfVnYpmNldoDxHXkAV7HbCKR0PkeP93ZUQAAAFUBnhpqQr8AAAMAABZ7Mg/VXvPFPaILG9IDCgGu90VS8QXLpNMQqeT4AQ/y4Lu2JkXffS4IRyTzeKbnT8vhvkN3DuAswH7wSpPXOvjcIoc3PVx9DobcAAAA2UGaHUmoQWyZTBRMO//+qZYAAAMAAAULnni8MnvD0AAdpIvdK1SMdJLg8Kt2QlB917uCzpH2eTPegVYMMj60Uhut0Fclg1jjvIqRLZAMHoTsJrMeMfffWODYUg4PPUXPCPiW/pq+3K9WhtOnfbg8TIJwm1pmWFKBI/uPoai7WdH69CER1Qp59lJefl3FNZ0H4pGR/sk/7jmE/rqigEpmFb1tl+dVYrN0Dyh5uj9z/1zKUEPYEqAQGBbyTvwgMKIpEcTbjU21A1dSfEqVnKfXs4eHLU1hBDKwk+8AAABxAZ48akK/AAADAAAH3X01jFLkx3B6szABvQ760f8JxPGV7IRe1PhPx8d17GmwfNxWN/d2pnxTb55K5ZF+bMZbU77xKLkxk+TJME1QCcK461NNcAXOGVwHZsPBrb4Nu/pwLDzI/M4CF4xnV1Ohcf+gd/EAAADnQZo/SeEKUmUwUsO//qmWAAADAAAE4XiB6W+UQAWst6Fc4kxOAZKam1aM49vVKFIe3/scmIWHqVgeOmru0peQS/CQNMr2dqoiUabk5WVQwHXxYWirUnXWRl8/C7I6nYDBQJZ/0pwOKFEzkJyhCogPZdPV4piac3bUTb8swaZoDyTCcjg21T3bIHQ0ly4fci1LoxVx/G8A6sZq3PQUrLy1XqL1XPIN/JvNl2i93XJ+v6kxj7qX0QidM/TTIs3uOn+02ysf8O/jWc/zDFn2Uw9nxmCsKMdoAu5kTcMgBu3v5DsKEkwkxSfcAAAAYgGeXmpCvwAAAwAAyPbPkLuwmMxCMNVzxMMVF25TCCNbLGxMAGxv8+y5ksKMHsXXBZegaUJxGRPWWd/EGoWInrOgQobTG+Xr9/nADvz722KkiNiGz1eaPxDH184LGFbcCApgAAABHEGaQknhDomUwId//qmWAAADAAAE5+Shv0zkyc4tEOY3SpEOHbkbvKJUNaEzofJAwNoPSaUhXl+UyczTE1qV099CRI00n0uW1HlzqU4k0Re2swMs7nilOK31QTr7ZYl8wj4kaMO44aWw1ns43JQbklWjdfmN3PNGVnbojh6cH3WHQENvLfgRWyC5kT7gH9odQlJCflFoCUGPYq94gzIdE8AczMfxK5DuvW/SRdi5enErE6F9w+6J6kr8ZwxxNR3wRDaF44fS+PL+F5vi64mN1uElpC2ELABS4/KOulmKXLERg74pNiJ5GO/87cI7HLT1eN/ah6De/BvAt+3n+d+LjgsZvfQpWVHbsrcPtP4cmEGigWcBX5E7HTeNzoXtAAAApkGeYEUVPC//AAADAbAm9gwU6kjxLa1m7tm/aVWo0e0RABGjTDwAgokK1YgEqAQQN3HscPGUM52M/a0xggzNbGGPtq8/3PeYe5MuH4Rfea32FFhZDvscybA5hyjN6tmSd/emKWlr9hZHjdVpq6Xb5GauSZNFPuzelnyolNtwbq4TxYcbgNtZXrbirsSWecGFNfZpBmikp+3eNkRQNFaWu3OwR9lSLiAAAABpAZ6BakK/AAADAAAHw/qJYS+L/8FBAANMeKfUbEqm6mHACZZiLJqKcEjSQJ3J7no/kPrSip1ZuC6EFbapsq+5KQGsHXO3yiwe0esW3jry3uUB0/Z2DG2yk0qDWawPUy/qOBF+HOfPqiQ/AAAA6UGahEmoQWiZTBTw7/6plgAAAwAAAwGyTMZeFSM2IUBcAEwpX4reLVxNJMufrxcjWa1hUzyRhByayX/sW3xGSsTbI7Gtarg65/JR2EjZZ6RcZ5ZSYnSQbb6wVq6Ea1AgcygJrGF234q+YMeSrvzGeWuSW4+w0srMQhFeQBk4f0FC/xLheHyNda3vtdSoSnBcT5VNzWxk9oa5hX6HAL4vMqKvX6vrzy9WZ1E4C7acatv8OuiXp7TYy39sWCxKnlrZUdgp7R/w7V4eE11KXxqVx1QAAvldkIfrEYeUE6QFLKOPKiKe60d0WZlwAAAAZQGeo2pCvwAAAwAABy1HOhb6PzAAL55eyCJ6Q3UU4ExNX6lEnAI5BmZRvijM8qv9eI4D7d8BOednjL4gxaGw/3QvWFoxAtV7Zn8oh/Fzuo4y4z6j4DVtCmD+Y3GvPBtqXvyh2H25AAABAEGap0nhClJlMCH//qmWAAADAAAEx+YnvP/sREJdyJ8sWJK17wOWKAAOtU0Dev5hVuRc8ky+bPREp11c+BeoVELzx0QWJlN4KHc7mb1UzD+NcN0ULH5RF8taZbU76j6CjZX2rL7bBKs3N1Vpv4raY9TnCw5M8oCkb5LVlKCI8URrOls/rdh3g4WMUnueysiJ+s+1SnOOEEpgJuWXAhcH4kbQDFIFL0h2q9tZ5iF4y/HGMFF44i6RGyL9l7NgDL3NtPn8OID5jL36dlHpGZPYPHynd4znA4R+akh/LbBZZITlhE9IzmIClbVU2JAW4tQIEbvc748YGbYRmvzX3hc19oEAAAB4QZ7FRTRML/8AAAMBsHF5Uvtv3LWR7GbZZpeMXACFPeGill/OXRPbz4d9bah5r+7bdT1JLltIkpHCoD6V5P5GJ9ssydLMKWsmuCnKWPlZVcFaK78+K03FKYpRmnizZCYR7GQHSxMCVDUYer4kuGDx4bbn4q/A4l7/AAAAZQGe5mpCvwAAAwAAB5f6iWE1Do85o4iSQb3VD8AIfUtwKd21ZKa7erm1LC9bRbVYR1nir3uLaYpeMTKx/AV6Ga44QC+rKmJVgZbTMr7lntDfxStpNLdzPNtfTJkObYx/BN2VDgPZAAABBkGa60moQWiZTAh3//6plgAAAwAABIDaawdzsfXrr+wdWrM8hNgg/uvk5rEB+xdXDk1Xr4Kjm3aXxOseBENylogpy/EseCml0za6XfpffC2LyttDQVsdlL8Vhqam4E6+jqpHYFyFTxL7jgkaAEkUxlxK2isq0efKsMnau9XgmPk95/YQ90k8V/tBxUphtVG4Lmu73enNv5pKBy0pEVMfKWHsSUdogmaaO53fl/hSLjCTutUybjeA1S2x6RzjJAYmADAyKZEtL/Otj7ssa8S/P/kaQyZQXQIrPFJTeTpj3Sp+A6UZmW+ZGgZBoa8HZYaVf/11q74eModYts+AQSCI+VSt5L8ht3AAAABjQZ8JRREsM/8AAAMBPqakkmvJbuEWrUVV3cABLViUgIh1Ojke3UGniWT5jgvi6y+XDZ8O5uY9Jg76wNY4N/5py61tl5uNT2ozZDMzh5OGIYOKv8r+d6pdAcG22ARPpk+WNadrAAAATwGfKHRCvwAAAwAAB2t3RNwdjhJ7ypfjTkaKIww1RFHNw9RQAc1kicfeIpAL5IfF2IV9foUO16W021XUu+TMVwfPm2LkCaMtkBzTNB4bSJMAAABBAZ8qakK/AAADAAAHbZFi4JFCYJT2/+qZAP8sAAOyAOD4vYZzJmz+MPwczvHCli46y1X6MRTtOmFouvLaWg7QeHsAAACbQZsvSahBbJlMCHf//qmWAAADAAAEgJjM3+TkzoAJ1VejToymxiil1FmLUhURnAdXb/PASbxWtlAK9AhJIX7Hfa4UdfQYfnaF/LdrzRnqgTl1gP6jBbGajvYTsqeX7px0Km+oPQBepS6wVi75qQngR1kb+7/pvB6jSChLxGqYTGlBkKKyLPgLfr6RY9kkM8L4+cl1Oy1vTIi9GzAAAAAzQZ9NRRUsM/8AAAMBPqakkmvJbuZBZb4ojqSlwtj0ADrblzUgHVLYo3ZoecF8vmqxrgU5AAAALAGfbHRCvwAAAwAAB2t9RljdAC5+ICno2/35/gKwFPf4Oq0ks4wOgMuNFHaZAAAAHQGfbmpCvwAAAwAAB22Rneiah3wpSLgz9al5iVtBAAAAXUGbcUmoQWyZTBRMO//+qZYAAAMAAASApwIUu2G/ai8AIQn8+pjpZM9OHke5P4Typl4W8Fswa4Kz63U+gap4GfewmOegZuCtTVtZvx3whdIaya9pGxZK3omBqu9GzAAAADwBn5BqQr8AAAMAAAduvjDg3t5KCGdBXLRH8Twqk8W4WtACIDAxzsfiMrmy4YjyvnD6X34oGlUB6Cm1iZQAAADNQZuVSeEKUmUwId/+qZYAAAMAAASn5HWhodJmGYtDhBMHRUaQo0AKFkbGsDOHge9rkd59jLjNFPu/tyRu9v5lnD7JrYThzv9B+7uDdRDAs2jG4UZweeTGZsfKt26jVLZIbn6yxRjBFc3fNJYPWOzXofl1rrBbwXPx1nqimUdaD+HFKdkj3ITb0GGycjdXH9klEzTgI5Yhtl/481rKGanZXWJvvVMPl5xebV1rK9wHl3YHApGf5bK9usJ/wAQhHwq2Tii4Xv36LQiyLc0bgQAAAH9Bn7NFNEwz/wAAAwE+lbQpflincw7kKctWTqwAC6jgRyg/oQh3ViIKbSVvwu4q9vgzg0DpLrkZCiaumqZ1rkAxUKQj2aFoirJe6IPuI4ga1aPDjcGudzIjT6aRLi55c0xWy9iA3GF8aclKsrAnUIWbY3kzjcw3ojXt+N+DI4U4AAAAWAGf0nRCvwAAAwAAB2ziOoErpMMKvLHTkxhJ7IAFpRpIH/g5FkR+Pa6R8cLivXhjdv4+akOJCrLjR7/EbYRpqv383URMWqE3KASQO3xtah6xI9X1lMFJoNIAAABWAZ/UakK/AAADAAAHbKoybuqn0/vASzZBomvLmJ4oAHRKiyZKgRcX+I2Ba1s1AGI+OON7eOh38Ici6U1J/JLJC/v4srJYa2Mg3VFNyYhDCWKoWUu/RJkAAADpQZvXSahBaJlMFPDv/qmWAAADAAADAbQHXk63iacAD6nm3KL/lNwJZuin8rVhRe0at90rIhN8O54grNDj2Ne9bwooYU6O2/kFpMFGIS2DSRbUbkGGZi8csYJY5aySFvdCwZ2Dd1GMX/JRPOpANcp8uKXLXyIZAxLuUw/MEVX0u+RWeK7jr6ZAlieFxeW5oJSOT6EBEj6q6L/NrAxaWlmp85XhSt2y/0eDh7qplQetPdPnn/jpjmJFXWMFqbL1SKJaYiiA+Vo/jEQauwCTtJaXfbrr2vo/g9zOQEQZp6Oz/9pjvE7C0l/O+/wAAABhAZ/2akK/AAADAAAHmZJ9DW5ARNDToKZb7/OmADPmVRCw0cVcBqERFU6Dy417iAvOAER3LWMco8f5iVwflsP8Rp6j0IfEamu9FNSDuUXl2IladPZBNbKQMvIiMQZYBibmUQAAANlBm/lJ4QpSZTBSw7/+qZYAAAMAAAMBsk1bAaMhJPaAC+uGvVwjIwePZLFeX25eYFVj9QL55tR15XseJ3vpeH3ISIAOs2B9+32blyczz8CAxpM4BnZsd8hz456sLYi3l84NbusL0D0BHOY3ykNHdLX/Eqdx1zD6y2uAMD3wXeMfMg2YFBOwEzKmONZxmIAd9TYWWUr92inS0seWqQLZaTF4p3sTk1Y++UWQv+Dv949HFHv1Kd3OtreI64X7OPkk0t/XTcnOJN9BVx37CGFah6ZHZORVt31+QtBxAAAAbAGeGGpCvwAAAwAAyPbPjPnWBrR5cMLtv4gBD9MygW+JWLrS0XP1Xi6gtGEsaB5C2vn87lbi/DXicBd5eQX3eEBTk+9RFM3CMOG1WqP+93cLtYvdqTjyup8BW+HL/UxrLxUH6itA7FMd4Nju/gAAALZBmhpJ4Q6JlMCHf/6plgAAAwAABMfkdaC4YCIghu4s4SFw6ABTQn0W9ev1S/8Qdyo2MrbtXJC2MwAArGgmJGWcxsIlNnJAddTexP0HWyewgTjUAxBN3+AAYxFlPWOL61UjjAdVmKj6z+Rq7c5VlwedJGEvpY52i6nCi/qfz8ftBXJbwfitcwG/IJRI9bti/UJ8M8qMdpuktlc544P50P7PModmDZhOsfFwhHZacGKgFwhdvw9s4QAAAQtBmjxJ4Q8mUwUVPDv//qmWAAADAAAE4NpqBUfANctip9+kp+d4/VB0EhR9CyZ8tU+ZUjS8jmJZqI0i+agHsdBPlJGiM6nSQGxJVD/sBr9PaLA9fiVGq2rAUgvG0Qyj8KAXjFwYE0xTDeP85qU+JMp8BVrk0T/UVs1HPMrJqpruOYiJ6Kkave5efZMdDPb6SIdV9cwso6j/6lfpfHCofmOHCTTBQ6Srd0i2vA0GmyLkk0VuAPqDy+3NhjsqBtESEQ2GM/H76YJ6cs8c5FM1T9jGWTQ55JGVM7YtJbtD2zWgGciOvjoSlS20EbOElWXJVrAW/6PslOo5V8x8gG7WzSAwMl3qZbpx8OAsJQMAAABgAZ5bakK/AAADAADI9s+RVn8QIEcnpV0ZzNNThsqur3UhABrO7sMEACOW1H75UIbOqaDCCOqy+AVqFP8JOpHLD0k7QGylo2okDOyrg8AF7q6qwJcLsArpZFUcmqKPV1HRAAABDkGaX0nhDyZTAh3//qmWAAADAAAE4kO1D7IxLSMUADgmLwEe8m/iqxxZQzaX9czDjh51iU9T8IuyCyOHlRP2LtaAw80di5az99vuVoEtsetiNklHsZINrP7UtlomA8lAO9bZUdUz/fWmzH66ZgvxvXxGOlvFGYzj5N508s85sacSSjohYtXAplKnlWR/5wvtK/uGbpX44J84Wrf4+s5cWdLcPGzplmrCU2f1KbFcMA4LQOfB9oulSDs8PT3tYgQZhN4YXzO1SK4lzlMgVf6B8g+L6qZrCJvO0P2pDl/aTS3ycBBivyFJXVb40pgtrl8l1ywwc9Hh7LVwetwdP8BFdwNiHhz0qGn14pgQ4OztOwAAAIpBnn1FETwv/wAAAwGwJvYMFOpI8S4wiqQAtMfhVgEzrcZcErQkdpw63epHHA40E/2JY94Dh9m+IvG6cDVeOJzdO3gPn9vf+Srv7ZX+7wBBP/knP68R8tftQhd/Xha8373bDPzg2vjXozgYM/2SrNVYw7QGsm+LhkntBAT3nU2AKrzXaEWOtTiIxYAAAAB0AZ6eakK/AAADAAAH3X1hS3yONS8CwirEALk2glBh0IqsJjr5zst8EldH6bb5MBx5RIiBZnfY0tglw2T7aBB7bIaG0ome+NzIaNkS2Vf7WdzNSutxxzGJaVeuggYElZuDMhhDMXcBKwhPTPKT8bvA+P2jPYAAAAEkQZqCSahBaJlMCH///qmWAAADAAAN97rQNmaHQOouy7UTvAR55zBTj0HEs/zZvGll47BzKuuk9nVpviJNTNkLe0ZcEGKbHZHJJkY4jPg2/dHR8QkfI7TCo4+44nk9X4/Ns2nhvm5OXpgfYSxATrh1wbd4ilMWgzsSYsGxEvQX+CQcSUzmwsF3zC3kkliD/NKE9uAbIV8x5MAN8KiF5p35brnlDjZpu6+U4vbKTkYkpJVIO1xgJPmZBOjyzxPIZoV9aqjpD4nPDAjx0pilEwqnkX55oqPxWLqKCazXId6rFkG/Tui8gxYJYHdSsgnv9nylsI2MxAVRR8AKiG3sUunmTfMEtVh1IHgN/n7jG1JPClZdj/3YGkk3+cII5wWwPvp/I2RtwQAAAHxBnqBFESwv/wAAAwGwiLtDiS/g44/5z2/mAC4X+MeQOsWlGdRhcOPwdSe0aC7DfdtfJMupOrZkRpdYvqvfOw2POoW84ZRh6BVcMEabuCGAT8QRX3c4OOtdwpzIxm3fwutGDjNw3deVdNjunroas1NvnZckYvZsy72Q7dmAAAAAbQGewWpCvwAAAwAAB9d8Kl9QaTjt5B0QCHlAYjstx+rYG874Ja3u3oATISgmImtkVE5oKhb9wssILBlTaHlxTsVkctwgEsfNqlmg04spQZytN7L4CSG300FBjt9yGW6/bP/9pdP+6xaI93PDzv8AAAEdQZrFSahBbJlMCH///qmWAAADAAAOOTSMKTceABzZrMINm7gK8TjfB9dXNVekzipD0ATfPXHSovEY1Q1uy5F7FgmB2A7dC9TJHzQhmXCbNJej1PNsQg1n2eQUHWpiR6UWtTxcZ8Ndp/tYy3QeR+WGtj/jEQETT4iil+ytGyMeVX6nDe3nnV6smOtlW8r0BoiRddbwZdMEp+VB/314+PjPIicuf+37zs+3eFGEkugQOHlRu2XX2hyc05J7zK4eiVJOFQdEfFU8LJKwtzHQYzXtImGYBOts95DOXqN37ekwsPNGs/TQenZ5pEKRAJ1X2U42f7/X6cfBrT5yNHvF14rWsJhcsc0FNlfNOU9xPMHbUNIqGkg84FHz481viok4AAAAf0Ge40UVLC//AAADAbCIu0OJL+F5YWHvK9CgA4nZZdJO6BjhASS2yOJe50THQdfEF3Z+U0r10emu1EXaUQCJtoTMnmmQFvPL244PET2vKcERAwHvVTZL+p2Bg0jTspOHV2bMZxNxmiXSq20qUfmv++++RR5QvR+rPk64chZBFB0AAABJAZ8EakK/AAADAAAXSkLnCrfOfrdp7lRjPfMMAISSW0myDDbywwIbnQQieyBTjzzAU/N7le5TpppUOpZdIgAJy9gqTdnAQOUgfQAAAUZBmwlJqEFsmUwIf//+qZYAAAMAACk7mx1jnHgAmpt17CV6KBZlCz00ny0EqaA11DZm+Ybhi/imyJGbIlgbRdFTUWmWhFtBJSQndHNFnvIN7TZuoYp9e2xw96fs1YMfkyLEipsiUjA8tDcDAwhnw53MjPbpKELBw2rXEK7gmiZQ2Wl7+L42NZEHRxUTCrPMd3EO/7Jl3tZf9xF+lEHU+aiKS6zNOdC/7KnYpLNp1U05yOiHviek2TxYl0EPDbTMEyIl4h45PJeRvUitq2ZgePxX0fWvCThqKQQdfVvZZrQDj1wJ7ABJ7h2fL1U4Ul1p1OkHy5CszgwWgqc/MVa5N4n9ozvfK5e3PGEJWUCoDh4fP9FrYwdNxgBv31luGtJU/GDv9KQ+Sb8NbEn6C4KTZBW9gd9graBh6yQCCSbFFn/OcIcuCudCVwAAAJpBnydFFSwz/wAAAwE+pqSSa8n4Eoyur/exHygQAmuGmC+5QinxSpOcdkvqLBbLVLXA2hrSWty7EyKaGJKXJ2+BqToPpzAqAe8uvyAO4TXbROiMK3ooOPQnTqjJ82FdLETO0r/Qwg0qMXA7GulYrJrbLOXxOOuRerGwIjsN9svrimua/B910ipA8ud/Xc21FAQlYFf1LGGxpE/xAAAAXwGfRnRCvwAAAwAAPuo5zG+HgaDqH5WNBg3qhn8ARU1gNf8zscH9pZ7jXNugtJV6it/CgE9vGNF99ybFJbWRmb7B+g+lWTK3M4Xveta9VT5ILGOmk3i2oaP5Sj3j0okfAAAAVAGfSGpCvwAAAwAAulfxUvLOVZZhugAJ1kZUgqwd9+oPVZs9S+MmElYQvxjwNNAwdoDE4X7HLgn+tMQiMT3sfJw6fPH8idlImhCUhhcYL81EzjyD4AAAAQBBm01JqEFsmUwId//+qZYAAAMAAHT9r48n/BQAsMQp3babmXoM3j7QkvN53W1BmL7xjFKCnjrwXZyy3li/rQB8PEG62NnCO/Aku8QZhNzMOM0yyRO+HCLY9YBhivlPs9pHh+XZB835PoYv2Dz1y+oB05YaA3NGXdG6qm0NFltIi4tcxOcP+Qj7sYYFbuxwrSV81Zz7JZMToshVwdATTYANXSJlI4cQV12bICBF/kFCIconVYofmGH6ZaD4opCexgUrVRI3XhwLY7mtj6GmahCt1KwwjI9fxjEu+YjoOKAM9gntpmWOpFEi/+6Rs58bANDQyUqgbHZoKq6NaDOyhC7hAAAAh0Gfa0UVLDP/AAADAT6mpJJrygTBprACgJcLSLdppbfL96X61p2kTFkIE2aLR2LW0p9/rjIUhcNXZi7NV2cQHkqEoZBdR3CXX3x/85H2Y2ISBthIXHrG6WtPC6b51MnlyZaHycD1BF7wPNBEsrNWHtEuTP7pGWx0dgA2582R7wWXsKifhSI0YAAAAEQBn4p0Qr8AAAMAALhZkdGjhmrZcD+jUFwADqLIpLwzp7B39rGuE97x3TRA+EX/E8q5OjxPerWoms1zSZjIHpDMlxrjoAAAAEsBn4xqQr8AAAMAAL86FfS50PAC15kT9MvJBZM5jywltw0ugwTeA0uwkR5uHaxuDPYD7hrOvpayxgsk9s0PTojZaKfLVV/db/+bOU8AAACWQZuRSahBbJlMCHf//qmWAAADAAB0hsJxxKACH8snM0hOkWjOhiszovTPXjnvwq/iKxLbqvqoOS90wBct0A8/g/kechsn+NRMbA+8OtgyNWJeaZuzUF3ntcKt8NWKAYVs+iptamMLmO9m6DgDaYJMz0EvPzQV1gqwjZXSZLTjw1SSNlCRUTu3KAEMQnm5omud7OXDQKGBAAAAYEGfr0UVLDP/AAADAT6mpJJrygO0rusdUKLltfG6VfA3mgeTBr8JKpVqAA5L4owtBSiQB8LZU1pb3rTBs5eq3/tMoLwR405z+yAWCggLpoasfV8VOUVaAX+ilNSpM9tnpQAAAF4Bn850Qr8AAAMAAL6eB5VQAAhNvUmYrEGW/PZ8V/SDYUykV+Is+y03lRo8frVMRWSWovJjMlYcZRk4dpWIzqNY+wyygmMQtnza8Gtc3HVPVEL/M2tExMVZhGFSS+4+AAAASwGf0GpCvwAAAwAAvJ9X+uAAbUTSfBHHy7HSpfLGUJSpcJLT2PSojWqN6HgPqlnjISiUXOx8YVMYwS1PuHnb+rAgPKe/ahUNVc+38AAAAOVBm9VJqEFsmUwIb//+p4QAAAMAAOjwXfawAmJVIT5ObEKY2mtZr/1958H5CmYrJE4JSuGDk5ixuzd255jPUREv0rPUD9CJxBrPcz4NTlebb2RM3g0D4ao7Vd161vHJS5giYb2F6fpHVla0h6pLFu09DS5FDerIBWXQwECe7bChBLkzuDoNiY4phot//igak8BDtTX6xon9HGllxBCGh0SME6eWn1EKwpKcYTz5sXijt5H72PH21oNGt2vBsSqNMANGf5D5D+PgShsteBZXown5csVHrUd5cpPIgpW4kEhV0fmOqToxAAAAZ0Gf80UVLDP/AAADAT6mpJJrygQ3yMxif73iLa4AF1zAMRMinKebbLuJbEkwBpoTn8NWLlxegXPevYxP6Hde6BlT4v5wB7fXwh2mFmiXdAbPSV1N/0l033Ev17JB0WoklhTK0s8iIwIAAABjAZ4SdEK/AAADAAC+57DU1JuAgBAvGleEdeZuBWtGLRuhiUv5mAnxVm7T7zMmPEBKIKH7df1W7FYElZ9ZmfOPeCReZyIk0Ziwg1eKBmaHQ3io+e5i1R50uWgjM7Ks12D+Du3AAAAAPQGeFGpCvwAAAwAAvw5Fw/UjUA92gAJOgKbMZ46UyGyO5wQXh40pBNdQbHyB98wEwVmorz+OtIYZshXVB8EAAADMQZoWSahBbJlMCG///qeEAAADAADjcJ5om9cIkHr2bgYzcmXfMTTRRqkhcxmilw+fjyZlXOO7QA0Z7wSVgAsj2YH7yff1qgHz7lVt3j4E4beS/X5tvsERYGmoMRTtLZLZAqE7CkReoHQq9TXtDBumwkmcsdI11KmHaoQeTQ/J0msiXRmzEKFOkpCSRfasWc2//Mn+zgNB+PjkcDh5X8WBPSsE7q21uqzQCaZwJcdL+s6TrG4wLhBKBKSFQ4zX6Sw8j5YXFmCyzsd4owIuAAAA00GaOEnhClJlMFFSw3/+p4QAAAMAAFI5l1+rWbC4a+AK3kYNsOVE7VGMTBH4vG/JdSB46D6QuExE5814krYp2AF8+u/irjsopIPpO4XpEQX/b05ZgQYu3RKYm0wcYIz9977wd3DHPMR8EPZxV88Phw7OUFpJiCxd/ngCXk30678MJp7qRjJJgv+cFP539CNbjQk3H6SrwQaFW0PJYBxcBvMsXtQpZ3/rJhAyatC47GBMLqReMAmp+zt99rQOmyZsSEr0NDxtQneQ/6GD8LlHzvZrjRkAAABWAZ5XakK/AAADAADI9tSwuy0zocp32rt0XlkR12omp4CoAQoWtNu/bVoVILMTN2dAb0jrOYvYeU1kxTfT2CdYLRX7g+GfnIRos3vhX3G8Tgm9zJtdFMEAAACuQZpZSeEOiZTAhv/+p4QAAAMAAE/5l2ockwLNWbNwGFUFcyFEcPPCfcZXXzgJfmbtCslOz2HnYLBQ5iV/Bcuxo4x8JV3giWcrgvfgUWdAo3RJJ8ykg2FfcXpC9GRaT+0+K4IET8bs2icn6BFDsPCrM7JQJWGcyr+Y1BXbCaWcRfqnxl5Usl1XL8SmBzukg4PZ+gpr08/WvHyR55qK0EvFL0UKTymdmV+7eBV7s4HtAAAAqUGaeknhDyZTAh3//qmWAAADAAAOOOLKcrWgCPKruQWOQtj6PQqhs9X+kaOObT34schRqqnvLuAtCOpFNfccIdBCfqFo2E5ce+dwJLxQFsX9lV+Fzwon4KcP6ko97ybPQqC65J+2/gJOiDdxsO1RJGFczOeXUJlUen/1ePzswEWWm3OvnSKBaxb97laqQyR98Koc73p1Dcr3ByaoJjVkA/rgOBdJz2A1FJEAAAE8QZqdSeEPJlMCG//+p4QAAAMAABxvZTgerUeGjYfPwSSlAYUg5ziJl0ZP+mMnb44IDsyhOaHxERhUQzs4qTtgw8e447OUeDnloUv2nKJDOpS8S+wBjkI9/Is0lwawC6dWJrWi2eFQ9efWhF2VcUg5w1t6yXfVK3X1uZ8rjgXLXIcPtDeaE/LZcRYP5x+tnMyh4w1J52hiocCTtj1eWVRaYjGDrATBT3ZV8iG88qumSQewfRJscE4suV5B0ya0CrYbD+gC2hjE1VU944uoFhj8tuchk+bKr7G1GvBSP5gvWD8Avz2h6Wk42sjGt1OfDU7r33pX7OtWUzI1aT8WjKM1fVHzSo5sULPLNHPeh5eY7aIpRF4pObFWF5pNWmcCcwk+MbPLZA5tAtBPfubvhGY+AIlQtYQdNYm/sMD1gAAAAJ9BnrtFETwv/wAAAwGwJvYMFOpY3prC4llKytau0iRYuoWzlzRLz62QAXr3MlD0VaFk8qssNMY6ZC1ka7Sx4+iV4d/1mf/3ErKy9JAJlmVe5GgOmbT0vPhrJXLhx1sKXAsbo8a5qnia+dOHAgIpPrhdZi/B1Y12uLagaoVIQKKRuNBVeQ2zA1+MCoCC1g/8cu19+R6qQj70/t2SkYo0mSsAAAByAZ7cakK/AAADAAAWtonjjSxDDCcfdfViFI3jGxC8b58BdYHDsT2YfqAAIMX6enEK7NGoc+ZYfPbQ24jQRPOWfxv1RsTaS4hllbE1ivG4O1sndNSLr0Bm3o8W+0c632P0gyglVZjHsDiebdmg2rqOz3txAAAA5UGa3kmoQWiZTAhv//6nhAAAAwAACaj0NWxkgC/j+biJK9GiMCX99RqCB1ExcB6Qt/mHgEMfOqeR2xyHCv8T2QVEGAvEXYvFioQWhHij25ktH8z+c7Ruu21PDBsi9sH/b7jm56Jcvtvxev2sKGn1CeUC0mgK9Tt76Zyy1m6uFpL6OpxxXjGMu8eIonC0OwH1geC2P7UgJ07asF6ROfZmQVhn+G+CHtkJEyqwRRO18zM/9y1uC3PcaPUpthJoAZBMhYK9eVfsWrZEyrhKaaQivv4s185fKobo2uthip7uZFrSSI1AvccAAADdQZr/SeEKUmUwIb/+p4QAAAMAAAm3Te0wTx1Lqph69hFIdjFf8Ber6CELqLD5SfkGqfLCyWAHeI7HGpjkuIpW3+38yWL4eVXrWiQYKbyS/+OZkscx81SDcj0sTURdzdvMW1IsCLUmxSb28SoYLLn1vry2owu6+Ku3We1tbH5Ju0mJpDqIEpLceQs3ZF1UEJlsgDakgPBhodb0+CrK7/dZH9J4UUh/WQFrmjn8/7ZtKIF3BAYwZmmSKYGpg8X0Nqv/dzcPcqt2ECY5AmotsDuaYBQDKBefKZZNGuWEoGAAAAECQZsASeEOiZTAh3/+qZYAAAMAAASn5Kh0j4VYxJK9h20APS5if7JD1AxgrD80OU1f8a/JMq6L9QhQndErXR9ZpkdJ/DQNhw3rMGQ+9kp0OLgOfjcEllmk0sVhnUOeFfAloo6ZOPAkonQnuVkpM576A679XEl8x6KdNPOYBciJD2Wrnj4k4yijUNNoY0GVSJ+I86V3jExN96xSrM0KmPkYtp0BBthnZaph9w3qeMTb6MLa8CjGKK4MO1rd2JSmQLlaZeqZYks4kJhC2bV4jCyi+/WuPSVTi5SjkxKDoZVY3+2M1o56HCdEg4AuQLVNwTvy8Fe4H8EgD/oxoPgDdiNuSz8ZAAABL0GbIknhDyZTBRE8O//+qZYAAAMAAASn5GuZMawA3Q+mUtMBhGsJrHvaHkAC8/FMVLwAP3LSt9YbV0ekXZpeEyAWdMc/yV6k/lXZ2d8Enb98ZKMYn0AEptUJePPT2KkbQAg9wrXNicuAb/3Xuw6LWi08A7aMaVSII0uiZ4CTqan/PIVEOWIs/VNi8L81rjJtGgmNUUlgC1fi7AxsFg266GZMmvsB+dXARH/f2isZZ6ggoy1aJ3XxjkObJ/X0O+Bgh+Cg+l9eOcJ9uTBrufL75LZZ+89eaM3oDyVT2bjHHEjnqI8i5lSUzkDNeKqbyeSmg2KpCNBW/1VNNpb3Uohu87//+aojX2stec2zD7xUAY2rpvQA5xHDdCsbLxdf9rvJb5dYD9Ncrjx/4bTzOx/0wAAAAIwBn0FqQr8AAAMAAMj2z4goLcnHD4aoYjvCbaZxLIAfO0RTQdIrElcJ5KxKUFaUUul/Slb6DZFG/PdL96z9gT4B9u+8ldHbLuUkuJ6PAhw9ql5OjpejCwthsQmCUyvIYHMNNZw1qxrZsCw9zFaUpJqt3t/chfufJjqjOIxVNz/UHV/y12+Um0QuR+jjoQAAAUNBm0VJ4Q8mUwId//6plgAAAwAADAJ+hqMJA0sQAPzmJZxqUH1A33iVG8sIhJbl/R8D6Ou5vuui1um1SkRTHhUATKdZ4QQiL4+J1P2xp/2jrSmILYj2ompCShYXnXxaubM2TMsh9jSKochCSm6xVfZxE+ZcpFj7P+reSguT7AeNWyQtVvFjGCRlLAqNNC7eexMkjV7xXNP3uE8388ojchlYBaJNPCpXMBXplTVIcunUd0q0DaNmlb4mAYKyVHW4MpjlBVnpfbE6ovyQVNoabqJCmC0qygVovu0Dz2zwNwZZhERuycZtD6Flpt1cpmzlGfpMvCeUvnJWiST+nlaCVrWdJ6NgihwCClcR5Acnk1xIBfSQ69JiLwxOzEjU1Ow4wTJOq5f2Neax7VKCUAQUkT7tTG6jqJiGjctm1AqG3NH2EGjegAAAALFBn2NFETwv/wAAAwGwJvYMFOpU6gTS6IAmzyPaB/iteLVUGjlCgAdkQRbkc+t8+Tzvac7SOcWpPainopFgOc9ut1Q/HKgnwlScOG0wN3qvqOBagiVGh+mcEnq11jk2+io6n3//elI8DBC9egjr7TY7SINKqb4yzCmuOypvkGnN3N9oWozPLnUjciH8/5HOlJyX/rfrgCl171tX8LNERxcYwm1P9uduO2G/FihwcqFEVtEAAAB6AZ+EakK/AAADAAATV48lAJaIAbrw5pQ+iJNwcLdGv/e1XHV/gz+10wLO+PKeCsYlbnWQOnj4T+p9R/Dm9jD9wGrY9eJu22NEgG6N60YVmkPQEqx9RHIbdwxyt1tiBBSDzcLYsQT380qy2x/LxWVbH73k+UlJnD22duEAAAEsQZuISahBaJlMCG///qeEAAADAACxM15OMkHbIAWx5x9WILvn4AhvBaH1BKEC4DJP13gVITfUIzT79mQod/pyPJWK4EgbtBq87jqRuupaQqJbOBdB/hbg77f+CbQergXssjxKcrVncxZ0zMDqyLxBMCpM8KF7x7eCrPIqgeJMaxCRhfK624nDCets1YkyO277Gv6shtUHEwWN39Hrb3HMiLfj3IbaT5mobKgv0dfbhQ8p9rtFtx8WzkITPVjy2RDJnykEo2nqKcYJctOfTSJ8dW4wiHMU2uWmfSevc4CpOOQRCrQiAYYQZBcL2pVLVrRrdI87oCmqCQhvnN5QK3QWBmj1zgqJfAHkNA+9OOq07f1buwlfLWaC81I60Picy8GZROGNUa9abqs9PpfzAAAAp0GfpkURLC//AAADAbCIu0OJMNQtdMazJDFMyY20BjRA6ADUA5kvNmlGS8zW7a9HeOUsMSnA3NoDhkfGUlb6KtZtUvhKf1g4/ALAlo36A67bDypk9Gjlrb5MCf7y9GC0cikTwIdOuuYBtQpPUkUJ1pKV4xfE26Sdv1lV3gW2yD7zbSduY1dbH9ds51EEC6UFmm+uMGexVd/Of+3L7r+9ES4Z2SY96DphAAAAeQGfx2pCvwAAAwAAjRb9AfG3Aq9H7IGUZ0X6P9UcfcYUiSmwHGwSThHNQczr4inoTbQrotaq1wA5ykR0s743ZCaRtMKKRaRiCcfMT2uBwIGjXIruUt+ht8/ya9tp6VU+C8VDJiB+sgQYHqBkdj0St9zvVItAr8tgIeAAAAEaQZvKSahBbJlMFEw3//6nhAAAAwAFHVFxeeGG4JADdWpD1QXOPYK63RpkBDVKFYOSdB+8Ouz3At8WR8s9uVBiAjmeM6dXMfsp/lYrczwVneK4HOs2msZMg2RLt2DvNFc7URvaoyC9S9c68XKBtkezYS6zYrjhkiByMeFhJsEBIVOaFqe6SznHUePH4C7wOFZH0aOibWgvALgsisUWTZXhNw6dxkLI5loAuil7QZ5te9fZ4JYW8VUQh57/dZIn0vRed+iRV8C4PxUalwmDfoGtw4q9nYBPpvOmtUR9SslhAx15TBrSM7j2syHJhaqG58T+wr1aDT0fVgE9rJIiRvqzc2x/klL/6f+doQG6APTdfsOyr/kEWKsTyMRsAAAAagGf6WpCvwAAAwAEF1/b6Zv04jfEY8tDqNs9QXeVOtX5SmyJVS1TeVgAJwKb+qdw8gGFJjCNo9hfiIBGU5EXCJ6rP41Nh5icKbCjJ/kuq6aRXvxanLmnoUHQSb7H8GLmDI0BOKyAxzN0jpkAAAC4QZvrSeEKUmUwIb/+p4QAAAMABSCvetGPxa8LjdAAhun6q+A5B9pb1MDBlxZ8eXfNHiwnKRn3vBe+1ggvBVnAqb+QDr3YveRVanR1gCg5HLMjphziKEFfhyP7k8iCxNpoFkazEfcjTKjyigHxryjaQQuAHxr3Ye/E+3Q5ypgTPJ9Jcdp7kEOZgbXqliVQFGvF+W26GOcdKA04hWoOhOpxI4ms3VJZa5DlqK7QxOgxN3a1VINNfUBdwAAAALtBmgxJ4Q6JlMCHf/6plgAAAwAHJ2f8DRugM34aVyHSPN7cop4GwRlHOS8igxvFKwRYro96LIvEiUGOQz5L+4AbfLQ4okRkcCe/zxwr+yOpQqTmkNvD+1JSGaf3RDp4cDUuHLjsUOrcv0mxlMP+MzrqrUybdBTsYdK0HRbPnllGbi/edZLXrSqlCcjF/K2IQLXXmRru0C2wiRI+GEhmuREkWcHmkhLTa/dwdr4J/OVQAJDLMSdXQE2RAfJwAAAA3EGaLknhDyZTBRE8O//+qZYAAAMAE5YifBFBTVX4GXQmILcAGxhDjDAa5dB0h4Jx4FA4akuavNqZRPBQWUhdp6cTNrKX8xnJFYUCNvkbQOaN1TGEvBvfWUMRsypdzqCE6kAzyZBm1SOa8fDKEZv9bUB+jr/Xo5TpHdXfPZVI+Hdj6MqJWXKxtCjhopnlJKdIf3MZ9zDa2/QU2hTF6aIIqStrg69q5EEtodNLo/gxJvH1JBZ7krUtRbUnW0eBXA6jc9gyIIzsOAvRXj2QHyYD5941BAClT2N+JI8ANaEAAABMAZ5NakK/AAADAB8OW/B3qWGI7uXTkp+sq0NZq9ZQACGM407NxrWVmVi4d2cmDnQQ05Rh6UP8dXwxa+U64AXsZ/rhKpQxn7hRMSHD5wAAALdBmlFJ4Q8mUwId//6plgAAAwCQSJnHHYs0N3oEoAIg22Uo4Nz21WDdXPbZmb1QHSlbmxDsgcLZFYnxORdHMFQJfvS/vgxIby0Bwu4P8ndroMeNjSI0cYcqrDZQLxCjOmwTT2kfWYNVZxxqH2ex3jzyZ0xBW02n6B/EI/4L7oyLkjnM72Wv49l6PY4kvX98HCg1a0Io3aFRxalJ5DBtqJVZCTgOC47O9NdonE/kWOpcgqJc/r4ABN0AAABjQZ5vRRE8L/8AAAMBsCb72+16b1bfU3RT4AOVpdDMiVTSCCVcAgcc67cwfgzK2m3E6oEwNioGvIDyUznYOLQbcXg30IstGHaZwCjcXeYv18AzeGHeAwz53WQiKnv2fAuRUkHAAAAAWQGekGpCvwAAAwDn8p7Ay5e7X1pTY5gNwPmIMA1h8lnvvYoALVn/VdZakLu5G2r0SyCUBIlrhtBT/HA3RuQ+LpwPTjKXOd7zrQBvuPASe7xBuEvcSSx6bs7AAAAA5EGalEmoQWiZTAhv//6nhAAAAwMOafMUld928TaA7pzdAAcDnqDmFsGUIF8F5fwNC5GD5knsNzX75C0NpqzVH+cdJIqgLHRB9oZwyVF+y5WySCgwYVWgCXXr2O5mHbiNejZ0rcmeb7NRJY0+heFL46WhO0hk2At5NRBFosfn0JfGki0hxo0WFR3xTOfZ8IvLeDY/h+RDI7WmxnrGHBXhS9qz3qQOwEoKc51EH2oJorp7TxwceAUao5oxtw2hrh+1tYQt4vf0MgwPCP255jS8xdup+v71SM2lFJDOjrlP/AhigrOTsQAAAGRBnrJFESwv/wAAAwHa25pxV7gCt8+BdVECq/P09m8s2qW6Ed2Gv+MJNnQayq9LCarf7r+VtBVDQyoxj1jBz3w0zFHeuAxuVWTVH5Z2GH/6NvYVfORDPPvXOCSHas9V10T1g+OgAAAATAGe02pCvwAAAwKOuAhOTPSqOh82OPIGX8V7300e1QmKCAAS5pjVNf5AW8W6izuenTik0MO4AxRo41OIussSGmygEgANWUr61Gjmj4AAAAC5QZrVSahBbJlMCG///qeEAAAIaO/DLUEgBx6zzuDsYvN6+DSm4eNkS9NfA6gcAnX1yJ8UlaIWAxBUPdO/x21qetkn2UJYzgfUhK4Znac74zJK96R4qX/2MRmErzojBi+qQDiJQj96nIecZbW59V1BZozzY7QaNYgFQc+xx7Ur0yfLu4xHYr31/9Ma7uN4hIFYjNiwF2uY4FvGDG03gacp5E8G80dvmzW4g3UH8TtupWi9V2Anb+QAAxsAAADMQZr3SeEKUmUwUVLDf/6nhAAACHPTtxN+sBkAR7FR7Eve5m71c91Blka8k5Us7OsO5AGfDavwATKKB/V1xgHwpu1gi0SHLhaQLic/C9nNH5GC5zShSy0m0GMDbS17ZN9c9wsFKCgipxEkdXJa77jgefxMQZUtNAptqTZuPeGhhCQoFXtkhVUcQPIRQtsMPu+3JK5e+qUgnCVCGFqcA6oIcdEP8/48aQwRjK3CsSpb2GPpnl0cC+8ZuJWXM/JtFRyHbhOPt4tH/svAABQQAAAAUAGfFmpCvwAABuctKWknVp/iNCNzyoxWtWtPmIeqfK2a/XnHQAmkwjbvZNuiYgdf3ApsZe5Z4oFr/t96xEQkGh8buSl6IJk37bF+HqV66wbRAAAAv0GbGEnhDomUwId//qmWAAALuCMtD2omgC9vesLdfeyTcBNT1hW7VQFtMnb0Lo/VB48b8tiqeInrbYTOCDbummqsOsR6ztCNuNlfdxXkdT0Myomm8arPZTYaSMYeMSE4pYlXwro/FUdqRjhjlCmNdUm+HTx9WnWX4YQNe3KoLOPsyUF7MDsEMFu7maXloiasvlVxiKT+olUM3SFzrqXC7GFxux1jhyFM76QKkNKNw5JmoYHIP/rjMWGRX8EgAAfdAAAAxUGbOUnhDyZTAh3//qmWAAALuCEqHdhoAi2Nu1RUa30kWvV4V7R2dVV0AWm9suY32vW1KiTYLlxxPjmtHhok1KK41alUq3RCFTYbNb1qnnNEX1WZ75zpMqyqH4SiTKj/zlBx6v9C4FET63x2FhqQ+32Vf4W3jNKsAW1SJzhoL4PCZRctc6Vne++y55ZaYG9InXcc+bIlJnS7Y4SHPwes10Rqah1YA8FQGBVbtUo6kcjyvpNWoOzvWSW4S/ezKHc4me8gAAkYAAAArUGbW0nhDyZTBRE8O//+qZYAAAu3IWgBGJ/b61hW8UZKxujMXGCbOSfE8Oowx4C0ZyP0vRyXqnyQZZTgPc1EdZcH7cQu8eMy1+VKUd2W7XMyzm9qlsKzIgx65nmL+Afh7lqPwcA9y28gX8isX5OiwH2Zvhs67LonzKOXhdNwCeQECvcT8ONgF0HPDCRCf1tdVYcHw0sjwhRCswOOMovP9DLTYM6dLK8FBBQAAG9BAAAARgGfempCvwAAM46W4XgGGZN0xH0vDQ6zawBEjXpp6PHUqK4o9wOUd68hIQCDsdmnzNPjsk0yavZomwsWdlWGsvuc1GW/KCAAAAC6QZt9SeEPJlMFPD///qmWAAAfNokg1CQZoAdK699paY4UkjfhJG+qHfVSdiq3B0gY97Bp7obtnhZAz3hUMG/cV2Cvxep6KOdP5YPJCRzjI1i6EzdmE23C3OotnSGqpStyAJ2QSTwd6xqlXRaiUBc2Hq1UiF8p9msI50FtYtQSfybdal49rZVHFc/VkmXHltE4dXaMpcl2BxSVVpWhSSQlJaZDrb6wp4ykSyTuJnkNKmawGNWOU6gAAFTBAAAAOgGfnGpCvwAAM5YVunMnEG8WyT+E7SZnDmqYUsAEtmrld6MWed6pu/8F3HnYD2HtG0V/wn/2yqL+mQcAAADdQZuASeEPJlMCH//+qZYAAB81hnV9Em8AX+6ruw1gJafIdhsHd2CWb+0WgCGUy05JCMYutVGhmKEniBLbmnBPonZ0r8cylK0x1iJ3BjdSMTH1rqOLvq5tNyxgqiAwrxjD3skW7Hf+JVl4YVgLitJjZ0G/pU2Jnf0E1GzyXV4cgyMhNM8Ov6WN1lGrhzOE0hP0ZrW+HbxdTiokbFY558G5k/yZwFz6GYDWRHcltnDPLCVmAjeT+SXHlZITHX8/LotoR0Yy/0/7yHFyQkAgodV85rKqTpBmyl9z3kAABqwAAABSQZ++RRE8L/8AACWFFA+IJKCwNeer8TvGeLfzfdAef7z4ZoN9nF14TslpIIyq4dYCF1KAErsVpHIf+9TEc380+arpZy6Nhz4e4FzDx7z1mKtSZgAAAEQBn99qQr8AADOOf+Vdpt65NZQrkY5ZNGoS9CvotQ2L/825LgBB38bE8c/flD9jb58PgBNqI0odjKyovpIzkObLNiBgQQAAAMtBm8RJqEFomUwId//+qZYAAB8yHeL+gB0qgLG9uv2aSR/gIut2NAIfVRwUOpkjuRp3ls82jNTEveAa5X008oc83cgxbHa7F3mVdZs0oUkq8T76TJZx39vAxgdpKkTlErN43V+R8xYYgOoklkup8zPpeGqa8ivBwrNmDAaTd27Y1bAmMokxglmSjzDQPQ+JrUbYgCMbKy+Pp/dpPYkUtJItDSjXzLlgdmAVkWyn+Q7pikbsXL1zU9uiqYcWGGwoKv1IVyKfqjFeAAAi4AAAAG1Bn+JFESwz/wAAG6YbOSe0eWgAbUcFmGfRazKK2khq9FdXWhqoaJ+b9jy7j/3dQ+b4yBZuVuafeUeEZvjMcPMP2ObudIxjW6gDCI/OS8I1D0dLvpub5ttDjETrKu49NFTZYbZqdNTIYXJJG72ZAAAARwGeAXRCvwAAM3xrUve0au7pEkQIs0jMqmm2WQ6ZACWQ+StkdtJq6kIzIvecnZWpeVsNpXOpeDrAtM1QlU0mJsG8+vbMaC0gAAAAUwGeA2pCvwAAMe9Uy7E5Ge9ppYsVn4Y0c4Y581p5ACYzw3Ifna7qRsNSkyjBi50rL0t3JSDpyy8K8irOpE0HzLZbeZ4Ye+sPfGvyomj/UiO+Q0StAAAAG0GaCEmoQWyZTAh3//6plgAABCereRhcAAAGLQAAAEtBniZFFSwz/wAAGrUthcV4D+mOgQDQAbOeagwN2MHdNuUQ4iy6Y6Q6CXPmWYOXtkt88KY3OpnDA83bGya3HdYuR8BO7nrcm2REZkEAAABCAZ5FdEK/AAAyP7rsqKnlCt/oAJnEK4TAPdQDzEmkAiZ4wJvMbkAFIW+pdbkdfTFA+XJTtcbJsDOViod5FKh8MAMDAAAARAGeR2pCvwAAMk6GX6vA4Yrf6ACZxCuEwD3UUYYQUveyDSpE3mNzjauvZwKzEJTj6gHPjB5c5kMbmtiaPuHi44nyiAQsAAAAq0GaTEmoQWyZTAhv//6nhAAAPf7lyAG7Had82aFb5mAvV8xZs7mM8gV5c7hPWOt7Mvuf606XgoWfgxxETQLNN74huE6H/XZexTlYmwjDEzn9Vg0OPb/JQV5bRMRvrNZPIL2bGkGe2Da9bIeo1DTVoeKwh/lSIGri/WzbWom4BM5eqKjcyhZkZFnvCmpcFiYCLSInp/UJ7JoYUth6PDjsq311ll9oefeF4AACLgAAAGtBnmpFFSwz/wAAG59+8Twc9ePKH/FPnX5i7EgAXUa7z4AzUEj7ygRdFbjaFRSrsmAYnjUGl5L8K2c+3HogknA54TTa0lGzVvG5RkLOE8pUIvtjEDgkA+osJ2AIxWvgqylyzV8Q/UThB77FfQAAAEgBnol0Qr8AADN/r9eDrkkOgYKXP/GN8dzLQ8bPWfQAmM5WF2YEKrlAc1StwSmGyONWvErw0pBIHvgKZN+ZhiL2AAxTiCjyMCAAAAA8AZ6LakK/AAAyTQaowPPb7yiDTWpcyO9SOaxB9ugAnbxyUkRZRsBkYQa6126qhlYMXNnPkEgAUeUblZEPAAAAnEGajUmoQWyZTAh3//6plgAAHy3qlETDUAUG6AX3NNBnH05cIJlv9fx4kR1TQOUO9LeOPAq+bufijudU99tYxJ2YlNUxwxuBLNwVFMqoEEb82cYuVl6utOK3s0UwRo2UeVSZk+RdQiHEg2dtCVgsNCeQQ4sdtr7kMqTZqF7Lz4RITi5vyYMZy4xBGigrsopFdMqE79nYarwYAAA/wQAAAShBmrBJ4QpSZTAhv/6nhAAAPl7KiZpgjqskIidqGDqD+9quL0psxlD0DSyz0SrqlpH7nWiSfIJw1sEKZGF/+/aE3ek/PEaZgimozF+W7FFt3XH8dR+DR5CuSBWw/NQBclWzdHaOqwi1BjiH2erGpa8/M86K33KnuygeNtIzzI50UiRxVB6ExBZdz7duI5mkUj0oXvm9lGP4/wC2aGOLotJBEXBQfBwZHtE6a+wTn+3mwC+cH2/kRjxDgQUgVCExhArwBhfBn1NJI6wNeSQpd48KAgoTo4A3vw0RYl1vFJqswvcwU2s4VfTYG99CV7Mj5CwgWHD3Rp7MGsLHVC42Elraw1F5qXNIN41esG/3gUZDuj0xucYO+G2tpqfyFvOZbmb7gk3ckAAEjQAAAGdBns5FNEwv/wAAJbOfuFvBbz+wlJVi3da/eXSZEAJY429y4218c9oRsYhpQhVc39AxJFW5TiDtPHXZYAIuSJQnlXHNKnTmupjGFIESKlrEEghfm/GwHZ9CVfRQb66ANHzvfp6Dqw45AAAAZAGe72pCvwAAEuC47wAJaSCdGgXQC7C3n4Zvljl5sallV2v5uw4TV+++rn143+NecZbhnMQgRUsoYbxoD5C3oyhnV4xZze+Vgm8nFiqZTjrRpsHN3Jwx9d/AJLklCXl4fBeAbMAAAAENQZrySahBaJlMFPDf/qeEAAAXX3hQAX/z5FmcLsvGPrEE5U5kj29/UAgANQKlkMIt9fRG6dr0TCWVFaqmm6VvRfYS2aFXyofP2+80je1tzWcxfsLjl0FYZBXeKQ7lPPO2HYIITrSXD4Nn/nC3Sqi036cRDWOyguoMGtzJm4zELjpl9oAakSuy4atvNIJhQfCg4Z6/SFX65dx4pbPt95wNVchh8txlYdzFsvf0m1MTtRa0o4P93Fyb20hjJBnulyaDagli/yzZ9lrWl0J6U73xbna/q9EPtKe1seFtUE1uhL9eDE6zpaW1MBJYWKw6FvLi8TMamMMDE6lC9+awTYlDR0StT4McjcOgLFIAAY0AAABpAZ8RakK/AAAyVhmW1GbXn0NpIfSSADS0FtxyXxIzgl5jL3MYIs9O/H55r5aMITstHbq6/0VO7vvsEuN2m/YqRPipOJBw8G/CDw9u/nthhHlFzZQCVO74cIythPLfoyP/MxJirZMBrmHhAAAA00GbE0nhClJlMCG//qeEAAADAyL0Fv27dqd0W6GFTA2vwJRQSSqX1OHp9+yIaDCWuUqkpZDFcIx9gX2L3/5a03fGldlVzTugdSGH2d8SsSwF99kLc1bRuAO0858FFfgMK37ZjJIUFLyTadmBJVyRT5ngInFxTIniTNCqwkZ8ZtL3cealKzpQCNt2Umt7JuQW0sj+ojr15XZBDpR8SWaLLi8yir50q/eYwjBPiG9xIPstGIwENHhr39gY6Fmm/99yV/N61qubQObn0TV1hGgBIpY0XIgAAADEQZs0SeEOiZTAhv/+p4QAAAMDJ+ynA9YbEvi1FwUYAD791QZ9+xK7/M7i+P1ZoyliMU2d2irQuqJvL+hnqJLKb7IAix7D7CWAW3zLNRb7j0Ov5hP/fx1IQZzhiAanQ5JJ+cMqBO8aQGLoxHWc1/J9aM1j5SKWpJx9QsL6ZZ0gZw9eaVbuaUKIn9oz/2cPMcqYWYvOyU5ix1DZG5xAoc7aFMI35bD4MeT3VHYKc+3HxlhMIBVnU6arpOhNgzLpUS2xVAAeEAAAALVBm1VJ4Q8mUwIb//6nhAAAAwEe+ReSNh6ispd0svLBba60awAILkSzdQRCJ810QB0vTZA5Yj30WrFRLDOV1z1DhPCSJ7t2ah2LpjsPlstkvOWJloRPloNaj0RxLWonxizOCw8KEkcsVVpSt0nYDiVjVEpu9peW57L0MdOHnsVnGzC8R9nUxoPzYMODHSqCDy6SiybIkDQ9fFrOyr/bSNokG1Rk7eYqA9uS+OJNiVYBX44YAAS9AAAAoEGbdknhDyZTAh3//qmWAAADADVe2gXwVDG0uOdQbpSbym987fGn1oAJeavniy/CvJ4VxV10TcP4Ys767RpjDzUY0aTU8/Gfc0evMSByIK6NL2ASqtI7v+2vO5oS6Jyc3djM0e5bwoBIF7tONQIWUUND1GPvfuk+Htr4rP4vY8qrpmvUeMktXq+RGmNI1s1ep+UidZOFqwa5RmHBZxQAC4gAAAC+QZuZSeEPJlMCG//+p4QAAAMAJt8jVvBDekBSb4z38tJ2s+6cTFWmxOACIPd/qwIYsVq5VK01loWJOf7QgKz38v9Cnzv/Bg6D/7vmojoyO8qZtlCi41kqEHHGg/4hPgCIyEZ1Kdbkdu+S/HJEjhhnPI3x463OpMi5AJrY/T5faZlQMumlB8ook+faKDugLNfTBvLOcmqGm08DzECi5hqSXUhCrDwDLMUsj3qBZweFPc3hMgW2jF89Mkqh2DgBzQAAAGFBn7dFETwv/wAAJFDVqqxPU6opbIDN9ShLexJerO6wp55G/5a49JAVePhK4CK6HnMU/n+n9pXR+K/ghIbnvsKlOxNtZmbDeyvms2He6XJXIIBAHNRfyVxmhWYPDZ/I8B6RAAAAaQGf2GpCvwAAAwALhZjWhrOKdeqlqO84ku0Cj6KjRTYxvPnHM1TdqE2pt/nR797AA+tJxmpP6JhUGNDka6Zwnqt7PRqGYX9gStMlfplwl4lZSuvXE778puV/zNL0juXoJ5OBt5yBMS1OwAAAAMNBm9pJqEFomUwIb//+p4QAAAMAAdz5trZ8dNrr+flJN8yAE6pgunb6jCJVG+QEj8qcE/Wf1Mons3kYGA9kPsjPk5HErvQHQOud2bZnVCYcvV5hf+HJm1wNQDktnCyA0wBkOL4GwrTqK11oYOc3KE4JgRHNmIz0oejbVY0/u3i2dlP+cwfglLOVlap4n+LaZJBS+Yijy3K8tGfe7AC5wxetNhFYxr7ypJpA7oaK6L6+XVZdut/Hxl+ZHR5lvTgdqYQiA2cAAAC4QZv7SeEKUmUwIb/+p4QAAAMAALH8fqp1HR/NBVUPIAS0ZmrejXwImMiE6NUMj5nr0FIS3INi21K1Dwo7j6jHldleQXb7jQPmhiUEckD9Cc2WZai2MRPZGFcDZaMc6ZJM73mHh02ecrmhNx2aupSlC79upkCL22rGp3Grck7DPMUM9qzqR+egHxHYgOCo1Zwe5goDU+4H1yRLFwgMUbEADQEIJE9lAEp7gK/Yj+xQAWJ/ZV6C7ndCtgAAAONBmhxJ4Q6JlMCG//6nhAAAAwAAP77KfguN42H33JpIAP4PfLc08Jdw4hb8bd1xacRM1REWMpuQPnoEt3N9vjdhrqO5M+GywzyXlBLFGS+gkcO1nPxshXW/DJw3Vd9LboxWCB1h/dQJGwBpiBrifPf4LBSRcGMXyRyD2WwI25WvrTe/gOkov9RvmRK+L1U1W/ILNipt9WD1zIRrHyXwTE0kmi5T+H2d4gTkV+jEe2UMcBQzK9i981rIgcTruM6hMxjyh4PfnPX+csYifqaaBggSxEHbXwSbDDUDsg76KIlPEHRgwQAAAMRBmj1J4Q8mUwIb//6nhAAAAwAAF/4TzNYJ2tgA5PLw8ALdPeSSd481k/5nMQ/5Js4TwLOj9JMEDRYLRLDaHqb8P/Qpz/Oo6EBr4Zk6ry7hSFfK47xD3ZiZychf9HQMS+A/z6NFY5V9t/P4NiiiR0tJw6foS+3l56pnwtcqz/Q8Vc+lajqhxqDyda64zG/hqOwzyw7gVT+7nbTTJytH5r9yxZ8C7YFXCfOTH0JoYNscL4hNgNai49q1Bf1lNdbYhz+mRIuBAAAAwEGaXknhDyZTAhv//qeEAAADAAAI6oJDxyiuf6ABxarMTvqURrhvOBPNat3vKJxPx2+oxZE9O/7kWkLOVkInwpc/pO2m/ltU2xgCmCXfAf+ZWQfgrvdGGpwNR/uJcQUkxIvXkquB/Di6VD2jOvjF02YSBGw57tMBdD/Y6awakGjjl2Y3V4X1mPAWriurskAmS3u7U2FCQUzu9MYoVPv4P6/6IVSUr2ZkDMntv5o0jlL7jwjdkphc7DX3KR32x+GDegAAAKhBmn9J4Q8mUwIb//6nhAAAAwAACLfI2A+Ey3Ks0AGjcEi8unb66W3cOOUsYeay9D/q1eMVfn9KORjFu+emfgWrKhTsvagkG9J3A+Qk21RB9mkxISztSCZkk1dL37jJ5xXIWkx4Th1QYzCsXek0OHJKJDzccHe+7nlJ0m4ouQWX5gHgqK3Tgq04QZX/yVdmv/AB0jw9Z3+ax4RzsFiK0nSzphyITqgq93QAAADnQZqASeEPJlMCG//+p4QAAAMAAAmo+PxVjEgA/gsr1V3FoS8Srz5PBaIX31U03U4Jwi1fyG1Z4zt5sNGRFnX7R65umzKyVWDLQq2zMRChCW49nkMISzqkGIcQHD47VxX/7ooENIxw2y2BxkoM4zXRFj5L96lJplv7/VBHCScItdEIIv7Vg/TVZfcwoc5Uqv67lYVXjt8omD2Fy2aS2OKYkNeGyL/+vuVQT09fo5VrlYdzYMMVECk8/gLySlT8W4rxmfMwf/4tfrDoZOUsOJ+vhKeLTyNXhqu3PMfnaFGu9UBGobuGluNnAAAA9EGaoUnhDyZTAhv//qeEAAADAAAJ+WHczVxCvuacAF7+9pOX/D13MTG680CbocDmCPqnVu3EPBS8vUHWUYIcXs8McOtn+8VVleI15do03V16yLMN7g0YKHdzGwLS+smdt/I7a5dpGo3FbqoBA+i+8Ud7hctlqmO7jf+MDhQjVmd6gk/ZDywxBkVEU6Gu/ju/GL96EQjDR2c7LLPkaNPY71kPLIUGPkSlJpQzaXNFc9F6cTcvCJgJLXNYGPe5K+NUZmehaznCbG4H6+V/OYK6EkaBR4IiKyTjttfzpbmAYLBy4RL1TyY9cbEJBZaPtImCoEu/soAAAAEwQZrCSeEPJlMCG//+p4QAAAMAABxAddlKcsgA/ORfv4GItBDD8vQ/6HXaPPIci/IrVyXd6X74zoMjk/2tn27DBbn+lZsmfmiYPf+BN1MCSc/0ui0pydXtPbSo0PRWsW1wv49bxBiJNzXZshV9uU7bQQSrQWUxH89KU3QUAcDQ9eKcTTIV+M0FYUuoLbx4vwN+bzzgfsDc9JVeui8JrBSjKEq8jvb+bD4m+DrCG4UMDmtX9JXnvhr7cpiZMKt54foQTr6pSHzgJe4QEikWV7gaBMy1lSim1Cdp2Fs/axhnwi04j9D132ZBH6cYOVRU39Yii1f5Gb+GM2wb2O9yNQBNbFE2qMjR21A4c4juDYplRIMJOU3oLAAeL7c1XjGbvQk16nU6L8sXKGr9BwWUYTnJwQAAAQBBmuNJ4Q8mUwIb//6nhAAAAwAAUhvp/js3CQAlT4VZZ+b6gXWJw7G/JdB5GfJFb8DTAnvDI3wBCQcjQyuT49VlTGbRwhqmjr++PZ8qOfAbJEi8+nRqJMyaAI3d5VNoFB7xCJAzTj7JOMqSuUyTueKyhlwKYdSMj9xm9mPn0UYqhz5St/fOPrLBIP23ghhdpaLyb0wBZpn+snGaqgvNqmv6Ta6xoFzFDFaBOawdrxT3m1JNhF5SRS6AFwGZsW6mz+IQf0agIQW0D52ovYnC5zYO1eOUUZEHdCst3G7e0dyMETtvL8eE1U3t0Kp1nANA3NNjNA69vgoIWNoCqkXLtAtBAAAA90GbBEnhDyZTAhv//qeEAAADAADng7vC2LZADj24jRFDjQmLGGWS7vduTkdR1nP1H9GMnM4z0GvkRfpLfzjcZ73StX8azd39luqQrRVroONopfh6DRP2wfmgeWUfG7KNsuNHWVhGqeNEBLnjUhaH9P/+JDSXTI3dqrRX9vVx4/XrdiKPlnXrOpKRAcjqbJhpWpB0KtHCFqrwD8TwkM5DY96Q6gMqRYQUK/OyDjjtwwtilwZopQR7W3RuLIuaFQRdFWddtnYApfwb2rqNxPBxQYejCET8T397TXekwKsZYsgbtD79Kmb4IGHWHrWOYoQFhSgnswASwg8AAAEAQZslSeEPJlMCG//+p4QAAAMAPhFDegR+Eu+rVaZcIlw9UYSGw19rNRGrw/SSNSHJNDQkdbpOVkoto2XIxkIyq3Q7ntNiTRx56upH6wkMOojC/rIXUxLKr5bZSjVu+Z4t07EUikYjkLGldXlmTy/aMMRc3iSqDQmlX3wCrenB/v2Rf7aa0Om19I3ISmUpecqhX52JDVWfq9NtivH9rgydvV3ylayRgB4kALiRrKk/862xdGsLpkmLZhAUz91ontmQrzRv4YNt9ymAvRl5uOuJ2yiTO5EcGWrddqMvxjujnXJEUq6F1tGfPppHknZ/yvQi72vAa/t6kb4RmsWpMLpDgQAAANJBm0ZJ4Q8mUwId//6plgAAAwADumUqAC6rnYn4VDFqud6bIUEGl5XVRQuCy2tm4TzOPT3i+UhXkG9l6XfChcaBaZmqHY2GTKp1Qbkech3H432nmEn72INM96xyZ/PxfmV4apomO9Vb67rEL3nfZdAtXuWNo6hWc2nufUPJQqj7DL2z5XJRp+Y7b91AurCn4TmR6YQrB+vi8cFLBvIYaZlbJInJmpO/dUqx6yh7Krzqa0/2varHOk3jleo46uxfKFEzXa6ofijBIixbhHJ5bR0bOOEAAADFQZtnSeEPJlMCHf/+qZYAAAMACplHFGDcmGAB2k4m65mtub0545UvGxMnayCbt4QB9G0Vt3Ic7bWR6x5PYMKW5uJhY2EJPdbO5WhtENQvALmIaSFw9wTpKzwumYVn4r0FHA8GjTrTeg/0O2P6kphWahV+s505LvbKI2lDAPqY+z/2+AjQFbB/O6r0RcoygYpn5G92pvZ1GvEaVrJkcCu3Ta6gticH/y2e6cijcf9lpU9xo5fQtbfnxkQFplxT9DGKDegAeMEAAAC3QZuKSeEPJlMCHf/+qZYAAAMA7tbDMq4HVidNPYlAA0bjRweLddf5GJk5BB8Txx0MqF3BEC3Bc8wTyU1gl+OWe+kuYu7uufYKTzu/iqyQiwOE1kGNPB2Ue+uFdUCQa3QyHGXVXyoKGZGcxxl+y9lAlaYjzvx4UdfNEccANgye/Pg3N1juHsZ4+9f/aWh7uT511YXF2aZ/MZlL++0OnJS7Xzfj7s53PvCabBM/PSCAy0m4z4QXNAFBAAAAgUGfqEURPC//AAAkUNWsm7kF1Df35j1jYXz1s+kbACGpwWB3DwDoEDQam71zzFaBy/7MU58fNoqItcALTEOaFiFSBg2zufYDWnoJ8mBqQvRzsCBdUqrff9Fu+uoYHiBR9LhPo2yLbUfdPyLluMPXGAbfIV2a6UKuF+Vfv0NzpVrZgAAAAFkBn8lqQr8AAAMBiHQy/cP0vuqclomKug2sAHOB0F3XWpENBF1+SzvSJ/HUdW2U+UaNksipcdItGLjtVRvZsllq7JReaJ6HXXrvRD1tgAOsvOixCRTpSUDPgQAAANBBm8tJqEFomUwId//+qZYAAAMCpaTUmqcnQANoS1zV1lH1Wg77IXIMG96Fae1I2+I7YuWfWoqq5wL3EX1eRfrHxOPm/WC33y7Y+60oGyQmVkQ5qyt/NE30Ir4RotCiFD1/1M4dZF34t5vQW1/JFriR9Fn1w4J0ViJbDK2mB3ZssHmzF/U9n7y1YQDUD+CeahM1cWl6vj4QvTqzxmWDGIA1Bn3cJZZGb3KSUtXiRb0+QUxtuJTmspGr6ASxnU7280v0HeN1hQQ+I8ABtQeWABSQAAAAvUGb70nhClJlMCHf/qmWAAAHfu6v8guo1ABL1BSnNy9jDnqVd94d/JvKZTirbe6Dni7WRFYBMINWF/ry8WHoifbqDYJaVdnEZB4u54VpdEMSQxMkqqaguV7h3+oYcZ62B5FuvhwrUOfXsd9NYVK8dosF0hZWsLEgkb3T37lWr4wKnm+54Z98hQaG19kHkfJ0UWPze8+UxFr88md0wx8ByRkz60RscvZQkhj4UqQDykuKuYk9m0HMShlvAABDwAAAAH9Bng1FNEwz/wAAGwTf0xk4iUiXSnndFXewAHI78nZ+5OD/tTXHwsX67uHP08FYQDJ8xECivhvKB86YQWs1sRPriJ98xvvBAr127FX4WO2e4AW4wGKeIxBl+LgiUIr6/8DrNWqD3IOmOGjItEEaX/5oSu+clZCe3FeliWZjJZ8xAAAAawGeLHRCvwAADER0NiVPfuroW+MqwdCapHABzhm7N1R9aVnxjbfFJVF/ycmcOAVkFgMVEczUgC9D+ZLzDsYeAyHRenj2T38p9avr2x9bD2DIpR+c6TJhL58ZWBXEC29ez2GM+4t2K9TaAGVBAAAAVAGeLmpCvwAADBdc2CsAIE+BmXvmfR9CWW8305vMrxZV6tWnYYU4nFUUerNx2MJjJ94A48ENxJIIx87gLGIisJ8cpCKDpX3XaTijIsZauYoKbsNVcQAAAL5BmjJJqEFomUwIb//+p4QAAA7nsqH6bM6fjbAC6cBUAhIEvg6Dbzs6oE23dkB+Ll+9/pK0ji0pYEKfRKoOEf8sbldi3FSNzGXe+bDvxLkf+JQRZZIfMXuHKnddpNqPBizJYXdrj+tXnGN65K+pSeOgMCojhKOuO/SghSIS8Lyuec51DV5tEL5HI36kwdgrMzv9bN2y9RPv6mZtdsAZk85d+P1bJNe1swYPNez9d4UWfupKLj+qyrTROkMgAA5YAAAAfEGeUEURLC//AAAkvnLpXc1IMTgiRklmjBV45/VoAC6S8/IhqmbSSy/0FoGq7cz/z/9u7lmnFT9lLqdK14aSP9Alm3PLUgJf6wx3En3rp75bm8LjIu9PHBq5S/lEipMj1O2SYxMUhxj1lNMamPd9CeqiAIiAYYAQ1nvEUXAAAAB5AZ5xakK/AAAERkH/svm6lpP9ycAAukYvXBuUb/4HDIF8GI//9J1MbOd6uSunoz9+uotfatZhMV24CAJQzBMPt1TWCR+z5j2mxzVcJ3zKiBTLJtAM3rkJjLifn/BM2X86IqOaGMsCIPuWoXcbPI+vE3oHdsddySAFlQAAAOpBmnRJqEFsmUwUTDf//qeEAAAFa94S3ggO9+5fr4AOtzAHf++NkvG9WUX+eiBeV0EPTUoK8McqjeGpOfrGu+S/kn9NzveDxYqcx65CfmaLWdD3OKWUIUZrU6L/WZmeDsXMKp1C1vgFWdhNPCizcq/R/L/KO9rcYG3LisbbnO1besQtx3ToqJXIzzgYPS2t5srMn6HIWZbICoeSVZZxkjS6Dp7FcYGYzwSytPS0mO77VS5bnrOy+mbTXfi1SlgKYIsJrtCRJeUa/wsMxzoKf5WCOWoWP5rRXp4qI9nEdHua9Hxj04aTJ7AANWAAAABbAZ6TakK/AAAyVhkWrL6iuzAaKuGRhFDvFsSI3oPwMAE4p/k0rZdU9enTx/MOT2umvH1xT3W4idFFgX/HuXYCHaXvuxjICkHOurkM0jT1o1lSJdw3wD6AD+mwigAAANhBmpVJ4QpSZTAhv/6nhAAAAwHc4TzJYh1G89dkF8Aufe58k9PhbagKtnhspbPE3feNDZOB0ng3SmGn4dfqUxj3RUWtO5c4Mm3bXp5SkWUWg64GEhTZpXNwQBHr2cw9sAm8Gx77r7y8xPsi7R70/mTLIgueNqdJCa9jzbSfnFWAIIAB2kPizPzqY5hIAGh9JhBNjwfa//gucFHMzOlycV/FIt7RxJt+s7jFWP87wWokjDEdjO8q4FGozF0g+Vb+xhvVmLVws7PAnSL1nK/YNvcK5sYVz7AACDkAAAC9QZq2SeEOiZTAhv/+p4QAAAMArSUeDgSINauEaOtEJ5bSIjW2d6n4eaSGvS4TZzOjTLxaIw1mU15zJXmqfOb4908WngCVRjWlWOROZIlY9zLKej5mNhdk9B0QNuuWvZcTPE1383LWsZKxpzbYYQmcZonDURifviCp+l9u0UVmk5erFbsv8sQKjVb5BSWLECuv8/61scQ98fjVrY8LFefCX3m7b4ihS7qV/KsqZf/SOVEA8/8U0ypNH0294AGPAAAAiEGa10nhDyZTAhv//qeEAAADAKj7woAAOG55uQJ5LAZv+dggbtoTU1/2tzEsvgHp/NdTphKQrEZzRqlFEaGXWZktzJISWO13j1yLKIS9xfDF8b1HmnKx371jFLK6q4QJvG5w7lNe4phXrtCaAEiM/qhnPzmQ508pQjiun+C46J6EZaudvRIAG/EAAACUQZr4SeEPJlMCG//+p4QAAAMAOj8BX//N2bMfk4gyf0Cnuht+mcZMkqhxZ6f6LVqHawsKjF9PIIU9BEIguUh/upEH+u0AoMlqmiHbl2dtZNTm1pQgCYr8jeqy/3oTdYE/mk/dbJefIm9iSD9IPGa2QCW8AmAIc44becIeEJfsbQLyJyP0uWby5/7L3GI/k9tKu8ACHwAAAJ1BmxlJ4Q8mUwIb//6nhAAAAwAVH3hLeB0rK1tEP39BIz3rIUpicdJD3fVSC1hw3xBWbJ0P7+FFk1PwEjRAMXotbHTJYyKymLXZXjJ6NYVqUEPX1T80tu74Hlqm/A/pb11Y54bKKlI6waZwGA8fMuJIfSRW9e5LsxmMEoYHFLHWRwii/0PGmYzgZfPt332Nx3uA8ojiBSDjXTeUWgHdAAAAxEGbOknhDyZTAhv//qeEAAADAAdrgt1FOdbJO/1l1YwfOUBTNQ7H74gFvfc2LWT8XSgxBpsTmsf7Al+OqBY3vZsRnBbVUmpZbieKddq+4IR1+ZN1QvF/FjeZZITkbO/l5Wb5sUfjMCgIyRcmM0qEyVa0gZ3WA/rweFxz7jG4hioK1m/Qnlymu5swjSGczuQb+pxfQQV4nHlTtjaRv7rvyMyGnvrOYLkjQfVpxeaRo8lo24rsn+NaSNTxeqGNwuhtQVGAIeEAAACmQZtbSeEPJlMCG//+p4QAAAMAAqDh4xMyixrzk7HLAnRwd8VxZwvawIna92ZMf4DbDQUwkjmMjYKCc37ZvAqWBpmvhwOzruGUdCFvPHuGQW22NOKVgpGR7BiVTnOrugWcpXapDZghw+Z/6kKmKCSUIWDLvYQ2EVyOHvtlpBDsBDguLGaD0NZIPe9jwVGk7JSS1x9smdR/8va7Mym9X9DUo+INjvqEHAAAAKhBm3xJ4Q8mUwIb//6nhAAAAwAA6PBd2PE8duTlrcRdlRzTkkSnWWADk2l6wuOjuT3Aj6xS/NQOJL+RHV2AYX8DydhYPqOuO9YgzZxGlj3F867LnXhzuIs5NihTUL3ICSAt0MYr4TmC7Qsvg1oPM1i2P5NgZWCOVCmylYfLGvT6hSpU8vK+urtJygFxkwzqrggAsByTMPGu8cV8y5FVapkKkg/QLrTAV8EAAADCQZudSeEPJlMCG//+p4QAAAMAAFI94Rf9Au3nXgP+5BQiEw0q43C4mVbrQxBZ64PzLnIyAfr4evX+8ZygOgxPi8HlYNWq1ki1dAKllZyPOa6ra6ZsNcTtIDIncS7swQCRZjPBawhAiNkuJx6eN3ng66K4C1O6I0sS80Y8jniPMRDEZEnJcB3mhN0w3hoMKJNQ8m417kwKTQ1+cmtS0wiil0rp8tEXi+iZyirmL+4YBI1Jag7hCkRB8TsJJ2gmGbk3gysAAADeQZu+SeEPJlMCHf/+qZYAAAMAAA5O106raES57GMADaglwlj533GyqRSCf5GAlQswwp1bOpZ6VnJsEk14XEC7KbRh5VA5DxrkybjRBxBC6VBx3oWtKb1OpJd0mcmA6UtFJZQplHBKQgfseY5nxVXcVtHS6Q2sr4c1Cvdkpcu14blZtQ16vfkkpVoyBE/9wgnvgM32NbOd985+cH3ImkQX76/WSeccIW2/Oq0fBPlmjYFuVb8dDnakFnDAq/xcxyPw1mMia7z2yELDHXLb1HoAeE2P0EDeNd27Qra4byVNAAABMkGbwknhDyZTAhv//qeEAAADAAAcb2U/Bb68BkpUkA59RCL9dj64r2/I1hwp/sZasrvOLjpMzZ3T5ZgGfoQJFwhsL8dJ5digckb1hs3vR0zfoMWetlkAoH2PEgapIIyPcx4QKX8ephq3YB4XcJC1O2f2Tf0tBU05q/BRexW5LOP3jHZMCsSeIjUhDHVhPpMHPDmkIIvYS0+8wV7Xy3l5KLEsGGuefAYJ5KFpG1U4hqHEKT6MPvLxKAJ4QNLYgBkUZGW5KYYuRPN57qzMHoRA99W8n0GO3N+jVY9JTEv9Eo1xHBX5QFXDbgys/GnilF5QnFTGMyv+8EJOcUeI6F0zP+AlGd6nZtzzQ70dDh3fhP3qqvIMbfbnwF/RszTF7j/BqfEd73TZEC43nztDC6hAd9k2hgAAAPxBn+BFETwz/wAAGr3T1UEFuThIXZO3S/tUPg99gKGfU6vxXBe35/1TL4MD67vzz9wXJVtWm2YoXICukMPo0RCy4PKzyuMmp0o0NbIC15QHPBklxDsrmpESwilpSwCkiHXxACFABsL8/jz8y/nMFGOisKxqq36VaxcVFf1zuPwHeZT7o+gnR6dZiyBGNUKUcxU3mAQgMVfKMxYMbj+AI9rXAbCMcFxhVf2Hw/eES9S1u+fHL2IVkyHehXIMH/+POlJ7anWeFBbvv6sk13Ykv7lUWHpu3ynjswMdL2Lrgd8Mk8OD2ALgM7iOO1xsNL94SPkRDqhPhtconhBPPmEAAAC8AZ4fdEK/AAADAAAXRLYoRTP9wgIy/UAVvZt5Sf4afRpRtuTh/pwC7QcaqMsaXU9MTdEv6uY0CjCYnSsWlFTCdlnYx3sTP7Qyzw6UF8s3OLbkJ4ciaa6TRwheQslzf0emup3A4BNNA0iqSMsj3PZ4uG1cf2Ki8cLhoQf46+74hpf3rvxCekmizki0ZiLjALJwZUKqz7K3K0Jzn4mtjFE3jqh0cI6aLL3x/8vWrGl1/oZv9EFQqAEIlf8J1tAAAACpAZ4BakK/AAADAAAWKvyRLHVz4/hlv/V0ADVRm4/OHBm//h6jTKi8KdvXrdEx25Gs7c33fB4qFbNxqucUGLmAIA9cCVShNevDZ5G7dWOW+BzD5e5rftefh4UT6QSljj72xBLu+X3x3gqqs8dcNF2Z5lE86jG/oJ+2b3iofFS7yxruh3c7NV11LwSe8HQnVvBmGtR4ZVdLHP+meSq70oZ6/SkUkoBXTkBQewAAAN1BmgNJqEFomUwIb//+p4QAAAMAABf+E80UGUqWcAF0aYM1p0M0hkubAOeICDBXB9BDi4GpSAX0VuX6O9jYqFj2g5+/Nm14VM6lNMgIaVgMe0HHqedixl8mXht4PjfLiu++/44vg6u7Ega9tolN4EdnHh21DwerFpJFa5YMx4dCORaLS022oPFkluFyNajcZ9P2nuFgUvt9AshWo8uyloULYAdmYGNM4P92xDCDIM+RruBqLMvGvlz5yX839gzgzguX5lbM4ES++MMTHieZmBamYXtyQTTSQZsPQ7CbgAAAANNBmiRJ4QpSZTAhv/6nhAAAAwAAF+FCOWz+2QA2oQt0S4INP6JwP1EbNFRinzDm122CifjmCeZFU4vK9g+3EijCIu1Hrr/Iyap9hnjIQqT3FrBvR56o5A8g9hCvKVAWmyGlTq9Up0NsU8N4hpiUJZQP744WnKJkgNLLEmLHPGFImze9gVnDzJRfPO5GSLQK6IFcMNXQ1dzE8QR69KhUfbWlOEZzJONdzB4c84dBMVV7R4tEsrnNs5knHsuIxRo4i8Tdo/NmoSolhnH1IAcDz1yb/o+5AAAAzUGaRUnhDomUwIb//qeEAAADAAA/YO33ti2QAtORnJ8roHkhgQ/ylOIYEPa5LbWBnIsHF4jwe2ZUC4dFV8KEQvpf9Tgk/IyLjlGJIKDPup4a/qzShNiz+xucB1lC1OZoVpzJo+F9ZdwlUyVkw6iuq/jla3MKdqAS5+sopGJAi/opbmXS/M/Az31kKFWJK690qIg7uH2pBSMR6aay1zBs8yWPLA0MlRTIJSwMWU7vcqh23QGb8FOrqviAmmaR4RNqcrqZoNeLqtPvJu70ErEAAADBQZpmSeEPJlMCG//+p4QAAAMAALEzUCqgBsgBMur05UVLzoFI0G1eL25bIdJzGsckfurXBzpo01B7y//eE0ersjvxR2m9f5h9b91v0GJRiI2OjyQsehCftOel5CBaANohjqPoEHHOI2+1JWRPCH7ycRYg+M3nWzdQcws4intqaGOF6aWimu7/z3WGMKlL6QdePkzyHqTHtU86Vy1BjIfu9V6jzV3VS+O7P0UnNvUqefxn9ETxtQUFn678DrmH0PjegQAAAK5BmodJ4Q8mUwIb//6nhAAAAwAB2gdgLmJacAFSe5sAY2S8xHcYaTiRUsv2KPuWxZv5fhWvHioie0g3cMngbtsU9yAGRTQunCagzqTz6Nqz/4XHVwLbVS+vugIGP1D8+vLPRUqTdEsdHZrWmNjpvmCwcl9MQNhE5zo3NlUgHBfTk1Bm33otAWW7KpOY1bY5nb4TkYlpWTn5OjbmuEPe+bNUS47XNGD3J0PiDrncGW0AAACjQZqoSeEPJlMCG//+p4QAAAMADja9+BqEQCa+8zle+AZY4WqnHw5lNthXy781Ok/3poY4DAmtVykFRSZ33x/OcMO5vy8yxkcqoZ7IwI4j3+jEuCflRXN4jjV+oqlDaWXicDT/CNAOjOo9P+1yzJ/0jVz9Qts389Nx30Bq94/tByYqF+uIaybAEW7zv59uXyDY7DUjEE4CSBojTrG5/+rHDe9B7QAAAIBBmslJ4Q8mUwIb//6nhAAAAwAmtIwr7c9EgAvUCze/5BtVJXiLO+/+ZLKwmb/f+DKA84XXZztrd2GMdl0r+mH99qEigSq3PJjvscngo9r9Yg1Ps/8iNQUKUlo/rcnR1F72NdcuqfKJBVkPYRrFh7pY2RUcRkcarXxDKUDTYQUTcAAAAHhBmupJ4Q8mUwId//6plgAAAwA1FpDWM2DY6gAhDil88DA3aQPAViObkDQ7GYyLzQO5SYl7uKyxkiraZYJfrX88wFNDxcgw2rTd8paWPC97aXlwsC/6w408d2J68HfS//ZWwvAQwB1BaRjHbu77w4ajm7316xyKBvUAAAEiQZsOSeEPJlMCG//+p4QAAD4EAkADjaa569FfzGrAE3Qe6ECtzu/EIYxnwrqMujjiQxYr3+XrbOzeNqtomUuRDmyZue2mv/v7FKL2NifPYZiO3otm6wWfYVTRwolxbeNwFM7VG9UL2XJAVk9nm8a0sDnLfq8PnyIXsfbTZMYAZYg1nU26t9zRu/ezsGbcD69E6xAjKeTtOb6PibG4seaVyh1dVr4tW9YQIOgDa8WsUwRciUBErcI/VMIx/jT/ECu3czI/F9FRdCu+u+lkAMfF+Y4BpecGrTAVNskJs/HJTZhBmer/K24B2mwZDmiY2n1BKE2EmSFrHlWxZ9dfeegJ1UJZzhMAyaKuf0Tapma/nas5EHiNaZi2Nt+Q+AZS28sKS8AAAADRQZ8sRRE8M/8AABujXiU4CPrD8DoARkBg0RQ6rGC5/dh4BxE7zKahdqlso0D1IMTKUcBQK/av4ePcP/tS3HKjGDSL5ch2Lb0Zs0cHNA4Zi0MfEc7lLyOQfETTlxPVg11mSFnkkpIkqGlNR2FD86GBLYu2AW1CaOWladhX2qexrUxFOL3TI0pLSEYyetKCI/7fMRdPFlApo8fw8mhxBMfUNx1SG8q5J9xKFIAu1c6BLnR7gGjSDrCoK0aw18tJowG7pcGlgIXC/wcBxNTueNbDR8AAAABxAZ9LdEK/AAAG6jgF1gPPmkpr+//EQ1YR6bWL7EBtZTGXwAh9ZQHsmpldeypAIWFLrfZUD+kv2GaXuyzlMi9YG9NPWd7ukR/ILONf1C3NyFcDZPGnjKXHCojMZgxl71uM0YSSvnbpQuGJSdffgQRAYsEAAAB9AZ9NakK/AAAzjlCmQ7yy40IQ1AC3g/voWbA099si45WAEeRus9f4uoiCJT4nL7Ov0vuFXRDcjaj7Eg9hHJUUt3zoSyTkSOUAUFvxfdIL1/P7OjxkD8pavIPZLZtyiFFAAT8NS4vm7K7O0NVO6KFxyrY6+gcsj+rwztK1c+EAAACyQZtPSahBaJlMCG///qeEAAA+AObVm42QAXsh8vwtowxN/7GBGU8kAnO7UAsRAKjvfS7ZoxDze0Uc2DauK/7sqRrm8p7hTuImy7quv1mln3+498C4R24Qlztd9HvY2rDYHwe6al3dMEJyhIY5YwgFBhExPZ+V/MLj8uxQBggUIzSRTJfAR+9W6kreaHJ4nkyDuK1uoUwUtG9DJC31/6ewINGsw9sqoRZczWy0ZYqLx3FG9QAAAQJBm3FJ4QpSZTBREsN//qeEAAHEIBICo95qMu9ILpoi29EQntxZqcqF9nAg030jJw7ee7NoPWB6S2U84Vyz4s8sD/LRK4p2bG/gJ4g2BDQPIPdyN3vDeN4/PU1K3efa2xZWpnFYSxUHuXevUkMIGa0HQFpXVW/RHgkD8S3mc/snkr6JFteyJTXcikgI4luPl5eE7hMWPF/YfBBs1y9+FQXdtlTwlxQCWFv9lICgedsJj7XnmxYcxbnkKr2z2UGa5k46eanA3mMQ+OchPk2SCf56gUXHHxAGx17kIYZ/MSKqQ///4bi11SttU3tTrFrgg/PkwK56QhqPNyPBggAl01saF5AAAACcAZ+QakK/AAF0r3L+pkw3MxkvTRQ3LrP2/CdMNAA7KQYypFP43U2I9mjRT9YvhvE+Z62P36kymGIBBB3gB1hEL/7yfwEYhWydjWVSmMHLLtFOQ7JIOO5xcux7xZ5C3JdoBGzJs9FuBhWD2sfBvDx7lyDaw4NG0/FiVpr1fFLQAHfUWKa8UHN+BAr0Qft/wikEKOIPu1thOvo6cPSAAAAA4kGblEnhDomUwIV//jhAABsfUhmvA157gBcXy+4HlMEsSl0RPfNm9lq6t1oW90UMb47mnhyBNp7SaxeeiNQHTKo+DnQRrztmVH++KPoGFGQY35AoOpKBOZ0DTFMFQLOGzmIeaoyShJF76VAshKiXktTKIf+QO/17qTid8xx/pb4E5Lah/YZ8fkST/NyHslM/Xphl7Thg6Gv21ufnu2cyNLswiqDlPlr9RRII+fPokUCOA4ZSyEnqodi9P4lhPWG4rKfH35p2QKSErcR7iqNRhc54MYC+6jpy8h/v5jAAv0oSzxkAAADbQZ+yRRU8L/8AAQ5dWAWs9cLSBxpTHPcDSokuT7SLd5U4UiU1yzouj6YQrOBISFVKBKAal1alvnrWi21FaX/4xM3qENSPZPCA6i3sSQI0dVsyL7AFUJg+3UHQ2o5HgBgUE5jnh5Xl66B6VFH7FOf2Mce7KMBrwk6xfhFIPoxpiqCmDMGJpKNLd2VWrp+5V+mfOiRFi06qrVTAVHadMzlvT0mWnup5oqU7ErYZLoUIp45REL1VHU6EvKpm6n6vGpsZCQvaODW0XufSj2NWnQd5Xw+AEiSU0yXpNMqAAAAAvwGf02pCvwABdFGXdAvjMMzP44cQk7GcAIRwC6yly+P2jsJYbHV8mwzfberyZRkF2LPryYHzVreFpDXTF/rgz1GjZweNVAg9nA308MUWjuf95GsOr/ubQ5TL4Jj8YUnaV6oibYaHfN4VnFoPWYP1Xomqo5CeaAGmxdNTAQETRBdWapLXI92Kd3K/L2FnGGtijVGTmZgD/6fiKKKQnd7VG9RDCUBt7bAStK4XXm9mFTBcKVzN4vUmAFep2qr5dSbgAAAM5m1vb3YAAABsbXZoZAAAAAAAAAAAAAAAAAAAA+gAAC/aAAEAAAEAAAAAAAAAAAAAAAABAAAAAAAAAAAAAAAAAAAAAQAAAAAAAAAAAAAAAAAAQAAAAAAAAAAAAAAAAAAAAAAAAAAAAAAAAAAAAAAAAAIAAAwQdHJhawAAAFx0a2hkAAAAAwAAAAAAAAAAAAAAAQAAAAAAAC/aAAAAAAAAAAAAAAAAAAAAAAABAAAAAAAAAAAAAAAAAAAAAQAAAAAAAAAAAAAAAAAAQAAAAAKAAAAB4AAAAAAAJGVkdHMAAAAcZWxzdAAAAAAAAAABAAAv2gAABAAAAQAAAAALiG1kaWEAAAAgbWRoZAAAAAAAAAAAAAAAAAAAKAAAAeoAVcQAAAAAAC1oZGxyAAAAAAAAAAB2aWRlAAAAAAAAAAAAAAAAVmlkZW9IYW5kbGVyAAAACzNtaW5mAAAAFHZtaGQAAAABAAAAAAAAAAAAAAAkZGluZgAAABxkcmVmAAAAAAAAAAEAAAAMdXJsIAAAAAEAAArzc3RibAAAAK9zdHNkAAAAAAAAAAEAAACfYXZjMQAAAAAAAAABAAAAAAAAAAAAAAAAAAAAAAKAAeAASAAAAEgAAAAAAAAAAQAAAAAAAAAAAAAAAAAAAAAAAAAAAAAAAAAAAAAAAAAAABj//wAAADVhdmNDAWQAHv/hABhnZAAerNlAoD2hAAADAAEAAAMAKA8WLZYBAAZo6+PLIsD9+PgAAAAAFGJ0cnQAAAAAAABy3wAAct8AAAAYc3R0cwAAAAAAAAABAAAA9QAAAgAAAAAUc3RzcwAAAAAAAAABAAAAAQAABfhjdHRzAAAAAAAAAL0AAAABAAAEAAAAAAEAAAoAAAAAAQAABAAAAAABAAAAAAAAAAEAAAIAAAAAAQAACgAAAAABAAAEAAAAAAEAAAAAAAAAAQAAAgAAAAABAAAKAAAAAAEAAAQAAAAAAQAAAAAAAAABAAACAAAAAAEAAAYAAAAAAQAAAgAAAAABAAAKAAAAAAEAAAQAAAAAAQAAAAAAAAABAAACAAAAAAEAAAoAAAAAAQAABAAAAAABAAAAAAAAAAEAAAIAAAAAAQAACgAAAAABAAAEAAAAAAEAAAAAAAAAAQAAAgAAAAABAAAKAAAAAAEAAAQAAAAAAQAAAAAAAAABAAACAAAAAAEAAAoAAAAAAQAABAAAAAABAAAAAAAAAAEAAAIAAAAAAQAACAAAAAACAAACAAAAAAEAAAYAAAAAAQAAAgAAAAABAAAKAAAAAAEAAAQAAAAAAQAAAAAAAAABAAACAAAAAAEAAAoAAAAAAQAABAAAAAABAAAAAAAAAAEAAAIAAAAAAQAACgAAAAABAAAEAAAAAAEAAAAAAAAAAQAAAgAAAAABAAAGAAAAAAEAAAIAAAAAAQAACAAAAAACAAACAAAAAAEAAAgAAAAAAgAAAgAAAAABAAAGAAAAAAEAAAIAAAAAAQAABgAAAAABAAACAAAAAAEAAAgAAAAAAgAAAgAAAAABAAAGAAAAAAEAAAIAAAAAAQAACAAAAAACAAACAAAAAAEAAAoAAAAAAQAABAAAAAABAAAAAAAAAAEAAAIAAAAAAQAACgAAAAABAAAEAAAAAAEAAAAAAAAAAQAAAgAAAAABAAAGAAAAAAEAAAIAAAAAAQAACgAAAAABAAAEAAAAAAEAAAAAAAAAAQAAAgAAAAABAAAGAAAAAAEAAAIAAAAAAQAABgAAAAABAAACAAAAAAEAAAQAAAAAAQAABgAAAAABAAACAAAAAAEAAAgAAAAAAgAAAgAAAAABAAAIAAAAAAIAAAIAAAAAAQAACAAAAAACAAACAAAAAAEAAAoAAAAAAQAABAAAAAABAAAAAAAAAAEAAAIAAAAAAQAACgAAAAABAAAEAAAAAAEAAAAAAAAAAQAAAgAAAAABAAAKAAAAAAEAAAQAAAAAAQAAAAAAAAABAAACAAAAAAEAAAoAAAAAAQAABAAAAAABAAAAAAAAAAEAAAIAAAAAAQAABAAAAAABAAAGAAAAAAEAAAIAAAAAAgAABAAAAAABAAAIAAAAAAIAAAIAAAAAAwAABAAAAAABAAAGAAAAAAEAAAIAAAAAAQAACAAAAAACAAACAAAAAAEAAAgAAAAAAgAAAgAAAAABAAAGAAAAAAEAAAIAAAAAAgAABAAAAAABAAAGAAAAAAEAAAIAAAAAAQAACAAAAAACAAACAAAAAAEAAAgAAAAAAgAAAgAAAAABAAAEAAAAAAEAAAYAAAAAAQAAAgAAAAACAAAEAAAAAAEAAAYAAAAAAQAAAgAAAAABAAAGAAAAAAEAAAIAAAAAAQAACAAAAAACAAACAAAAAAEAAAoAAAAAAQAABAAAAAABAAAAAAAAAAEAAAIAAAAAAQAACgAAAAABAAAEAAAAAAEAAAAAAAAAAQAAAgAAAAABAAAKAAAAAAEAAAQAAAAAAQAAAAAAAAABAAACAAAAAAEAAAQAAAAAAQAACAAAAAACAAACAAAAAAEAAAYAAAAAAQAAAgAAAAAEAAAEAAAAAAEAAAgAAAAAAgAAAgAAAAAOAAAEAAAAAAEAAAgAAAAAAgAAAgAAAAABAAAEAAAAAAEAAAoAAAAAAQAABAAAAAABAAAAAAAAAAEAAAIAAAAAAQAACAAAAAACAAACAAAAAAEAAAYAAAAAAQAAAgAAAAAKAAAEAAAAAAEAAAoAAAAAAQAABAAAAAABAAAAAAAAAAEAAAIAAAAACAAABAAAAAABAAAKAAAAAAEAAAQAAAAAAQAAAAAAAAABAAACAAAAAAEAAAQAAAAAAQAABgAAAAABAAACAAAAAAEAAAgAAAAAAgAAAgAAAAAcc3RzYwAAAAAAAAABAAAAAQAAAPUAAAABAAAD6HN0c3oAAAAAAAAAAAAAAPUAABoaAAAA0AAAAEoAAAAjAAAAOAAAAQoAAACKAAAATQAAAHAAAAEGAAAAcQAAAEgAAABkAAAA1AAAAF0AAAEdAAAAkQAAAGcAAABeAAABQQAAAG0AAABKAAAAXAAAAQwAAACIAAAAWAAAAD0AAAESAAAAfwAAAEYAAAA5AAAAzQAAAF0AAABcAAAAPQAAALUAAABBAAAAQAAAAFcAAAAmAAAAsAAAAFYAAABGAAAAOgAAANAAAABmAAAARAAAAGYAAAEIAAAAbgAAAE0AAABYAAAAvgAAAGkAAADqAAAAaQAAAFYAAAESAAAAdAAAAFkAAADdAAAAdQAAAOsAAABmAAABIAAAAKoAAABtAAAA7QAAAGkAAAEEAAAAfAAAAGkAAAEKAAAAZwAAAFMAAABFAAAAnwAAADcAAAAwAAAAIQAAAGEAAABAAAAA0QAAAIMAAABcAAAAWgAAAO0AAABlAAAA3QAAAHAAAAC6AAABDwAAAGQAAAESAAAAjgAAAHgAAAEoAAAAgAAAAHEAAAEhAAAAgwAAAE0AAAFKAAAAngAAAGMAAABYAAABBAAAAIsAAABIAAAATwAAAJoAAABkAAAAYgAAAE8AAADpAAAAawAAAGcAAABBAAAA0AAAANcAAABaAAAAsgAAAK0AAAFAAAAAowAAAHYAAADpAAAA4QAAAQYAAAEzAAAAkAAAAUcAAAC1AAAAfgAAATAAAACrAAAAfQAAAR4AAABuAAAAvAAAAL8AAADgAAAAUAAAALsAAABnAAAAXQAAAOgAAABoAAAAUAAAAL0AAADQAAAAVAAAAMMAAADJAAAAsQAAAEoAAAC+AAAAPgAAAOEAAABWAAAASAAAAM8AAABxAAAASwAAAFcAAAAfAAAATwAAAEYAAABIAAAArwAAAG8AAABMAAAAQAAAAKAAAAEsAAAAawAAAGgAAAERAAAAbQAAANcAAADIAAAAuQAAAKQAAADCAAAAZQAAAG0AAADHAAAAvAAAAOcAAADIAAAAxAAAAKwAAADrAAAA+AAAATQAAAEEAAAA+wAAAQQAAADWAAAAyQAAALsAAACFAAAAXQAAANQAAADBAAAAgwAAAG8AAABYAAAAwgAAAIAAAAB9AAAA7gAAAF8AAADcAAAAwQAAAIwAAACYAAAAoQAAAMgAAACqAAAArAAAAMYAAADiAAABNgAAAQAAAADAAAAArQAAAOEAAADXAAAA0QAAAMUAAACyAAAApwAAAIQAAAB8AAABJgAAANUAAAB1AAAAgQAAALYAAAEGAAAAoAAAAOYAAADfAAAAwwAAABRzdGNvAAAAAAAAAAEAAAAwAAAAYnVkdGEAAABabWV0YQAAAAAAAAAhaGRscgAAAAAAAAAAbWRpcmFwcGwAAAAAAAAAAAAAAAAtaWxzdAAAACWpdG9vAAAAHWRhdGEAAAABAAAAAExhdmY1OC43Ni4xMDA=\" type=\"video/mp4\">\n",
              "          </video>\n",
              "          "
            ]
          },
          "metadata": {},
          "execution_count": 27
        },
        {
          "output_type": "display_data",
          "data": {
            "text/plain": [
              "<Figure size 640x480 with 1 Axes>"
            ],
            "image/png": "[encoded data removed]"
          },
          "metadata": {}
        }
      ],
      "source": [
        "images = env.render()\n",
        "make_video(images,\"movie.mp4\")\n",
        "play_video(\"movie.mp4\",width=600)"
      ]
    },
    {
      "cell_type": "markdown",
      "id": "b19ea7c4",
      "metadata": {
        "id": "b19ea7c4"
      },
      "source": [
        "### Transposition à un autre problème\n",
        "\n",
        "Essayez de voir si un modèle DQN avec les mêmes paramètres peut marcher avec un autre environnement, par exemple le Lunar Lander. Comparez avec les arguments par défaut, et comparer avec l'algorithme PPO (Proximal Policy Optimization) de stable-baseline, avec les arguments par défaut."
      ]
    },
    {
      "cell_type": "code",
      "execution_count": null,
      "id": "90649708",
      "metadata": {
        "colab": {
          "base_uri": "https://localhost:8080/"
        },
        "id": "90649708",
        "outputId": "df501db9-1594-4aa0-c40a-fea79a732215"
      },
      "outputs": [
        {
          "output_type": "stream",
          "name": "stdout",
          "text": [
            "Requirement already satisfied: swig in /usr/local/lib/python3.10/dist-packages (4.1.1.post0)\n",
            "Requirement already satisfied: gym[Box2D] in /usr/local/lib/python3.10/dist-packages (0.26.2)\n",
            "Requirement already satisfied: numpy>=1.18.0 in /usr/local/lib/python3.10/dist-packages (from gym[Box2D]) (1.23.5)\n",
            "Requirement already satisfied: cloudpickle>=1.2.0 in /usr/local/lib/python3.10/dist-packages (from gym[Box2D]) (2.2.1)\n",
            "Requirement already satisfied: gym-notices>=0.0.4 in /usr/local/lib/python3.10/dist-packages (from gym[Box2D]) (0.0.8)\n",
            "Requirement already satisfied: box2d-py==2.3.5 in /usr/local/lib/python3.10/dist-packages (from gym[Box2D]) (2.3.5)\n",
            "Requirement already satisfied: pygame==2.1.0 in /usr/local/lib/python3.10/dist-packages (from gym[Box2D]) (2.1.0)\n",
            "Requirement already satisfied: swig==4.* in /usr/local/lib/python3.10/dist-packages (from gym[Box2D]) (4.1.1.post0)\n"
          ]
        }
      ],
      "source": [
        "!pip install swig\n",
        "!pip install gym[Box2D]"
      ]
    },
    {
      "cell_type": "code",
      "execution_count": null,
      "id": "79d3cdde",
      "metadata": {
        "id": "79d3cdde"
      },
      "outputs": [],
      "source": [
        "from stable_baselines3 import PPO"
      ]
    },
    {
      "cell_type": "code",
      "execution_count": null,
      "id": "a1c0d55f",
      "metadata": {
        "id": "a1c0d55f"
      },
      "outputs": [],
      "source": [
        "env = gym.make('LunarLander-v2',render_mode=\"rgb_array_list\")\n",
        "#options fun à changer:\n",
        "# gravity: float = -10.0,\n",
        "# enable_wind: bool = False,\n",
        "# wind_power: float = 15.0,\n",
        "# turbulence_power: float = 1.5,"
      ]
    },
    {
      "cell_type": "code",
      "source": [
        "from stable_baselines3.common.logger import configure\n",
        "from stable_baselines3 import PPO\n",
        "\n",
        "\n",
        "tmp_path = \"/tmp/sb3_log/\"\n",
        "#on efface le précédent sinon tout se cumule dans le même fichier; à adapter pour windoz\n",
        "!rm $tmp_path/progress.csv\n",
        "new_logger = configure(tmp_path, [\"csv\"])\n",
        "\n",
        "# commencer à 20/40_000 max pour le nb de pas, et n'augmentez pas avant que la courbe ait l'air de séaméliorer\n",
        "model = PPO(\"MlpPolicy\", env, verbose=1)\n",
        "model.set_logger(new_logger)\n",
        "model.learn(total_timesteps=40_000,progress_bar=True)\n",
        "\n",
        "obs = env.reset()[0]\n",
        "for i in range(1000):\n",
        "    action, *_state = model.predict(obs,deterministic=False)\n",
        "    obs, reward, done, *info = env.step(action)\n",
        "    #env.render()\n",
        "    if done:\n",
        "        #obs = env.reset()\n",
        "        break\n"
      ],
      "metadata": {
        "colab": {
          "base_uri": "https://localhost:8080/",
          "height": 462,
          "referenced_widgets": [
            "636afc562ff842d0b829cae965ea67dc",
            "c59f5760a423469291c4647225800410"
          ]
        },
        "id": "1QvdGLSVyLnT",
        "outputId": "fd0f3451-247b-40fa-b628-c76717f066ca"
      },
      "id": "1QvdGLSVyLnT",
      "execution_count": null,
      "outputs": [
        {
          "output_type": "display_data",
          "data": {
            "text/plain": [
              "Output()"
            ],
            "application/vnd.jupyter.widget-view+json": {
              "version_major": 2,
              "version_minor": 0,
              "model_id": "636afc562ff842d0b829cae965ea67dc"
            }
          },
          "metadata": {}
        },
        {
          "output_type": "stream",
          "name": "stdout",
          "text": [
            "Using cuda device\n",
            "Wrapping the env with a `Monitor` wrapper\n",
            "Wrapping the env in a DummyVecEnv.\n"
          ]
        },
        {
          "output_type": "error",
          "ename": "KeyboardInterrupt",
          "evalue": "ignored",
          "traceback": [
            "\u001b[0;31m---------------------------------------------------------------------------\u001b[0m",
            "\u001b[0;31mKeyboardInterrupt\u001b[0m                         Traceback (most recent call last)",
            "\u001b[0;32m<ipython-input-187-b9bd24ae3ae2>\u001b[0m in \u001b[0;36m<cell line: 13>\u001b[0;34m()\u001b[0m\n\u001b[1;32m     11\u001b[0m \u001b[0mmodel\u001b[0m \u001b[0;34m=\u001b[0m \u001b[0mPPO\u001b[0m\u001b[0;34m(\u001b[0m\u001b[0;34m\"MlpPolicy\"\u001b[0m\u001b[0;34m,\u001b[0m \u001b[0menv\u001b[0m\u001b[0;34m,\u001b[0m \u001b[0mverbose\u001b[0m\u001b[0;34m=\u001b[0m\u001b[0;36m1\u001b[0m\u001b[0;34m)\u001b[0m\u001b[0;34m\u001b[0m\u001b[0;34m\u001b[0m\u001b[0m\n\u001b[1;32m     12\u001b[0m \u001b[0mmodel\u001b[0m\u001b[0;34m.\u001b[0m\u001b[0mset_logger\u001b[0m\u001b[0;34m(\u001b[0m\u001b[0mnew_logger\u001b[0m\u001b[0;34m)\u001b[0m\u001b[0;34m\u001b[0m\u001b[0;34m\u001b[0m\u001b[0m\n\u001b[0;32m---> 13\u001b[0;31m \u001b[0mmodel\u001b[0m\u001b[0;34m.\u001b[0m\u001b[0mlearn\u001b[0m\u001b[0;34m(\u001b[0m\u001b[0mtotal_timesteps\u001b[0m\u001b[0;34m=\u001b[0m\u001b[0;36m40_000\u001b[0m\u001b[0;34m,\u001b[0m\u001b[0mprogress_bar\u001b[0m\u001b[0;34m=\u001b[0m\u001b[0;32mTrue\u001b[0m\u001b[0;34m)\u001b[0m\u001b[0;34m\u001b[0m\u001b[0;34m\u001b[0m\u001b[0m\n\u001b[0m\u001b[1;32m     14\u001b[0m \u001b[0;34m\u001b[0m\u001b[0m\n\u001b[1;32m     15\u001b[0m \u001b[0mobs\u001b[0m \u001b[0;34m=\u001b[0m \u001b[0menv\u001b[0m\u001b[0;34m.\u001b[0m\u001b[0mreset\u001b[0m\u001b[0;34m(\u001b[0m\u001b[0;34m)\u001b[0m\u001b[0;34m[\u001b[0m\u001b[0;36m0\u001b[0m\u001b[0;34m]\u001b[0m\u001b[0;34m\u001b[0m\u001b[0;34m\u001b[0m\u001b[0m\n",
            "\u001b[0;32m/usr/local/lib/python3.10/dist-packages/stable_baselines3/ppo/ppo.py\u001b[0m in \u001b[0;36mlearn\u001b[0;34m(self, total_timesteps, callback, log_interval, tb_log_name, reset_num_timesteps, progress_bar)\u001b[0m\n\u001b[1;32m    302\u001b[0m         \u001b[0mprogress_bar\u001b[0m\u001b[0;34m:\u001b[0m \u001b[0mbool\u001b[0m \u001b[0;34m=\u001b[0m \u001b[0;32mFalse\u001b[0m\u001b[0;34m,\u001b[0m\u001b[0;34m\u001b[0m\u001b[0;34m\u001b[0m\u001b[0m\n\u001b[1;32m    303\u001b[0m     ) -> SelfPPO:\n\u001b[0;32m--> 304\u001b[0;31m         return super().learn(\n\u001b[0m\u001b[1;32m    305\u001b[0m             \u001b[0mtotal_timesteps\u001b[0m\u001b[0;34m=\u001b[0m\u001b[0mtotal_timesteps\u001b[0m\u001b[0;34m,\u001b[0m\u001b[0;34m\u001b[0m\u001b[0;34m\u001b[0m\u001b[0m\n\u001b[1;32m    306\u001b[0m             \u001b[0mcallback\u001b[0m\u001b[0;34m=\u001b[0m\u001b[0mcallback\u001b[0m\u001b[0;34m,\u001b[0m\u001b[0;34m\u001b[0m\u001b[0;34m\u001b[0m\u001b[0m\n",
            "\u001b[0;32m/usr/local/lib/python3.10/dist-packages/stable_baselines3/common/on_policy_algorithm.py\u001b[0m in \u001b[0;36mlearn\u001b[0;34m(self, total_timesteps, callback, log_interval, tb_log_name, reset_num_timesteps, progress_bar)\u001b[0m\n\u001b[1;32m    244\u001b[0m \u001b[0;34m\u001b[0m\u001b[0m\n\u001b[1;32m    245\u001b[0m         \u001b[0;32mwhile\u001b[0m \u001b[0mself\u001b[0m\u001b[0;34m.\u001b[0m\u001b[0mnum_timesteps\u001b[0m \u001b[0;34m<\u001b[0m \u001b[0mtotal_timesteps\u001b[0m\u001b[0;34m:\u001b[0m\u001b[0;34m\u001b[0m\u001b[0;34m\u001b[0m\u001b[0m\n\u001b[0;32m--> 246\u001b[0;31m             \u001b[0mcontinue_training\u001b[0m \u001b[0;34m=\u001b[0m \u001b[0mself\u001b[0m\u001b[0;34m.\u001b[0m\u001b[0mcollect_rollouts\u001b[0m\u001b[0;34m(\u001b[0m\u001b[0mself\u001b[0m\u001b[0;34m.\u001b[0m\u001b[0menv\u001b[0m\u001b[0;34m,\u001b[0m \u001b[0mcallback\u001b[0m\u001b[0;34m,\u001b[0m \u001b[0mself\u001b[0m\u001b[0;34m.\u001b[0m\u001b[0mrollout_buffer\u001b[0m\u001b[0;34m,\u001b[0m \u001b[0mn_rollout_steps\u001b[0m\u001b[0;34m=\u001b[0m\u001b[0mself\u001b[0m\u001b[0;34m.\u001b[0m\u001b[0mn_steps\u001b[0m\u001b[0;34m)\u001b[0m\u001b[0;34m\u001b[0m\u001b[0;34m\u001b[0m\u001b[0m\n\u001b[0m\u001b[1;32m    247\u001b[0m \u001b[0;34m\u001b[0m\u001b[0m\n\u001b[1;32m    248\u001b[0m             \u001b[0;32mif\u001b[0m \u001b[0mcontinue_training\u001b[0m \u001b[0;32mis\u001b[0m \u001b[0;32mFalse\u001b[0m\u001b[0;34m:\u001b[0m\u001b[0;34m\u001b[0m\u001b[0;34m\u001b[0m\u001b[0m\n",
            "\u001b[0;32m/usr/local/lib/python3.10/dist-packages/stable_baselines3/common/on_policy_algorithm.py\u001b[0m in \u001b[0;36mcollect_rollouts\u001b[0;34m(self, env, callback, rollout_buffer, n_rollout_steps)\u001b[0m\n\u001b[1;32m    172\u001b[0m                 \u001b[0mclipped_actions\u001b[0m \u001b[0;34m=\u001b[0m \u001b[0mnp\u001b[0m\u001b[0;34m.\u001b[0m\u001b[0mclip\u001b[0m\u001b[0;34m(\u001b[0m\u001b[0mactions\u001b[0m\u001b[0;34m,\u001b[0m \u001b[0mself\u001b[0m\u001b[0;34m.\u001b[0m\u001b[0maction_space\u001b[0m\u001b[0;34m.\u001b[0m\u001b[0mlow\u001b[0m\u001b[0;34m,\u001b[0m \u001b[0mself\u001b[0m\u001b[0;34m.\u001b[0m\u001b[0maction_space\u001b[0m\u001b[0;34m.\u001b[0m\u001b[0mhigh\u001b[0m\u001b[0;34m)\u001b[0m\u001b[0;34m\u001b[0m\u001b[0;34m\u001b[0m\u001b[0m\n\u001b[1;32m    173\u001b[0m \u001b[0;34m\u001b[0m\u001b[0m\n\u001b[0;32m--> 174\u001b[0;31m             \u001b[0mnew_obs\u001b[0m\u001b[0;34m,\u001b[0m \u001b[0mrewards\u001b[0m\u001b[0;34m,\u001b[0m \u001b[0mdones\u001b[0m\u001b[0;34m,\u001b[0m \u001b[0minfos\u001b[0m \u001b[0;34m=\u001b[0m \u001b[0menv\u001b[0m\u001b[0;34m.\u001b[0m\u001b[0mstep\u001b[0m\u001b[0;34m(\u001b[0m\u001b[0mclipped_actions\u001b[0m\u001b[0;34m)\u001b[0m\u001b[0;34m\u001b[0m\u001b[0;34m\u001b[0m\u001b[0m\n\u001b[0m\u001b[1;32m    175\u001b[0m \u001b[0;34m\u001b[0m\u001b[0m\n\u001b[1;32m    176\u001b[0m             \u001b[0mself\u001b[0m\u001b[0;34m.\u001b[0m\u001b[0mnum_timesteps\u001b[0m \u001b[0;34m+=\u001b[0m \u001b[0menv\u001b[0m\u001b[0;34m.\u001b[0m\u001b[0mnum_envs\u001b[0m\u001b[0;34m\u001b[0m\u001b[0;34m\u001b[0m\u001b[0m\n",
            "\u001b[0;32m/usr/local/lib/python3.10/dist-packages/stable_baselines3/common/vec_env/base_vec_env.py\u001b[0m in \u001b[0;36mstep\u001b[0;34m(self, actions)\u001b[0m\n\u001b[1;32m    169\u001b[0m         \"\"\"\n\u001b[1;32m    170\u001b[0m         \u001b[0mself\u001b[0m\u001b[0;34m.\u001b[0m\u001b[0mstep_async\u001b[0m\u001b[0;34m(\u001b[0m\u001b[0mactions\u001b[0m\u001b[0;34m)\u001b[0m\u001b[0;34m\u001b[0m\u001b[0;34m\u001b[0m\u001b[0m\n\u001b[0;32m--> 171\u001b[0;31m         \u001b[0;32mreturn\u001b[0m \u001b[0mself\u001b[0m\u001b[0;34m.\u001b[0m\u001b[0mstep_wait\u001b[0m\u001b[0;34m(\u001b[0m\u001b[0;34m)\u001b[0m\u001b[0;34m\u001b[0m\u001b[0;34m\u001b[0m\u001b[0m\n\u001b[0m\u001b[1;32m    172\u001b[0m \u001b[0;34m\u001b[0m\u001b[0m\n\u001b[1;32m    173\u001b[0m     \u001b[0;32mdef\u001b[0m \u001b[0mget_images\u001b[0m\u001b[0;34m(\u001b[0m\u001b[0mself\u001b[0m\u001b[0;34m)\u001b[0m \u001b[0;34m->\u001b[0m \u001b[0mSequence\u001b[0m\u001b[0;34m[\u001b[0m\u001b[0mOptional\u001b[0m\u001b[0;34m[\u001b[0m\u001b[0mnp\u001b[0m\u001b[0;34m.\u001b[0m\u001b[0mndarray\u001b[0m\u001b[0;34m]\u001b[0m\u001b[0;34m]\u001b[0m\u001b[0;34m:\u001b[0m\u001b[0;34m\u001b[0m\u001b[0;34m\u001b[0m\u001b[0m\n",
            "\u001b[0;32m/usr/local/lib/python3.10/dist-packages/stable_baselines3/common/vec_env/dummy_vec_env.py\u001b[0m in \u001b[0;36mstep_wait\u001b[0;34m(self)\u001b[0m\n\u001b[1;32m     54\u001b[0m         \u001b[0;31m# Avoid circular imports\u001b[0m\u001b[0;34m\u001b[0m\u001b[0;34m\u001b[0m\u001b[0m\n\u001b[1;32m     55\u001b[0m         \u001b[0;32mfor\u001b[0m \u001b[0menv_idx\u001b[0m \u001b[0;32min\u001b[0m \u001b[0mrange\u001b[0m\u001b[0;34m(\u001b[0m\u001b[0mself\u001b[0m\u001b[0;34m.\u001b[0m\u001b[0mnum_envs\u001b[0m\u001b[0;34m)\u001b[0m\u001b[0;34m:\u001b[0m\u001b[0;34m\u001b[0m\u001b[0;34m\u001b[0m\u001b[0m\n\u001b[0;32m---> 56\u001b[0;31m             obs, self.buf_rews[env_idx], terminated, truncated, self.buf_infos[env_idx] = self.envs[env_idx].step(\n\u001b[0m\u001b[1;32m     57\u001b[0m                 \u001b[0mself\u001b[0m\u001b[0;34m.\u001b[0m\u001b[0mactions\u001b[0m\u001b[0;34m[\u001b[0m\u001b[0menv_idx\u001b[0m\u001b[0;34m]\u001b[0m\u001b[0;34m\u001b[0m\u001b[0;34m\u001b[0m\u001b[0m\n\u001b[1;32m     58\u001b[0m             )\n",
            "\u001b[0;32m/usr/local/lib/python3.10/dist-packages/stable_baselines3/common/monitor.py\u001b[0m in \u001b[0;36mstep\u001b[0;34m(self, action)\u001b[0m\n\u001b[1;32m     94\u001b[0m         \u001b[0;32mif\u001b[0m \u001b[0mself\u001b[0m\u001b[0;34m.\u001b[0m\u001b[0mneeds_reset\u001b[0m\u001b[0;34m:\u001b[0m\u001b[0;34m\u001b[0m\u001b[0;34m\u001b[0m\u001b[0m\n\u001b[1;32m     95\u001b[0m             \u001b[0;32mraise\u001b[0m \u001b[0mRuntimeError\u001b[0m\u001b[0;34m(\u001b[0m\u001b[0;34m\"Tried to step environment that needs reset\"\u001b[0m\u001b[0;34m)\u001b[0m\u001b[0;34m\u001b[0m\u001b[0;34m\u001b[0m\u001b[0m\n\u001b[0;32m---> 96\u001b[0;31m         \u001b[0mobservation\u001b[0m\u001b[0;34m,\u001b[0m \u001b[0mreward\u001b[0m\u001b[0;34m,\u001b[0m \u001b[0mterminated\u001b[0m\u001b[0;34m,\u001b[0m \u001b[0mtruncated\u001b[0m\u001b[0;34m,\u001b[0m \u001b[0minfo\u001b[0m \u001b[0;34m=\u001b[0m \u001b[0mself\u001b[0m\u001b[0;34m.\u001b[0m\u001b[0menv\u001b[0m\u001b[0;34m.\u001b[0m\u001b[0mstep\u001b[0m\u001b[0;34m(\u001b[0m\u001b[0maction\u001b[0m\u001b[0;34m)\u001b[0m\u001b[0;34m\u001b[0m\u001b[0;34m\u001b[0m\u001b[0m\n\u001b[0m\u001b[1;32m     97\u001b[0m         \u001b[0mself\u001b[0m\u001b[0;34m.\u001b[0m\u001b[0mrewards\u001b[0m\u001b[0;34m.\u001b[0m\u001b[0mappend\u001b[0m\u001b[0;34m(\u001b[0m\u001b[0mreward\u001b[0m\u001b[0;34m)\u001b[0m\u001b[0;34m\u001b[0m\u001b[0;34m\u001b[0m\u001b[0m\n\u001b[1;32m     98\u001b[0m         \u001b[0;32mif\u001b[0m \u001b[0mterminated\u001b[0m \u001b[0;32mor\u001b[0m \u001b[0mtruncated\u001b[0m\u001b[0;34m:\u001b[0m\u001b[0;34m\u001b[0m\u001b[0;34m\u001b[0m\u001b[0m\n",
            "\u001b[0;32m/usr/local/lib/python3.10/dist-packages/gym/wrappers/render_collection.py\u001b[0m in \u001b[0;36mstep\u001b[0;34m(self, *args, **kwargs)\u001b[0m\n\u001b[1;32m     31\u001b[0m         \u001b[0;34m\"\"\"Perform a step in the base environment and collect a frame.\"\"\"\u001b[0m\u001b[0;34m\u001b[0m\u001b[0;34m\u001b[0m\u001b[0m\n\u001b[1;32m     32\u001b[0m         \u001b[0moutput\u001b[0m \u001b[0;34m=\u001b[0m \u001b[0mself\u001b[0m\u001b[0;34m.\u001b[0m\u001b[0menv\u001b[0m\u001b[0;34m.\u001b[0m\u001b[0mstep\u001b[0m\u001b[0;34m(\u001b[0m\u001b[0;34m*\u001b[0m\u001b[0margs\u001b[0m\u001b[0;34m,\u001b[0m \u001b[0;34m**\u001b[0m\u001b[0mkwargs\u001b[0m\u001b[0;34m)\u001b[0m\u001b[0;34m\u001b[0m\u001b[0;34m\u001b[0m\u001b[0m\n\u001b[0;32m---> 33\u001b[0;31m         \u001b[0mself\u001b[0m\u001b[0;34m.\u001b[0m\u001b[0mframe_list\u001b[0m\u001b[0;34m.\u001b[0m\u001b[0mappend\u001b[0m\u001b[0;34m(\u001b[0m\u001b[0mself\u001b[0m\u001b[0;34m.\u001b[0m\u001b[0menv\u001b[0m\u001b[0;34m.\u001b[0m\u001b[0mrender\u001b[0m\u001b[0;34m(\u001b[0m\u001b[0;34m)\u001b[0m\u001b[0;34m)\u001b[0m\u001b[0;34m\u001b[0m\u001b[0;34m\u001b[0m\u001b[0m\n\u001b[0m\u001b[1;32m     34\u001b[0m         \u001b[0;32mreturn\u001b[0m \u001b[0moutput\u001b[0m\u001b[0;34m\u001b[0m\u001b[0;34m\u001b[0m\u001b[0m\n\u001b[1;32m     35\u001b[0m \u001b[0;34m\u001b[0m\u001b[0m\n",
            "\u001b[0;32m/usr/local/lib/python3.10/dist-packages/gym/core.py\u001b[0m in \u001b[0;36mrender\u001b[0;34m(self, *args, **kwargs)\u001b[0m\n\u001b[1;32m    327\u001b[0m     ) -> Optional[Union[RenderFrame, List[RenderFrame]]]:\n\u001b[1;32m    328\u001b[0m         \u001b[0;34m\"\"\"Renders the environment.\"\"\"\u001b[0m\u001b[0;34m\u001b[0m\u001b[0;34m\u001b[0m\u001b[0m\n\u001b[0;32m--> 329\u001b[0;31m         \u001b[0;32mreturn\u001b[0m \u001b[0mself\u001b[0m\u001b[0;34m.\u001b[0m\u001b[0menv\u001b[0m\u001b[0;34m.\u001b[0m\u001b[0mrender\u001b[0m\u001b[0;34m(\u001b[0m\u001b[0;34m*\u001b[0m\u001b[0margs\u001b[0m\u001b[0;34m,\u001b[0m \u001b[0;34m**\u001b[0m\u001b[0mkwargs\u001b[0m\u001b[0;34m)\u001b[0m\u001b[0;34m\u001b[0m\u001b[0;34m\u001b[0m\u001b[0m\n\u001b[0m\u001b[1;32m    330\u001b[0m \u001b[0;34m\u001b[0m\u001b[0m\n\u001b[1;32m    331\u001b[0m     \u001b[0;32mdef\u001b[0m \u001b[0mclose\u001b[0m\u001b[0;34m(\u001b[0m\u001b[0mself\u001b[0m\u001b[0;34m)\u001b[0m\u001b[0;34m:\u001b[0m\u001b[0;34m\u001b[0m\u001b[0;34m\u001b[0m\u001b[0m\n",
            "\u001b[0;32m/usr/local/lib/python3.10/dist-packages/gym/wrappers/order_enforcing.py\u001b[0m in \u001b[0;36mrender\u001b[0;34m(self, *args, **kwargs)\u001b[0m\n\u001b[1;32m     49\u001b[0m                 \u001b[0;34m\"set `disable_render_order_enforcing=True` on the OrderEnforcer wrapper.\"\u001b[0m\u001b[0;34m\u001b[0m\u001b[0;34m\u001b[0m\u001b[0m\n\u001b[1;32m     50\u001b[0m             )\n\u001b[0;32m---> 51\u001b[0;31m         \u001b[0;32mreturn\u001b[0m \u001b[0mself\u001b[0m\u001b[0;34m.\u001b[0m\u001b[0menv\u001b[0m\u001b[0;34m.\u001b[0m\u001b[0mrender\u001b[0m\u001b[0;34m(\u001b[0m\u001b[0;34m*\u001b[0m\u001b[0margs\u001b[0m\u001b[0;34m,\u001b[0m \u001b[0;34m**\u001b[0m\u001b[0mkwargs\u001b[0m\u001b[0;34m)\u001b[0m\u001b[0;34m\u001b[0m\u001b[0;34m\u001b[0m\u001b[0m\n\u001b[0m\u001b[1;32m     52\u001b[0m \u001b[0;34m\u001b[0m\u001b[0m\n\u001b[1;32m     53\u001b[0m     \u001b[0;34m@\u001b[0m\u001b[0mproperty\u001b[0m\u001b[0;34m\u001b[0m\u001b[0;34m\u001b[0m\u001b[0m\n",
            "\u001b[0;32m/usr/local/lib/python3.10/dist-packages/gym/wrappers/env_checker.py\u001b[0m in \u001b[0;36mrender\u001b[0;34m(self, *args, **kwargs)\u001b[0m\n\u001b[1;32m     53\u001b[0m             \u001b[0;32mreturn\u001b[0m \u001b[0menv_render_passive_checker\u001b[0m\u001b[0;34m(\u001b[0m\u001b[0mself\u001b[0m\u001b[0;34m.\u001b[0m\u001b[0menv\u001b[0m\u001b[0;34m,\u001b[0m \u001b[0;34m*\u001b[0m\u001b[0margs\u001b[0m\u001b[0;34m,\u001b[0m \u001b[0;34m**\u001b[0m\u001b[0mkwargs\u001b[0m\u001b[0;34m)\u001b[0m\u001b[0;34m\u001b[0m\u001b[0;34m\u001b[0m\u001b[0m\n\u001b[1;32m     54\u001b[0m         \u001b[0;32melse\u001b[0m\u001b[0;34m:\u001b[0m\u001b[0;34m\u001b[0m\u001b[0;34m\u001b[0m\u001b[0m\n\u001b[0;32m---> 55\u001b[0;31m             \u001b[0;32mreturn\u001b[0m \u001b[0mself\u001b[0m\u001b[0;34m.\u001b[0m\u001b[0menv\u001b[0m\u001b[0;34m.\u001b[0m\u001b[0mrender\u001b[0m\u001b[0;34m(\u001b[0m\u001b[0;34m*\u001b[0m\u001b[0margs\u001b[0m\u001b[0;34m,\u001b[0m \u001b[0;34m**\u001b[0m\u001b[0mkwargs\u001b[0m\u001b[0;34m)\u001b[0m\u001b[0;34m\u001b[0m\u001b[0;34m\u001b[0m\u001b[0m\n\u001b[0m",
            "\u001b[0;32m/usr/local/lib/python3.10/dist-packages/gym/envs/box2d/lunar_lander.py\u001b[0m in \u001b[0;36mrender\u001b[0;34m(self)\u001b[0m\n\u001b[1;32m    712\u001b[0m         \u001b[0;32melif\u001b[0m \u001b[0mself\u001b[0m\u001b[0;34m.\u001b[0m\u001b[0mrender_mode\u001b[0m \u001b[0;34m==\u001b[0m \u001b[0;34m\"rgb_array\"\u001b[0m\u001b[0;34m:\u001b[0m\u001b[0;34m\u001b[0m\u001b[0;34m\u001b[0m\u001b[0m\n\u001b[1;32m    713\u001b[0m             return np.transpose(\n\u001b[0;32m--> 714\u001b[0;31m                 \u001b[0mnp\u001b[0m\u001b[0;34m.\u001b[0m\u001b[0marray\u001b[0m\u001b[0;34m(\u001b[0m\u001b[0mpygame\u001b[0m\u001b[0;34m.\u001b[0m\u001b[0msurfarray\u001b[0m\u001b[0;34m.\u001b[0m\u001b[0mpixels3d\u001b[0m\u001b[0;34m(\u001b[0m\u001b[0mself\u001b[0m\u001b[0;34m.\u001b[0m\u001b[0msurf\u001b[0m\u001b[0;34m)\u001b[0m\u001b[0;34m)\u001b[0m\u001b[0;34m,\u001b[0m \u001b[0maxes\u001b[0m\u001b[0;34m=\u001b[0m\u001b[0;34m(\u001b[0m\u001b[0;36m1\u001b[0m\u001b[0;34m,\u001b[0m \u001b[0;36m0\u001b[0m\u001b[0;34m,\u001b[0m \u001b[0;36m2\u001b[0m\u001b[0;34m)\u001b[0m\u001b[0;34m\u001b[0m\u001b[0;34m\u001b[0m\u001b[0m\n\u001b[0m\u001b[1;32m    715\u001b[0m             )\n\u001b[1;32m    716\u001b[0m \u001b[0;34m\u001b[0m\u001b[0m\n",
            "\u001b[0;31mKeyboardInterrupt\u001b[0m: "
          ]
        }
      ]
    },
    {
      "cell_type": "code",
      "source": [
        "images = env.render()\n",
        "make_video(images,\"movie.mp4\")\n",
        "play_video(\"movie.mp4\",width=600)"
      ],
      "metadata": {
        "id": "bin5WX8-1BrK"
      },
      "id": "bin5WX8-1BrK",
      "execution_count": null,
      "outputs": []
    }
  ],
  "metadata": {
    "kernelspec": {
      "display_name": "gym",
      "language": "python",
      "name": "gym_env"
    },
    "language_info": {
      "codemirror_mode": {
        "name": "ipython",
        "version": 3
      },
      "file_extension": ".py",
      "mimetype": "text/x-python",
      "name": "python",
      "nbconvert_exporter": "python",
      "pygments_lexer": "ipython3",
      "version": "3.10.6"
    },
    "vscode": {
      "interpreter": {
        "hash": "d147335f4b237b4166e5b250e01f29e5ecb774387a94674176dcecd10fa171a1"
      }
    },
    "colab": {
      "provenance": [],
      "gpuType": "T4"
    },
    "accelerator": "GPU",
    "widgets": {
      "application/vnd.jupyter.widget-state+json": {
        "636afc562ff842d0b829cae965ea67dc": {
          "model_module": "@jupyter-widgets/output",
          "model_name": "OutputModel",
          "model_module_version": "1.0.0",
          "state": {
            "_dom_classes": [],
            "_model_module": "@jupyter-widgets/output",
            "_model_module_version": "1.0.0",
            "_model_name": "OutputModel",
            "_view_count": null,
            "_view_module": "@jupyter-widgets/output",
            "_view_module_version": "1.0.0",
            "_view_name": "OutputView",
            "layout": "IPY_MODEL_c59f5760a423469291c4647225800410",
            "msg_id": "",
            "outputs": [
              {
                "output_type": "display_data",
                "data": {
                  "text/plain": "\u001b[35m   8%\u001b[0m \u001b[38;2;249;38;114m━━━━━\u001b[0m\u001b[38;5;237m╺\u001b[0m\u001b[38;5;237m━━━━━━━━━━━━━━━━━━━━━━━━━━━━━━━━━━━━━━━━━━━━━━━━━━━━━━━━━\u001b[0m \u001b[32m3,244/40,000 \u001b[0m [ \u001b[33m0:02:46\u001b[0m < \u001b[36m0:11:48\u001b[0m , \u001b[31m52 it/s\u001b[0m ]\n",
                  "text/html": "<pre style=\"white-space:pre;overflow-x:auto;line-height:normal;font-family:Menlo,'DejaVu Sans Mono',consolas,'Courier New',monospace\"><span style=\"color: #800080; text-decoration-color: #800080\">   8%</span> <span style=\"color: #f92672; text-decoration-color: #f92672\">━━━━━</span><span style=\"color: #3a3a3a; text-decoration-color: #3a3a3a\">╺━━━━━━━━━━━━━━━━━━━━━━━━━━━━━━━━━━━━━━━━━━━━━━━━━━━━━━━━━</span> <span style=\"color: #008000; text-decoration-color: #008000\">3,244/40,000 </span> [ <span style=\"color: #808000; text-decoration-color: #808000\">0:02:46</span> &lt; <span style=\"color: #008080; text-decoration-color: #008080\">0:11:48</span> , <span style=\"color: #800000; text-decoration-color: #800000\">52 it/s</span> ]\n</pre>\n"
                },
                "metadata": {}
              }
            ]
          }
        },
        "c59f5760a423469291c4647225800410": {
          "model_module": "@jupyter-widgets/base",
          "model_name": "LayoutModel",
          "model_module_version": "1.2.0",
          "state": {
            "_model_module": "@jupyter-widgets/base",
            "_model_module_version": "1.2.0",
            "_model_name": "LayoutModel",
            "_view_count": null,
            "_view_module": "@jupyter-widgets/base",
            "_view_module_version": "1.2.0",
            "_view_name": "LayoutView",
            "align_content": null,
            "align_items": null,
            "align_self": null,
            "border": null,
            "bottom": null,
            "display": null,
            "flex": null,
            "flex_flow": null,
            "grid_area": null,
            "grid_auto_columns": null,
            "grid_auto_flow": null,
            "grid_auto_rows": null,
            "grid_column": null,
            "grid_gap": null,
            "grid_row": null,
            "grid_template_areas": null,
            "grid_template_columns": null,
            "grid_template_rows": null,
            "height": null,
            "justify_content": null,
            "justify_items": null,
            "left": null,
            "margin": null,
            "max_height": null,
            "max_width": null,
            "min_height": null,
            "min_width": null,
            "object_fit": null,
            "object_position": null,
            "order": null,
            "overflow": null,
            "overflow_x": null,
            "overflow_y": null,
            "padding": null,
            "right": null,
            "top": null,
            "visibility": null,
            "width": null
          }
        },
        "defae2ca2dae443c8e690b58d2db6b39": {
          "model_module": "@jupyter-widgets/output",
          "model_name": "OutputModel",
          "model_module_version": "1.0.0",
          "state": {
            "_dom_classes": [],
            "_model_module": "@jupyter-widgets/output",
            "_model_module_version": "1.0.0",
            "_model_name": "OutputModel",
            "_view_count": null,
            "_view_module": "@jupyter-widgets/output",
            "_view_module_version": "1.0.0",
            "_view_name": "OutputView",
            "layout": "IPY_MODEL_4687aa57edd148cca56d1ea603901819",
            "msg_id": "",
            "outputs": [
              {
                "output_type": "display_data",
                "data": {
                  "text/plain": "\u001b[35m 100%\u001b[0m \u001b[38;2;249;38;114m━━━━━━━━━━━━━━━━━━━━━━━━━━━━━━━━━━━━━━━━━━━━━━━━━━━━━━━━━━━━\u001b[0m\u001b[38;2;249;38;114m╸\u001b[0m \u001b[32m39,989/40,000 \u001b[0m [ \u001b[33m0:04:39\u001b[0m < \u001b[36m0:00:01\u001b[0m , \u001b[31m143 it/s\u001b[0m ]\n",
                  "text/html": "<pre style=\"white-space:pre;overflow-x:auto;line-height:normal;font-family:Menlo,'DejaVu Sans Mono',consolas,'Courier New',monospace\"><span style=\"color: #800080; text-decoration-color: #800080\"> 100%</span> <span style=\"color: #f92672; text-decoration-color: #f92672\">━━━━━━━━━━━━━━━━━━━━━━━━━━━━━━━━━━━━━━━━━━━━━━━━━━━━━━━━━━━━╸</span> <span style=\"color: #008000; text-decoration-color: #008000\">39,989/40,000 </span> [ <span style=\"color: #808000; text-decoration-color: #808000\">0:04:39</span> &lt; <span style=\"color: #008080; text-decoration-color: #008080\">0:00:01</span> , <span style=\"color: #800000; text-decoration-color: #800000\">143 it/s</span> ]\n</pre>\n"
                },
                "metadata": {}
              }
            ]
          }
        },
        "4687aa57edd148cca56d1ea603901819": {
          "model_module": "@jupyter-widgets/base",
          "model_name": "LayoutModel",
          "model_module_version": "1.2.0",
          "state": {
            "_model_module": "@jupyter-widgets/base",
            "_model_module_version": "1.2.0",
            "_model_name": "LayoutModel",
            "_view_count": null,
            "_view_module": "@jupyter-widgets/base",
            "_view_module_version": "1.2.0",
            "_view_name": "LayoutView",
            "align_content": null,
            "align_items": null,
            "align_self": null,
            "border": null,
            "bottom": null,
            "display": null,
            "flex": null,
            "flex_flow": null,
            "grid_area": null,
            "grid_auto_columns": null,
            "grid_auto_flow": null,
            "grid_auto_rows": null,
            "grid_column": null,
            "grid_gap": null,
            "grid_row": null,
            "grid_template_areas": null,
            "grid_template_columns": null,
            "grid_template_rows": null,
            "height": null,
            "justify_content": null,
            "justify_items": null,
            "left": null,
            "margin": null,
            "max_height": null,
            "max_width": null,
            "min_height": null,
            "min_width": null,
            "object_fit": null,
            "object_position": null,
            "order": null,
            "overflow": null,
            "overflow_x": null,
            "overflow_y": null,
            "padding": null,
            "right": null,
            "top": null,
            "visibility": null,
            "width": null
          }
        }
      }
    }
  },
  "nbformat": 4,
  "nbformat_minor": 5
}
{
  "cells": [
    {
      "cell_type": "markdown",
      "metadata": {
        "id": "eHSka2eplp1Y"
      },
      "source": [
        "# TP4 : Reconnaissance de mots isolés par programmation dynamique (DTW)\n",
        "\n",
        "NOM - PRÉNOM :\n",
        "Déposer le notebook sur moodle à la fin de la séance."
      ]
    },
    {
      "cell_type": "code",
      "execution_count": null,
      "metadata": {
        "id": "i0ekrKBYlp1Z"
      },
      "outputs": [],
      "source": [
        "import numpy as np\n",
        "from math import floor, inf, dist\n",
        "import scipy.io.wavfile as wav\n",
        "import os\n",
        "from os.path import isfile, join\n",
        "import matplotlib.pyplot as plt"
      ]
    },
    {
      "cell_type": "markdown",
      "metadata": {
        "id": "I5gj1UIRlp1a"
      },
      "source": [
        "# Réutilisation de fonctions pour la lecture et la paramétrisation"
      ]
    },
    {
      "cell_type": "code",
      "source": [
        "#!unzip SIGNAL.zip"
      ],
      "metadata": {
        "id": "us329Rq0mFJy"
      },
      "execution_count": null,
      "outputs": []
    },
    {
      "cell_type": "code",
      "execution_count": null,
      "metadata": {
        "id": "LA80RcCGlp1b"
      },
      "outputs": [],
      "source": [
        "# Utiliser la fonction \"lecture\" permettant de lire un fichier son et de connaître ses caractéristiques\n",
        "# (fréquence d’échantillonnage, durée).\n",
        "\n",
        "# LECTURE d'un fichier Wave\n",
        "def lecture(fichier, nb_bits):\n",
        "\n",
        "    # Charger un fichier audio\n",
        "    fs, sig = wav.read(fichier)\n",
        "\n",
        "    # Normaliser le signal entre -1 et 1 pour éviter les dépassements dans les calculs\n",
        "    signal = sig / 2 ** (nb_bits - 1)\n",
        "\n",
        "    # Durée du signal (en secondes)\n",
        "    duree = len(signal) / fs\n",
        "\n",
        "    return signal, fs, duree\n"
      ]
    },
    {
      "cell_type": "code",
      "execution_count": null,
      "metadata": {
        "id": "u2UxBRQdlp1b"
      },
      "outputs": [],
      "source": [
        "# Utiliser la fonction \"parametrisation\" qui calcule les paramètres acoustiques\n",
        "# (coefficients cepstraux) d’un fichier sonore sur des fenêtres de taille \"taille_fenetre\" avec un\n",
        "# recouvrement de moitié .\n",
        "\n",
        "# Calcul de \"nbe_coef\" coefficients cepstraux\n",
        "def parametrisation(signal, taille_fenetre, nbe_coef):\n",
        "\n",
        "    # Initialisation de la matrice résultat\n",
        "    recouvrement = floor(taille_fenetre / 2)\n",
        "    nb_fen = floor((np.size(signal) - taille_fenetre) / recouvrement) + 1\n",
        "    mfcc = np.zeros((nb_fen, nbe_coef))\n",
        "\n",
        "    # Calcul des MFCC\n",
        "    for fen in range(nb_fen):\n",
        "        p = fen * recouvrement\n",
        "        spectre = abs(np.fft.fft(np.multiply(signal[p:p + taille_fenetre], np.hamming(taille_fenetre))))\n",
        "        cepstre = np.fft.fft(np.log(spectre))\n",
        "        cc = cepstre[1:nbe_coef+1].real\n",
        "        mfcc[fen, :] = cc\n",
        "\n",
        "    return mfcc\n"
      ]
    },
    {
      "cell_type": "code",
      "execution_count": null,
      "metadata": {
        "id": "DkmaTwr9lp1b"
      },
      "outputs": [],
      "source": [
        "# Ecrire votre fonction \"parametrisation_total\" (utilisant la fonction \"parametrisation\")\n",
        "# afin qu’elle permette de calculer les paramètres pour l’ensemble des fichiers d’un répertoire\n",
        "# \"rep_wav\" et de stocker les résultats dans un répertoire \"rep_mfcc\". Cette fonction renvoie\n",
        "# la liste des noms de fichiers traités.\n",
        "\n",
        "# Fonction de paramétrisation totale --> tous les fichiers du répertoire 'WAV/APP'\n",
        "def parametrisation_total(nb_bits, taille_fenetre, nbe_coef, rep_wav, rep_mfcc):\n",
        "    isExist = os.path.exists(rep_mfcc)\n",
        "    if not isExist:\n",
        "        os.makedirs(rep_mfcc)\n",
        "\n",
        "    for filename in os.listdir(rep_wav):\n",
        "        f = os.path.join(rep_wav, filename)\n",
        "        if os.path.isfile(f):\n",
        "            print(f)\n",
        "            signal, fs, duree = lecture(f, nb_bits)\n",
        "\n",
        "            mfcc_f = parametrisation(signal, taille_fenetre, nbe_coef)\n",
        "            mfcc_name = rep_mfcc + '/' + os.path.basename(filename)\n",
        "            mfcc_name = os.path.splitext(mfcc_name)[0]+'.mfcc'\n",
        "            np.savetxt(mfcc_name, mfcc_f)\n",
        "    print(\"MFCC:\", mfcc_f.shape)\n",
        "\n",
        "    return"
      ]
    },
    {
      "cell_type": "code",
      "source": [
        "# Initialisation\n",
        "q = 16\n",
        "taille_fenetre = 1024\n",
        "nbe_coef = 16\n",
        "rep_ref = 'SIGNAL/REF'\n",
        "rep_mfcc = 'MFCC'\n",
        "\n",
        "parametrisation_total(q, taille_fenetre, nbe_coef, rep_ref, rep_mfcc)"
      ],
      "metadata": {
        "colab": {
          "base_uri": "https://localhost:8080/"
        },
        "id": "iAHVf-qnnzF2",
        "outputId": "3e33abce-af1a-4875-9cf3-3e9178554d07"
      },
      "execution_count": null,
      "outputs": [
        {
          "output_type": "stream",
          "name": "stdout",
          "text": [
            "SIGNAL/REF/bravo.wav\n",
            "SIGNAL/REF/delta.wav\n",
            "SIGNAL/REF/hotel.wav\n",
            "SIGNAL/REF/echo.wav\n",
            "SIGNAL/REF/juliett.wav\n",
            "SIGNAL/REF/foxtrott.wav\n",
            "SIGNAL/REF/charlie.wav\n",
            "SIGNAL/REF/india.wav\n",
            "SIGNAL/REF/alpha.wav\n",
            "SIGNAL/REF/kilo.wav\n",
            "SIGNAL/REF/lima.wav\n",
            "SIGNAL/REF/mike.wav\n",
            "SIGNAL/REF/golf.wav\n",
            "MFCC: (25, 16)\n"
          ]
        }
      ]
    },
    {
      "cell_type": "markdown",
      "metadata": {
        "id": "9yNx2t0clp1c"
      },
      "source": [
        "# Programmation dynamique"
      ]
    },
    {
      "cell_type": "code",
      "execution_count": null,
      "metadata": {
        "id": "Tj7Sr8STlp1c"
      },
      "outputs": [],
      "source": [
        "# Ecrire une fonction \"dtw\" qui prend deux arguments en entrée : la matrice de coefficients\n",
        "# cepstraux du signal à reconnaître (observation) et la matrice de coefficients cepstraux d'un\n",
        "# signal de référence. Cette fonction renvoie le coût normalisé.\n",
        "\n",
        "# Calcul de la DTW entre deux vecteurs\n",
        "\n",
        "def dtw(mfcc_ref, mfcc_obs):\n",
        "    g = np.matrix(np.ones((mfcc_obs.shape[0], mfcc_ref.shape[0])) * np.inf)\n",
        "    g[0,0] = 0\n",
        "\n",
        "    for i in range(1, mfcc_obs.shape[0]):\n",
        "        for j in range (1, mfcc_ref.shape[0]):\n",
        "            dist_ij = np.linalg.norm(mfcc_obs[i,:] - mfcc_ref[j,:])\n",
        "\n",
        "            g[i,j] = min(g[i-1, j] + dist_ij,\n",
        "                            g[i-1, j-1] + 2 * dist_ij,\n",
        "                            g[i, j-1] + dist_ij)\n",
        "\n",
        "    return g[-1, -1] / (mfcc_obs.shape[0] + mfcc_ref.shape[0])\n"
      ]
    },
    {
      "cell_type": "code",
      "source": [
        "#import shutil\n",
        "\n",
        "#shutil.rmtree('MFCC')"
      ],
      "metadata": {
        "id": "fclde36v0Yqv"
      },
      "execution_count": null,
      "outputs": []
    },
    {
      "cell_type": "markdown",
      "source": [
        "ATTENTION IL FAUT GENERER LE MFCC POUR LES REF AVANT MAIS PAS CELUI DES OBS"
      ],
      "metadata": {
        "id": "evte5UN7AVed"
      }
    },
    {
      "cell_type": "code",
      "execution_count": null,
      "metadata": {
        "id": "G3wm-Y5Tlp1c"
      },
      "outputs": [],
      "source": [
        "#Ecrire une fonction \"dtw_total\" (utilisant la fonction \"dtw\") qui calcule la DTW sur toutes\n",
        "# les observations (fichiers Wave) du répertoire \"rep_obs\" par rapport à toutes les références\n",
        "# (fichiers MFCC) du répertoire \"rep_ref\". Cette fonction renvoie une matrice de coûts de taille\n",
        "# nb_fichier_obs x nb_fichier_ref.\n",
        "\n",
        "# DTW sur toutes les observations par rapport à toutes les références\n",
        "def DTW_total(nb_bits, taille_fenetre, nbe_coef, rep_mfcc_ref, rep_wave_obs):\n",
        "    scores = []\n",
        "    for filename in sorted(os.listdir(rep_wave_obs)):\n",
        "        mfccs = []\n",
        "        f_obs = os.path.join(rep_wave_obs, filename)\n",
        "        if os.path.isfile(f_obs):\n",
        "            print(\"Lecture : \",f_obs)\n",
        "            signal, fs, duree = lecture(f_obs, nb_bits)\n",
        "\n",
        "            mfcc_obs = parametrisation(signal, taille_fenetre, nbe_coef)\n",
        "\n",
        "            for filename in sorted(os.listdir(rep_mfcc)):\n",
        "                f_ref = os.path.join(rep_mfcc, filename)\n",
        "                if os.path.isfile(f_ref):\n",
        "                    print(\"fref\", f_ref)\n",
        "                    mfcc_ref = np.loadtxt(f_ref)\n",
        "\n",
        "                    dtw_curr = dtw(mfcc_ref, mfcc_obs)\n",
        "                    mfccs.append(dtw_curr)\n",
        "            scores.append(mfccs.copy())\n",
        "\n",
        "    return np.array(scores)"
      ]
    },
    {
      "cell_type": "markdown",
      "metadata": {
        "id": "igtTA-R_lp1d"
      },
      "source": [
        "# Affichages et tests"
      ]
    },
    {
      "cell_type": "code",
      "execution_count": null,
      "metadata": {
        "id": "9av2mj2Qlp1d"
      },
      "outputs": [],
      "source": [
        "# Ecrire un programme principal qui lance les fonctions précédentes et affiche pour chaque\n",
        "# observation (mot inconnu), le mot le plus probable.\n",
        "\n",
        "# Initialisation\n",
        "q = 16\n",
        "taille_fenetre = 1024\n",
        "nbe_coef = 16\n",
        "rep_ref = 'SIGNAL/REF'\n",
        "rep_obs = 'SIGNAL/OBS'\n",
        "rep_mfcc = 'MFCC'\n"
      ]
    },
    {
      "cell_type": "code",
      "execution_count": null,
      "metadata": {
        "colab": {
          "base_uri": "https://localhost:8080/"
        },
        "id": "KolVNqhGlp1d",
        "outputId": "4629b3ef-ea0d-4487-8a72-da4ac8bdf526"
      },
      "outputs": [
        {
          "output_type": "stream",
          "name": "stdout",
          "text": [
            "SIGNAL/REF/bravo.wav\n",
            "SIGNAL/REF/delta.wav\n",
            "SIGNAL/REF/hotel.wav\n",
            "SIGNAL/REF/echo.wav\n",
            "SIGNAL/REF/juliett.wav\n",
            "SIGNAL/REF/foxtrott.wav\n",
            "SIGNAL/REF/charlie.wav\n",
            "SIGNAL/REF/india.wav\n",
            "SIGNAL/REF/alpha.wav\n",
            "SIGNAL/REF/kilo.wav\n",
            "SIGNAL/REF/lima.wav\n",
            "SIGNAL/REF/mike.wav\n",
            "SIGNAL/REF/golf.wav\n",
            "MFCC: (25, 16)\n",
            "521.8583766298043\n"
          ]
        }
      ],
      "source": [
        "# Paramétrisation des fichiers références\n",
        "import shutil\n",
        "\n",
        "shutil.rmtree('MFCC')\n",
        "parametrisation_total(q, taille_fenetre, nbe_coef, rep_ref, rep_mfcc)\n",
        "\n",
        "\n",
        "# Test de la DTW\n",
        "signal, fs, duree = lecture(\"SIGNAL/OBS/test3.wav\", q)\n",
        "\n",
        "mfcc_obs = parametrisation(signal, taille_fenetre, nbe_coef)\n",
        "\n",
        "signal, fs, duree = lecture(\"SIGNAL/REF/bravo.wav\", q)\n",
        "\n",
        "mfcc_ref = parametrisation(signal, taille_fenetre, nbe_coef)\n",
        "\n",
        "print(dtw(mfcc_obs=mfcc_obs, mfcc_ref=mfcc_ref))\n"
      ]
    },
    {
      "cell_type": "code",
      "execution_count": null,
      "metadata": {
        "colab": {
          "base_uri": "https://localhost:8080/"
        },
        "id": "ZM4gOs1Wlp1d",
        "outputId": "38942424-08a9-4aac-d149-2de56a33d4da"
      },
      "outputs": [
        {
          "output_type": "stream",
          "name": "stdout",
          "text": [
            "Lecture :  SIGNAL/OBS/alpha.wav\n",
            "['alpha.mfcc', 'bravo.mfcc', 'charlie.mfcc', 'delta.mfcc', 'echo.mfcc', 'foxtrott.mfcc', 'golf.mfcc', 'hotel.mfcc', 'india.mfcc', 'juliett.mfcc', 'kilo.mfcc', 'lima.mfcc', 'mike.mfcc']\n",
            "fref MFCC/alpha.mfcc\n",
            "fref MFCC/bravo.mfcc\n",
            "fref MFCC/charlie.mfcc\n",
            "fref MFCC/delta.mfcc\n",
            "fref MFCC/echo.mfcc\n",
            "fref MFCC/foxtrott.mfcc\n",
            "fref MFCC/golf.mfcc\n",
            "fref MFCC/hotel.mfcc\n",
            "fref MFCC/india.mfcc\n",
            "fref MFCC/juliett.mfcc\n",
            "fref MFCC/kilo.mfcc\n",
            "fref MFCC/lima.mfcc\n",
            "fref MFCC/mike.mfcc\n",
            "Lecture :  SIGNAL/OBS/bravo.wav\n",
            "['alpha.mfcc', 'bravo.mfcc', 'charlie.mfcc', 'delta.mfcc', 'echo.mfcc', 'foxtrott.mfcc', 'golf.mfcc', 'hotel.mfcc', 'india.mfcc', 'juliett.mfcc', 'kilo.mfcc', 'lima.mfcc', 'mike.mfcc']\n",
            "fref MFCC/alpha.mfcc\n",
            "fref MFCC/bravo.mfcc\n",
            "fref MFCC/charlie.mfcc\n",
            "fref MFCC/delta.mfcc\n",
            "fref MFCC/echo.mfcc\n",
            "fref MFCC/foxtrott.mfcc\n",
            "fref MFCC/golf.mfcc\n",
            "fref MFCC/hotel.mfcc\n",
            "fref MFCC/india.mfcc\n",
            "fref MFCC/juliett.mfcc\n",
            "fref MFCC/kilo.mfcc\n",
            "fref MFCC/lima.mfcc\n",
            "fref MFCC/mike.mfcc\n",
            "Lecture :  SIGNAL/OBS/charlie.wav\n",
            "['alpha.mfcc', 'bravo.mfcc', 'charlie.mfcc', 'delta.mfcc', 'echo.mfcc', 'foxtrott.mfcc', 'golf.mfcc', 'hotel.mfcc', 'india.mfcc', 'juliett.mfcc', 'kilo.mfcc', 'lima.mfcc', 'mike.mfcc']\n",
            "fref MFCC/alpha.mfcc\n",
            "fref MFCC/bravo.mfcc\n",
            "fref MFCC/charlie.mfcc\n",
            "fref MFCC/delta.mfcc\n",
            "fref MFCC/echo.mfcc\n",
            "fref MFCC/foxtrott.mfcc\n",
            "fref MFCC/golf.mfcc\n",
            "fref MFCC/hotel.mfcc\n",
            "fref MFCC/india.mfcc\n",
            "fref MFCC/juliett.mfcc\n",
            "fref MFCC/kilo.mfcc\n",
            "fref MFCC/lima.mfcc\n",
            "fref MFCC/mike.mfcc\n",
            "Lecture :  SIGNAL/OBS/delta.wav\n",
            "['alpha.mfcc', 'bravo.mfcc', 'charlie.mfcc', 'delta.mfcc', 'echo.mfcc', 'foxtrott.mfcc', 'golf.mfcc', 'hotel.mfcc', 'india.mfcc', 'juliett.mfcc', 'kilo.mfcc', 'lima.mfcc', 'mike.mfcc']\n",
            "fref MFCC/alpha.mfcc\n",
            "fref MFCC/bravo.mfcc\n",
            "fref MFCC/charlie.mfcc\n",
            "fref MFCC/delta.mfcc\n",
            "fref MFCC/echo.mfcc\n",
            "fref MFCC/foxtrott.mfcc\n",
            "fref MFCC/golf.mfcc\n",
            "fref MFCC/hotel.mfcc\n",
            "fref MFCC/india.mfcc\n",
            "fref MFCC/juliett.mfcc\n",
            "fref MFCC/kilo.mfcc\n",
            "fref MFCC/lima.mfcc\n",
            "fref MFCC/mike.mfcc\n",
            "Lecture :  SIGNAL/OBS/echo.wav\n",
            "['alpha.mfcc', 'bravo.mfcc', 'charlie.mfcc', 'delta.mfcc', 'echo.mfcc', 'foxtrott.mfcc', 'golf.mfcc', 'hotel.mfcc', 'india.mfcc', 'juliett.mfcc', 'kilo.mfcc', 'lima.mfcc', 'mike.mfcc']\n",
            "fref MFCC/alpha.mfcc\n",
            "fref MFCC/bravo.mfcc\n",
            "fref MFCC/charlie.mfcc\n",
            "fref MFCC/delta.mfcc\n",
            "fref MFCC/echo.mfcc\n",
            "fref MFCC/foxtrott.mfcc\n",
            "fref MFCC/golf.mfcc\n",
            "fref MFCC/hotel.mfcc\n",
            "fref MFCC/india.mfcc\n",
            "fref MFCC/juliett.mfcc\n",
            "fref MFCC/kilo.mfcc\n",
            "fref MFCC/lima.mfcc\n",
            "fref MFCC/mike.mfcc\n",
            "Lecture :  SIGNAL/OBS/foxtrott.wav\n",
            "['alpha.mfcc', 'bravo.mfcc', 'charlie.mfcc', 'delta.mfcc', 'echo.mfcc', 'foxtrott.mfcc', 'golf.mfcc', 'hotel.mfcc', 'india.mfcc', 'juliett.mfcc', 'kilo.mfcc', 'lima.mfcc', 'mike.mfcc']\n",
            "fref MFCC/alpha.mfcc\n",
            "fref MFCC/bravo.mfcc\n",
            "fref MFCC/charlie.mfcc\n",
            "fref MFCC/delta.mfcc\n",
            "fref MFCC/echo.mfcc\n",
            "fref MFCC/foxtrott.mfcc\n",
            "fref MFCC/golf.mfcc\n",
            "fref MFCC/hotel.mfcc\n",
            "fref MFCC/india.mfcc\n",
            "fref MFCC/juliett.mfcc\n",
            "fref MFCC/kilo.mfcc\n",
            "fref MFCC/lima.mfcc\n",
            "fref MFCC/mike.mfcc\n",
            "Lecture :  SIGNAL/OBS/golf.wav\n",
            "['alpha.mfcc', 'bravo.mfcc', 'charlie.mfcc', 'delta.mfcc', 'echo.mfcc', 'foxtrott.mfcc', 'golf.mfcc', 'hotel.mfcc', 'india.mfcc', 'juliett.mfcc', 'kilo.mfcc', 'lima.mfcc', 'mike.mfcc']\n",
            "fref MFCC/alpha.mfcc\n",
            "fref MFCC/bravo.mfcc\n",
            "fref MFCC/charlie.mfcc\n",
            "fref MFCC/delta.mfcc\n",
            "fref MFCC/echo.mfcc\n",
            "fref MFCC/foxtrott.mfcc\n",
            "fref MFCC/golf.mfcc\n",
            "fref MFCC/hotel.mfcc\n",
            "fref MFCC/india.mfcc\n",
            "fref MFCC/juliett.mfcc\n",
            "fref MFCC/kilo.mfcc\n",
            "fref MFCC/lima.mfcc\n",
            "fref MFCC/mike.mfcc\n",
            "Lecture :  SIGNAL/OBS/hotel.wav\n",
            "['alpha.mfcc', 'bravo.mfcc', 'charlie.mfcc', 'delta.mfcc', 'echo.mfcc', 'foxtrott.mfcc', 'golf.mfcc', 'hotel.mfcc', 'india.mfcc', 'juliett.mfcc', 'kilo.mfcc', 'lima.mfcc', 'mike.mfcc']\n",
            "fref MFCC/alpha.mfcc\n",
            "fref MFCC/bravo.mfcc\n",
            "fref MFCC/charlie.mfcc\n",
            "fref MFCC/delta.mfcc\n",
            "fref MFCC/echo.mfcc\n",
            "fref MFCC/foxtrott.mfcc\n",
            "fref MFCC/golf.mfcc\n",
            "fref MFCC/hotel.mfcc\n",
            "fref MFCC/india.mfcc\n",
            "fref MFCC/juliett.mfcc\n",
            "fref MFCC/kilo.mfcc\n",
            "fref MFCC/lima.mfcc\n",
            "fref MFCC/mike.mfcc\n",
            "Lecture :  SIGNAL/OBS/india.wav\n",
            "['alpha.mfcc', 'bravo.mfcc', 'charlie.mfcc', 'delta.mfcc', 'echo.mfcc', 'foxtrott.mfcc', 'golf.mfcc', 'hotel.mfcc', 'india.mfcc', 'juliett.mfcc', 'kilo.mfcc', 'lima.mfcc', 'mike.mfcc']\n",
            "fref MFCC/alpha.mfcc\n",
            "fref MFCC/bravo.mfcc\n",
            "fref MFCC/charlie.mfcc\n",
            "fref MFCC/delta.mfcc\n",
            "fref MFCC/echo.mfcc\n",
            "fref MFCC/foxtrott.mfcc\n",
            "fref MFCC/golf.mfcc\n",
            "fref MFCC/hotel.mfcc\n",
            "fref MFCC/india.mfcc\n",
            "fref MFCC/juliett.mfcc\n",
            "fref MFCC/kilo.mfcc\n",
            "fref MFCC/lima.mfcc\n",
            "fref MFCC/mike.mfcc\n",
            "Lecture :  SIGNAL/OBS/juliett.wav\n",
            "['alpha.mfcc', 'bravo.mfcc', 'charlie.mfcc', 'delta.mfcc', 'echo.mfcc', 'foxtrott.mfcc', 'golf.mfcc', 'hotel.mfcc', 'india.mfcc', 'juliett.mfcc', 'kilo.mfcc', 'lima.mfcc', 'mike.mfcc']\n",
            "fref MFCC/alpha.mfcc\n",
            "fref MFCC/bravo.mfcc\n",
            "fref MFCC/charlie.mfcc\n",
            "fref MFCC/delta.mfcc\n",
            "fref MFCC/echo.mfcc\n",
            "fref MFCC/foxtrott.mfcc\n",
            "fref MFCC/golf.mfcc\n",
            "fref MFCC/hotel.mfcc\n",
            "fref MFCC/india.mfcc\n",
            "fref MFCC/juliett.mfcc\n",
            "fref MFCC/kilo.mfcc\n",
            "fref MFCC/lima.mfcc\n",
            "fref MFCC/mike.mfcc\n",
            "Lecture :  SIGNAL/OBS/kilo.wav\n",
            "['alpha.mfcc', 'bravo.mfcc', 'charlie.mfcc', 'delta.mfcc', 'echo.mfcc', 'foxtrott.mfcc', 'golf.mfcc', 'hotel.mfcc', 'india.mfcc', 'juliett.mfcc', 'kilo.mfcc', 'lima.mfcc', 'mike.mfcc']\n",
            "fref MFCC/alpha.mfcc\n",
            "fref MFCC/bravo.mfcc\n",
            "fref MFCC/charlie.mfcc\n",
            "fref MFCC/delta.mfcc\n",
            "fref MFCC/echo.mfcc\n",
            "fref MFCC/foxtrott.mfcc\n",
            "fref MFCC/golf.mfcc\n",
            "fref MFCC/hotel.mfcc\n",
            "fref MFCC/india.mfcc\n",
            "fref MFCC/juliett.mfcc\n",
            "fref MFCC/kilo.mfcc\n",
            "fref MFCC/lima.mfcc\n",
            "fref MFCC/mike.mfcc\n",
            "Lecture :  SIGNAL/OBS/lima.wav\n",
            "['alpha.mfcc', 'bravo.mfcc', 'charlie.mfcc', 'delta.mfcc', 'echo.mfcc', 'foxtrott.mfcc', 'golf.mfcc', 'hotel.mfcc', 'india.mfcc', 'juliett.mfcc', 'kilo.mfcc', 'lima.mfcc', 'mike.mfcc']\n",
            "fref MFCC/alpha.mfcc\n",
            "fref MFCC/bravo.mfcc\n",
            "fref MFCC/charlie.mfcc\n",
            "fref MFCC/delta.mfcc\n",
            "fref MFCC/echo.mfcc\n",
            "fref MFCC/foxtrott.mfcc\n",
            "fref MFCC/golf.mfcc\n",
            "fref MFCC/hotel.mfcc\n",
            "fref MFCC/india.mfcc\n",
            "fref MFCC/juliett.mfcc\n",
            "fref MFCC/kilo.mfcc\n",
            "fref MFCC/lima.mfcc\n",
            "fref MFCC/mike.mfcc\n",
            "Lecture :  SIGNAL/OBS/mike.wav\n",
            "['alpha.mfcc', 'bravo.mfcc', 'charlie.mfcc', 'delta.mfcc', 'echo.mfcc', 'foxtrott.mfcc', 'golf.mfcc', 'hotel.mfcc', 'india.mfcc', 'juliett.mfcc', 'kilo.mfcc', 'lima.mfcc', 'mike.mfcc']\n",
            "fref MFCC/alpha.mfcc\n",
            "fref MFCC/bravo.mfcc\n",
            "fref MFCC/charlie.mfcc\n",
            "fref MFCC/delta.mfcc\n",
            "fref MFCC/echo.mfcc\n",
            "fref MFCC/foxtrott.mfcc\n",
            "fref MFCC/golf.mfcc\n",
            "fref MFCC/hotel.mfcc\n",
            "fref MFCC/india.mfcc\n",
            "fref MFCC/juliett.mfcc\n",
            "fref MFCC/kilo.mfcc\n",
            "fref MFCC/lima.mfcc\n",
            "fref MFCC/mike.mfcc\n",
            "Lecture :  SIGNAL/OBS/test3.wav\n",
            "['alpha.mfcc', 'bravo.mfcc', 'charlie.mfcc', 'delta.mfcc', 'echo.mfcc', 'foxtrott.mfcc', 'golf.mfcc', 'hotel.mfcc', 'india.mfcc', 'juliett.mfcc', 'kilo.mfcc', 'lima.mfcc', 'mike.mfcc']\n",
            "fref MFCC/alpha.mfcc\n",
            "fref MFCC/bravo.mfcc\n",
            "fref MFCC/charlie.mfcc\n",
            "fref MFCC/delta.mfcc\n",
            "fref MFCC/echo.mfcc\n",
            "fref MFCC/foxtrott.mfcc\n",
            "fref MFCC/golf.mfcc\n",
            "fref MFCC/hotel.mfcc\n",
            "fref MFCC/india.mfcc\n",
            "fref MFCC/juliett.mfcc\n",
            "fref MFCC/kilo.mfcc\n",
            "fref MFCC/lima.mfcc\n",
            "fref MFCC/mike.mfcc\n"
          ]
        }
      ],
      "source": [
        "# DTW sur toutes les observations par rapport à chaque référence\n",
        "\n",
        "# Affichage des couts\n",
        "mat_dtw = DTW_total(q, taille_fenetre, nbe_coef, rep_mfcc, rep_obs)"
      ]
    },
    {
      "cell_type": "markdown",
      "source": [
        "Pour l'eval entre un et deux fichiers marchent tjrs !"
      ],
      "metadata": {
        "id": "WPqLnjCE9Fdx"
      }
    },
    {
      "cell_type": "code",
      "execution_count": null,
      "metadata": {
        "id": "eSJdhfOFlp1e"
      },
      "outputs": [],
      "source": [
        "# Affichage score final\n",
        "def display_res(dtw_matrix):\n",
        "    for i, preds in enumerate(dtw_matrix):\n",
        "        min_pred = np.min(preds)\n",
        "        nb_min = np.argmin(preds)\n",
        "\n",
        "        print(\"Observation \", i, \"=======> \", nb_min, \"Score : \", min_pred)"
      ]
    },
    {
      "cell_type": "code",
      "source": [
        "display_res(mat_dtw)"
      ],
      "metadata": {
        "colab": {
          "base_uri": "https://localhost:8080/"
        },
        "id": "VNQJaNlZO5Be",
        "outputId": "cefdc51b-13c7-4f9c-b42f-bb388a87dbbe"
      },
      "execution_count": null,
      "outputs": [
        {
          "output_type": "stream",
          "name": "stdout",
          "text": [
            "Observation  0 =======>  0 Score :  282.13830241323564\n",
            "Observation  1 =======>  1 Score :  290.7117207685173\n",
            "Observation  2 =======>  12 Score :  392.42224392979375\n",
            "Observation  3 =======>  3 Score :  293.56791217187305\n",
            "Observation  4 =======>  4 Score :  274.56206483859046\n",
            "Observation  5 =======>  5 Score :  414.99405874935275\n",
            "Observation  6 =======>  6 Score :  285.2098742633588\n",
            "Observation  7 =======>  7 Score :  333.80048579931923\n",
            "Observation  8 =======>  8 Score :  262.58322964153626\n",
            "Observation  9 =======>  9 Score :  397.3656187994584\n",
            "Observation  10 =======>  10 Score :  301.95714211261367\n",
            "Observation  11 =======>  11 Score :  253.86733119743226\n",
            "Observation  12 =======>  12 Score :  279.90646943798254\n",
            "Observation  13 =======>  5 Score :  414.99405874935275\n"
          ]
        }
      ]
    }
  ],
  "metadata": {
    "kernelspec": {
      "display_name": "Python 3",
      "language": "python",
      "name": "python3"
    },
    "language_info": {
      "codemirror_mode": {
        "name": "ipython",
        "version": 3
      },
      "file_extension": ".py",
      "mimetype": "text/x-python",
      "name": "python",
      "nbconvert_exporter": "python",
      "pygments_lexer": "ipython3",
      "version": "3.9.4"
    },
    "colab": {
      "provenance": []
    }
  },
  "nbformat": 4,
  "nbformat_minor": 0
}